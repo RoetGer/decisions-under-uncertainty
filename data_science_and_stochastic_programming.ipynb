{
  "nbformat": 4,
  "nbformat_minor": 0,
  "metadata": {
    "colab": {
      "name": "data_science_and_stochastic_programming.ipynb",
      "provenance": [],
      "collapsed_sections": [],
      "authorship_tag": "ABX9TyOBYu71CX/534Lnuv05lFlA",
      "include_colab_link": true
    },
    "kernelspec": {
      "name": "python3",
      "display_name": "Python 3"
    }
  },
  "cells": [
    {
      "cell_type": "markdown",
      "metadata": {
        "id": "view-in-github",
        "colab_type": "text"
      },
      "source": [
        "<a href=\"https://colab.research.google.com/github/RoetGer/decisions-under-uncertainty/blob/main/data_science_and_stochastic_programming.ipynb\" target=\"_parent\"><img src=\"https://colab.research.google.com/assets/colab-badge.svg\" alt=\"Open In Colab\"/></a>"
      ]
    },
    {
      "cell_type": "code",
      "metadata": {
        "colab": {
          "base_uri": "https://localhost:8080/"
        },
        "id": "TCh0ZunZ8y7d",
        "outputId": "8726a78c-b2f0-4fe7-91f1-e56f7815f2a4"
      },
      "source": [
        "!pip install cvxpy\r\n",
        "!pip install cvxstoc"
      ],
      "execution_count": 1,
      "outputs": [
        {
          "output_type": "stream",
          "text": [
            "Requirement already satisfied: cvxpy in /usr/local/lib/python3.7/dist-packages (1.0.31)\n",
            "Requirement already satisfied: scs>=1.1.3 in /usr/local/lib/python3.7/dist-packages (from cvxpy) (2.1.2)\n",
            "Requirement already satisfied: numpy>=1.15 in /usr/local/lib/python3.7/dist-packages (from cvxpy) (1.19.5)\n",
            "Requirement already satisfied: scipy>=1.1.0 in /usr/local/lib/python3.7/dist-packages (from cvxpy) (1.4.1)\n",
            "Requirement already satisfied: osqp>=0.4.1 in /usr/local/lib/python3.7/dist-packages (from cvxpy) (0.6.2.post0)\n",
            "Requirement already satisfied: multiprocess in /usr/local/lib/python3.7/dist-packages (from cvxpy) (0.70.11.1)\n",
            "Requirement already satisfied: ecos>=2 in /usr/local/lib/python3.7/dist-packages (from cvxpy) (2.0.7.post1)\n",
            "Requirement already satisfied: qdldl in /usr/local/lib/python3.7/dist-packages (from osqp>=0.4.1->cvxpy) (0.1.5.post0)\n",
            "Requirement already satisfied: dill>=0.3.3 in /usr/local/lib/python3.7/dist-packages (from multiprocess->cvxpy) (0.3.3)\n",
            "Collecting cvxstoc\n",
            "  Downloading https://files.pythonhosted.org/packages/ad/0d/6e47ddb7c55a35c765dc6ddad5b4cc9ade7a0b90fbfa692bf1120819b1d4/cvxstoc-0.2.2-py3-none-any.whl\n",
            "Collecting pymc>=2.3.4\n",
            "\u001b[?25l  Downloading https://files.pythonhosted.org/packages/37/81/9a222c38c65019de9ad5a1ee2448cc4a9b5f7a64eeaf246c77f81c0e6f94/pymc-2.3.8.tar.gz (385kB)\n",
            "\u001b[K     |████████████████████████████████| 389kB 4.5MB/s \n",
            "\u001b[?25hRequirement already satisfied: numpy>=1.10 in /usr/local/lib/python3.7/dist-packages (from cvxstoc) (1.19.5)\n",
            "Requirement already satisfied: cvxpy>=0.3.5 in /usr/local/lib/python3.7/dist-packages (from cvxstoc) (1.0.31)\n",
            "Requirement already satisfied: scipy>=0.16 in /usr/local/lib/python3.7/dist-packages (from cvxstoc) (1.4.1)\n",
            "Requirement already satisfied: multiprocess in /usr/local/lib/python3.7/dist-packages (from cvxpy>=0.3.5->cvxstoc) (0.70.11.1)\n",
            "Requirement already satisfied: ecos>=2 in /usr/local/lib/python3.7/dist-packages (from cvxpy>=0.3.5->cvxstoc) (2.0.7.post1)\n",
            "Requirement already satisfied: osqp>=0.4.1 in /usr/local/lib/python3.7/dist-packages (from cvxpy>=0.3.5->cvxstoc) (0.6.2.post0)\n",
            "Requirement already satisfied: scs>=1.1.3 in /usr/local/lib/python3.7/dist-packages (from cvxpy>=0.3.5->cvxstoc) (2.1.2)\n",
            "Requirement already satisfied: dill>=0.3.3 in /usr/local/lib/python3.7/dist-packages (from multiprocess->cvxpy>=0.3.5->cvxstoc) (0.3.3)\n",
            "Requirement already satisfied: qdldl in /usr/local/lib/python3.7/dist-packages (from osqp>=0.4.1->cvxpy>=0.3.5->cvxstoc) (0.1.5.post0)\n",
            "Building wheels for collected packages: pymc\n",
            "  Building wheel for pymc (setup.py) ... \u001b[?25l\u001b[?25hdone\n",
            "  Created wheel for pymc: filename=pymc-2.3.8-cp37-cp37m-linux_x86_64.whl size=1352878 sha256=096f5934f670733b3422009de16e49cdcd5105a676d183f579a329ae53734eaf\n",
            "  Stored in directory: /root/.cache/pip/wheels/0b/a8/e7/8f3ba91a39294d538a92db052fd1fcba1fca74a58c8b022026\n",
            "Successfully built pymc\n",
            "Installing collected packages: pymc, cvxstoc\n",
            "Successfully installed cvxstoc-0.2.2 pymc-2.3.8\n"
          ],
          "name": "stdout"
        }
      ]
    },
    {
      "cell_type": "markdown",
      "metadata": {
        "id": "0sNQucfT9mRQ"
      },
      "source": [
        "# Data Science and Stochastic Programming\r\n",
        "\r\n",
        "In this notebook we explore, how stochastic programming can be used to incorporate uncertainty stemming from data science models into our decision making process."
      ]
    },
    {
      "cell_type": "code",
      "metadata": {
        "colab": {
          "base_uri": "https://localhost:8080/"
        },
        "id": "2ON_lsQHJpWk",
        "outputId": "83724ba5-a48b-40e9-9c6e-f2ab652102f0"
      },
      "source": [
        "from cvxstoc import NormalRandomVariable, expectation, prob\r\n",
        "from cvxpy import Maximize, Problem\r\n",
        "from cvxpy.expressions.variable import Variable\r\n",
        "import numpy as np\r\n",
        "\r\n",
        "# Samples to be taken\r\n",
        "num_samples = 100\r\n",
        "\r\n",
        "# Create problem data.\r\n",
        "n = 10\r\n",
        "mu = np.zeros(n)\r\n",
        "Sigma = 0.1*np.eye(n)\r\n",
        "p = NormalRandomVariable(mu, Sigma)\r\n",
        "alpha = -1\r\n",
        "beta = 0.05\r\n",
        "\r\n",
        "# Create and solve stochastic optimization problem.\r\n",
        "x = Variable(n)\r\n",
        "p = Problem(\r\n",
        "    Maximize(expectation(x.T*p, num_samples=num_samples)),\r\n",
        "    [\r\n",
        "      x >= 0, \r\n",
        "      x.T*np.ones(n) == 1,\r\n",
        "      prob(x.T*p <= alpha, num_samples=num_samples) <= beta\r\n",
        "    ]\r\n",
        ")\r\n",
        "\r\n",
        "p.solve()"
      ],
      "execution_count": 2,
      "outputs": [
        {
          "output_type": "stream",
          "text": [
            "/usr/local/lib/python3.7/dist-packages/statsmodels/tools/_testing.py:19: FutureWarning: pandas.util.testing is deprecated. Use the functions in the public API at pandas.testing instead.\n",
            "  import pandas.util.testing as tm\n",
            "/usr/local/lib/python3.7/dist-packages/pymc/MCMC.py:81: UserWarning: Instantiating a Model object directly is deprecated. We recommend passing variables directly to the Model subclass.\n",
            "  warnings.warn(message)\n"
          ],
          "name": "stderr"
        },
        {
          "output_type": "execute_result",
          "data": {
            "text/plain": [
              "0.07730511150342165"
            ]
          },
          "metadata": {
            "tags": []
          },
          "execution_count": 2
        }
      ]
    },
    {
      "cell_type": "code",
      "metadata": {
        "id": "U-ZbjxncLtK5"
      },
      "source": [
        "?expectation"
      ],
      "execution_count": 3,
      "outputs": []
    },
    {
      "cell_type": "code",
      "metadata": {
        "id": "DkhayEIoL2fS"
      },
      "source": [
        "from cvxstoc import RandomVariable, RandomVariableFactory"
      ],
      "execution_count": 6,
      "outputs": []
    },
    {
      "cell_type": "code",
      "metadata": {
        "id": "ZbFBsENTL4N4"
      },
      "source": [
        "??cvxstoc"
      ],
      "execution_count": 5,
      "outputs": []
    },
    {
      "cell_type": "code",
      "metadata": {
        "id": "-93RmMYBL-Hy"
      },
      "source": [
        "??RandomVariable"
      ],
      "execution_count": 4,
      "outputs": []
    },
    {
      "cell_type": "code",
      "metadata": {
        "id": "td4kqdsGQvky"
      },
      "source": [
        "??NormalRandomVariable"
      ],
      "execution_count": 21,
      "outputs": []
    },
    {
      "cell_type": "code",
      "metadata": {
        "id": "4Yl3Jp4dQ2d6"
      },
      "source": [
        "??RandomVariableFactory"
      ],
      "execution_count": 18,
      "outputs": []
    },
    {
      "cell_type": "code",
      "metadata": {
        "id": "bs6InnJ9RL-m"
      },
      "source": [
        "import cvxstoc"
      ],
      "execution_count": 9,
      "outputs": []
    },
    {
      "cell_type": "code",
      "metadata": {
        "id": "x1AvQ_d7Ro3B"
      },
      "source": [
        "??RandomVariableFactory.create_normal_rv"
      ],
      "execution_count": 20,
      "outputs": []
    },
    {
      "cell_type": "code",
      "metadata": {
        "id": "-JzpuzQzTFQe"
      },
      "source": [
        "import pymc"
      ],
      "execution_count": 14,
      "outputs": []
    },
    {
      "cell_type": "code",
      "metadata": {
        "id": "62kobfkIVYMY"
      },
      "source": [
        "??pymc.Normal"
      ],
      "execution_count": 24,
      "outputs": []
    },
    {
      "cell_type": "code",
      "metadata": {
        "colab": {
          "base_uri": "https://localhost:8080/"
        },
        "id": "5YFhIP23THwg",
        "outputId": "f72251a9-bfd3-41f2-ee85-3f8231b94ed5"
      },
      "source": [
        "pymc.Normal(name=\"blub\", mu=2., tau=1., size=(3,))"
      ],
      "execution_count": 15,
      "outputs": [
        {
          "output_type": "execute_result",
          "data": {
            "text/plain": [
              "<pymc.distributions.new_dist_class.<locals>.new_class 'blub' at 0x7f7c9249aad0>"
            ]
          },
          "metadata": {
            "tags": []
          },
          "execution_count": 15
        }
      ]
    },
    {
      "cell_type": "code",
      "metadata": {
        "id": "72y8ZngwTaTf"
      },
      "source": [
        "??RandomVariable"
      ],
      "execution_count": 16,
      "outputs": []
    },
    {
      "cell_type": "code",
      "metadata": {
        "id": "RtGEWEUQTmaZ"
      },
      "source": [
        "def EmpiricalRandomVariable(samples):\r\n",
        "    return create_empirical_rv(samples)\r\n",
        "\r\n",
        "def create_empirical_rv(samples):\r\n",
        "    rv_name = \"empiricial_placeholder\"\r\n",
        "\r\n",
        "    metadata = {\r\n",
        "        \"mu\": np.mean(samples)\r\n",
        "    }\r\n",
        "\r\n",
        "    \r\n"
      ],
      "execution_count": null,
      "outputs": []
    },
    {
      "cell_type": "code",
      "metadata": {
        "colab": {
          "base_uri": "https://localhost:8080/"
        },
        "id": "LaDDyuCwVKIx",
        "outputId": "697ce4d1-1e75-49ac-aafe-e63056cb7368"
      },
      "source": [
        "dir(pymc)"
      ],
      "execution_count": 22,
      "outputs": [
        {
          "output_type": "execute_result",
          "data": {
            "text/plain": [
              "['AdaptiveMetropolis',\n",
              " 'ArrayContainer',\n",
              " 'Bernoulli',\n",
              " 'Beta',\n",
              " 'Betabin',\n",
              " 'BinaryMetropolis',\n",
              " 'Binomial',\n",
              " 'Categorical',\n",
              " 'Cauchy',\n",
              " 'Chi2',\n",
              " 'CircVonMises',\n",
              " 'CircularStochastic',\n",
              " 'CommonDeterministics',\n",
              " 'CompletedDirichlet',\n",
              " 'Container',\n",
              " 'ContainerBase',\n",
              " 'ContainerMeta',\n",
              " 'ContainerRegistry',\n",
              " 'Container_values',\n",
              " 'Degenerate',\n",
              " 'Deterministic',\n",
              " 'DeterministicBase',\n",
              " 'DeterministicMeta',\n",
              " 'DeterministicRegistry',\n",
              " 'DictContainer',\n",
              " 'Dirichlet',\n",
              " 'DiscreteMetropolis',\n",
              " 'DiscreteUniform',\n",
              " 'DiscreteUninformative',\n",
              " 'DrawFromPrior',\n",
              " 'Exponential',\n",
              " 'Exponweib',\n",
              " 'GOFpoints',\n",
              " 'Gamma',\n",
              " 'Geometric',\n",
              " 'Gibbs',\n",
              " 'HalfCauchy',\n",
              " 'HalfNormal',\n",
              " 'Histogram',\n",
              " 'Hypergeometric',\n",
              " 'Impute',\n",
              " 'ImputeMissing',\n",
              " 'Index',\n",
              " 'InstantiationDecorators',\n",
              " 'InvLogit',\n",
              " 'InverseGamma',\n",
              " 'Lambda',\n",
              " 'Laplace',\n",
              " 'LazyFunction',\n",
              " 'LinearCombination',\n",
              " 'ListContainer',\n",
              " 'Logistic',\n",
              " 'Logit',\n",
              " 'Lognormal',\n",
              " 'MAP',\n",
              " 'MCMC',\n",
              " 'Matplot',\n",
              " 'Metropolis',\n",
              " 'Model',\n",
              " 'Multinomial',\n",
              " 'MultivariateHypergeometric',\n",
              " 'MvNormal',\n",
              " 'MvNormalChol',\n",
              " 'MvNormalCov',\n",
              " 'NegativeBinomial',\n",
              " 'NoStepper',\n",
              " 'Node',\n",
              " 'NoncentralT',\n",
              " 'NormApprox',\n",
              " 'NormApproxC',\n",
              " 'NormApproxMu',\n",
              " 'Normal',\n",
              " 'NormalApproximation',\n",
              " 'NumpyDeterministics',\n",
              " 'ObjectContainer',\n",
              " 'OneOverX',\n",
              " 'PDMatrixMetropolis',\n",
              " 'ParentDict',\n",
              " 'Pareto',\n",
              " 'Poisson',\n",
              " 'Potential',\n",
              " 'PotentialBase',\n",
              " 'PotentialMeta',\n",
              " 'PotentialRegistry',\n",
              " 'PyMCObjects',\n",
              " 'Sampler',\n",
              " 'ScipyDistributions',\n",
              " 'SetContainer',\n",
              " 'SkewNormal',\n",
              " 'Slicer',\n",
              " 'StepMethod',\n",
              " 'StepMethodRegistry',\n",
              " 'StepMethods',\n",
              " 'Stochastic',\n",
              " 'StochasticBase',\n",
              " 'StochasticMeta',\n",
              " 'StochasticRegistry',\n",
              " 'StukelInvLogit',\n",
              " 'StukelLogit',\n",
              " 'T',\n",
              " 'TruncatedNormal',\n",
              " 'TruncatedPareto',\n",
              " 'TruncatedPoisson',\n",
              " 'TupleContainer',\n",
              " 'UnboundMethodType',\n",
              " 'Uniform',\n",
              " 'Uninformative',\n",
              " 'Variable',\n",
              " 'VonMises',\n",
              " 'Weibull',\n",
              " 'Wishart',\n",
              " 'WishartCov',\n",
              " 'WorkRequest',\n",
              " 'ZeroProbability',\n",
              " '__PyMCExcInfo__',\n",
              " '__PyMCLock__',\n",
              " '__PyMCThreadPool__',\n",
              " '__builtins__',\n",
              " '__cached__',\n",
              " '__doc__',\n",
              " '__file__',\n",
              " '__loader__',\n",
              " '__name__',\n",
              " '__package__',\n",
              " '__path__',\n",
              " '__spec__',\n",
              " '__version__',\n",
              " 'abs',\n",
              " 'absolute_loss',\n",
              " 'all',\n",
              " 'any',\n",
              " 'append',\n",
              " 'arccos',\n",
              " 'arccosh',\n",
              " 'arcsin',\n",
              " 'arcsinh',\n",
              " 'arctan',\n",
              " 'arctan2',\n",
              " 'arctanh',\n",
              " 'arlognormal_like',\n",
              " 'assign_method',\n",
              " 'availabledistributions',\n",
              " 'bernoulli_expval',\n",
              " 'bernoulli_grad_like',\n",
              " 'bernoulli_like',\n",
              " 'beta_expval',\n",
              " 'beta_grad_like',\n",
              " 'beta_like',\n",
              " 'betabin_expval',\n",
              " 'betabin_grad_like',\n",
              " 'betabin_like',\n",
              " 'bind_size',\n",
              " 'binomial_expval',\n",
              " 'binomial_grad_like',\n",
              " 'binomial_like',\n",
              " 'calc_utils',\n",
              " 'capitalize',\n",
              " 'categorical_like',\n",
              " 'cauchy_expval',\n",
              " 'cauchy_grad_like',\n",
              " 'cauchy_like',\n",
              " 'check_special_methods',\n",
              " 'chi2_expval',\n",
              " 'chi2_grad_like',\n",
              " 'chi2_like',\n",
              " 'chi_square_loss',\n",
              " 'conjugate_Gibbs_competence',\n",
              " 'constrain',\n",
              " 'copy',\n",
              " 'cos',\n",
              " 'cosh',\n",
              " 'data',\n",
              " 'database',\n",
              " 'datatypes',\n",
              " 'debug_wrapper',\n",
              " 'decorators',\n",
              " 'degenerate_expval',\n",
              " 'degenerate_like',\n",
              " 'deterministic',\n",
              " 'dexponential_expval',\n",
              " 'dexponential_grad_like',\n",
              " 'dexponential_like',\n",
              " 'diagnostics',\n",
              " 'dirichlet_expval',\n",
              " 'dirichlet_like',\n",
              " 'disable_special_methods',\n",
              " 'discrepancy',\n",
              " 'discrete_uniform_expval',\n",
              " 'discrete_uniform_like',\n",
              " 'dist',\n",
              " 'distributions',\n",
              " 'dtrm',\n",
              " 'effective_n',\n",
              " 'enable_special_methods',\n",
              " 'exp',\n",
              " 'expand_triangular',\n",
              " 'expm1',\n",
              " 'exponential_expval',\n",
              " 'exponential_grad_like',\n",
              " 'exponential_like',\n",
              " 'exponweib_expval',\n",
              " 'exponweib_like',\n",
              " 'extend_children',\n",
              " 'extend_dirichlet',\n",
              " 'extend_parents',\n",
              " 'flib',\n",
              " 'gamma_expval',\n",
              " 'gamma_grad_like',\n",
              " 'gamma_like',\n",
              " 'gammaln',\n",
              " 'gaussian_kde',\n",
              " 'gelman_rubin',\n",
              " 'geometric_expval',\n",
              " 'geometric_grad_like',\n",
              " 'geometric_like',\n",
              " 'get_threadpool_size',\n",
              " 'gev_expval',\n",
              " 'gev_like',\n",
              " 'geweke',\n",
              " 'gofwrapper',\n",
              " 'gp',\n",
              " 'graph',\n",
              " 'half_cauchy_expval',\n",
              " 'half_cauchy_like',\n",
              " 'half_normal_expval',\n",
              " 'half_normal_grad_like',\n",
              " 'half_normal_like',\n",
              " 'hypergeometric_expval',\n",
              " 'hypergeometric_like',\n",
              " 'hypot',\n",
              " 'iat',\n",
              " 'inf',\n",
              " 'inspect',\n",
              " 'inverse',\n",
              " 'inverse_gamma_expval',\n",
              " 'inverse_gamma_grad_like',\n",
              " 'inverse_gamma_like',\n",
              " 'invlogit',\n",
              " 'itertools',\n",
              " 'lam_dtrm',\n",
              " 'lambda_deterministic',\n",
              " 'laplace_expval',\n",
              " 'laplace_grad_like',\n",
              " 'laplace_like',\n",
              " 'likelihoods',\n",
              " 'local_decorated_likelihoods',\n",
              " 'log',\n",
              " 'log1p',\n",
              " 'logistic_expval',\n",
              " 'logistic_like',\n",
              " 'logit',\n",
              " 'lognormal_expval',\n",
              " 'lognormal_grad_like',\n",
              " 'lognormal_like',\n",
              " 'logp_gradient',\n",
              " 'logp_gradient_of_set',\n",
              " 'logp_of_set',\n",
              " 'loss_functions',\n",
              " 'map_noreturn',\n",
              " 'mod_categorical_expval',\n",
              " 'mod_categorical_like',\n",
              " 'mod_multinom_like',\n",
              " 'mod_rmultinom',\n",
              " 'multinomial_expval',\n",
              " 'multinomial_like',\n",
              " 'multivariate_hypergeometric_expval',\n",
              " 'multivariate_hypergeometric_like',\n",
              " 'mv_continuous_distributions',\n",
              " 'mv_discrete_distributions',\n",
              " 'mv_nonnegative_distributions',\n",
              " 'mv_normal_chol_expval',\n",
              " 'mv_normal_chol_like',\n",
              " 'mv_normal_cov_expval',\n",
              " 'mv_normal_cov_like',\n",
              " 'mv_normal_expval',\n",
              " 'mv_normal_like',\n",
              " 'name',\n",
              " 'name_to_funcs',\n",
              " 'negative_binomial_expval',\n",
              " 'negative_binomial_grad_like',\n",
              " 'negative_binomial_like',\n",
              " 'new_dist_class',\n",
              " 'noncentral_t_expval',\n",
              " 'noncentral_t_like',\n",
              " 'nonconjugate_Gibbs_competence',\n",
              " 'normal_expval',\n",
              " 'normal_grad_like',\n",
              " 'normal_like',\n",
              " 'np',\n",
              " 'numpy',\n",
              " 'obj',\n",
              " 'observed',\n",
              " 'one_over_x_like',\n",
              " 'os',\n",
              " 'pareto_expval',\n",
              " 'pareto_like',\n",
              " 'pdb',\n",
              " 'pfunc',\n",
              " 'pi',\n",
              " 'pick_best_methods',\n",
              " 'poiscdf',\n",
              " 'poisson_expval',\n",
              " 'poisson_grad_like',\n",
              " 'poisson_like',\n",
              " 'pot',\n",
              " 'potential',\n",
              " 'ppp_value',\n",
              " 'print_',\n",
              " 'progressbar',\n",
              " 'pymc',\n",
              " 'raftery_lewis',\n",
              " 'random_number',\n",
              " 'randomwrap',\n",
              " 'rarlognormal',\n",
              " 'rbernoulli',\n",
              " 'rbeta',\n",
              " 'rbetabin',\n",
              " 'rbinomial',\n",
              " 'rcategorical',\n",
              " 'rcauchy',\n",
              " 'rchi2',\n",
              " 'rdegenerate',\n",
              " 'rdexponential',\n",
              " 'rdirichlet',\n",
              " 'rdiscrete_uniform',\n",
              " 'rexponential',\n",
              " 'rexponweib',\n",
              " 'rgamma',\n",
              " 'rgeometric',\n",
              " 'rgev',\n",
              " 'rhalf_cauchy',\n",
              " 'rhalf_normal',\n",
              " 'rhypergeometric',\n",
              " 'rinverse_gamma',\n",
              " 'rlaplace',\n",
              " 'rlogistic',\n",
              " 'rlognormal',\n",
              " 'rmod_categor',\n",
              " 'rmultinomial',\n",
              " 'rmultivariate_hypergeometric',\n",
              " 'rmv_normal',\n",
              " 'rmv_normal_chol',\n",
              " 'rmv_normal_cov',\n",
              " 'rnegative_binomial',\n",
              " 'rnoncentral_t',\n",
              " 'rnormal',\n",
              " 'robust_init',\n",
              " 'rpareto',\n",
              " 'rpoisson',\n",
              " 'rskew_normal',\n",
              " 'rt',\n",
              " 'rtruncated_normal',\n",
              " 'rtruncated_pareto',\n",
              " 'rtruncated_poisson',\n",
              " 'rtruncnorm',\n",
              " 'runiform',\n",
              " 'rvon_mises',\n",
              " 'rweibull',\n",
              " 'rwishart',\n",
              " 'rwishart_cov',\n",
              " 'sc_bool_distributions',\n",
              " 'sc_continuous_distributions',\n",
              " 'sc_discrete_distributions',\n",
              " 'sc_nonnegative_distributions',\n",
              " 'set_threadpool_size',\n",
              " 'sin',\n",
              " 'sinh',\n",
              " 'six',\n",
              " 'skew_normal_expval',\n",
              " 'skew_normal_like',\n",
              " 'snapshot',\n",
              " 'sqrt',\n",
              " 'squared_loss',\n",
              " 'standardize',\n",
              " 'stats',\n",
              " 'stoch',\n",
              " 'stochastic',\n",
              " 'stochastic_from_data',\n",
              " 'stochastic_from_dist',\n",
              " 'stukel_invlogit',\n",
              " 'stukel_logit',\n",
              " 'sum',\n",
              " 'sys',\n",
              " 't_expval',\n",
              " 't_grad_like',\n",
              " 't_grad_setup',\n",
              " 't_like',\n",
              " 't_normal_grad_mu',\n",
              " 't_normal_grad_tau',\n",
              " 't_normal_grad_x',\n",
              " 'tan',\n",
              " 'tanh',\n",
              " 'test',\n",
              " 'tests',\n",
              " 'thread_partition_array',\n",
              " 'threadpool',\n",
              " 'truncated_normal_expval',\n",
              " 'truncated_normal_like',\n",
              " 'truncated_pareto_expval',\n",
              " 'truncated_pareto_like',\n",
              " 'truncated_poisson_expval',\n",
              " 'truncated_poisson_grad_like',\n",
              " 'truncated_poisson_like',\n",
              " 'truncnorm_expval',\n",
              " 'truncnorm_like',\n",
              " 'types',\n",
              " 'uniform_expval',\n",
              " 'uniform_grad_like',\n",
              " 'uniform_like',\n",
              " 'uninformative_like',\n",
              " 'utils',\n",
              " 'validate',\n",
              " 'valuewrapper',\n",
              " 'von_mises_expval',\n",
              " 'von_mises_like',\n",
              " 'warnings',\n",
              " 'weibull_expval',\n",
              " 'weibull_grad_like',\n",
              " 'weibull_like',\n",
              " 'wishart_cov_expval',\n",
              " 'wishart_cov_like',\n",
              " 'wishart_expval',\n",
              " 'wishart_like',\n",
              " 'xrange']"
            ]
          },
          "metadata": {
            "tags": []
          },
          "execution_count": 22
        }
      ]
    }
  ]
}