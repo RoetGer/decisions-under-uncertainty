{
  "nbformat": 4,
  "nbformat_minor": 0,
  "metadata": {
    "colab": {
      "name": "data_science_and_stochastic_programming.ipynb",
      "provenance": [],
      "collapsed_sections": [],
      "authorship_tag": "ABX9TyNgYoAfqZbbZ6F9tHxYo7+t",
      "include_colab_link": true
    },
    "kernelspec": {
      "name": "python3",
      "display_name": "Python 3"
    }
  },
  "cells": [
    {
      "cell_type": "markdown",
      "metadata": {
        "id": "view-in-github",
        "colab_type": "text"
      },
      "source": [
        "<a href=\"https://colab.research.google.com/github/RoetGer/decisions-under-uncertainty/blob/main/data_science_and_stochastic_programming.ipynb\" target=\"_parent\"><img src=\"https://colab.research.google.com/assets/colab-badge.svg\" alt=\"Open In Colab\"/></a>"
      ]
    },
    {
      "cell_type": "code",
      "metadata": {
        "colab": {
          "base_uri": "https://localhost:8080/"
        },
        "id": "TCh0ZunZ8y7d",
        "outputId": "7f52902b-c627-4c7e-a729-8f9b42c7473f"
      },
      "source": [
        "!pip install cvxpy\r\n",
        "!pip install cvxstoc"
      ],
      "execution_count": 1,
      "outputs": [
        {
          "output_type": "stream",
          "text": [
            "Requirement already satisfied: cvxpy in /usr/local/lib/python3.7/dist-packages (1.0.31)\n",
            "Requirement already satisfied: ecos>=2 in /usr/local/lib/python3.7/dist-packages (from cvxpy) (2.0.7.post1)\n",
            "Requirement already satisfied: scipy>=1.1.0 in /usr/local/lib/python3.7/dist-packages (from cvxpy) (1.4.1)\n",
            "Requirement already satisfied: osqp>=0.4.1 in /usr/local/lib/python3.7/dist-packages (from cvxpy) (0.6.2.post0)\n",
            "Requirement already satisfied: numpy>=1.15 in /usr/local/lib/python3.7/dist-packages (from cvxpy) (1.19.5)\n",
            "Requirement already satisfied: multiprocess in /usr/local/lib/python3.7/dist-packages (from cvxpy) (0.70.11.1)\n",
            "Requirement already satisfied: scs>=1.1.3 in /usr/local/lib/python3.7/dist-packages (from cvxpy) (2.1.2)\n",
            "Requirement already satisfied: qdldl in /usr/local/lib/python3.7/dist-packages (from osqp>=0.4.1->cvxpy) (0.1.5.post0)\n",
            "Requirement already satisfied: dill>=0.3.3 in /usr/local/lib/python3.7/dist-packages (from multiprocess->cvxpy) (0.3.3)\n",
            "Collecting cvxstoc\n",
            "  Downloading https://files.pythonhosted.org/packages/ad/0d/6e47ddb7c55a35c765dc6ddad5b4cc9ade7a0b90fbfa692bf1120819b1d4/cvxstoc-0.2.2-py3-none-any.whl\n",
            "Requirement already satisfied: numpy>=1.10 in /usr/local/lib/python3.7/dist-packages (from cvxstoc) (1.19.5)\n",
            "Requirement already satisfied: scipy>=0.16 in /usr/local/lib/python3.7/dist-packages (from cvxstoc) (1.4.1)\n",
            "Requirement already satisfied: cvxpy>=0.3.5 in /usr/local/lib/python3.7/dist-packages (from cvxstoc) (1.0.31)\n",
            "Collecting pymc>=2.3.4\n",
            "\u001b[?25l  Downloading https://files.pythonhosted.org/packages/37/81/9a222c38c65019de9ad5a1ee2448cc4a9b5f7a64eeaf246c77f81c0e6f94/pymc-2.3.8.tar.gz (385kB)\n",
            "\u001b[K     |████████████████████████████████| 389kB 7.6MB/s \n",
            "\u001b[?25hRequirement already satisfied: scs>=1.1.3 in /usr/local/lib/python3.7/dist-packages (from cvxpy>=0.3.5->cvxstoc) (2.1.2)\n",
            "Requirement already satisfied: multiprocess in /usr/local/lib/python3.7/dist-packages (from cvxpy>=0.3.5->cvxstoc) (0.70.11.1)\n",
            "Requirement already satisfied: ecos>=2 in /usr/local/lib/python3.7/dist-packages (from cvxpy>=0.3.5->cvxstoc) (2.0.7.post1)\n",
            "Requirement already satisfied: osqp>=0.4.1 in /usr/local/lib/python3.7/dist-packages (from cvxpy>=0.3.5->cvxstoc) (0.6.2.post0)\n",
            "Requirement already satisfied: dill>=0.3.3 in /usr/local/lib/python3.7/dist-packages (from multiprocess->cvxpy>=0.3.5->cvxstoc) (0.3.3)\n",
            "Requirement already satisfied: qdldl in /usr/local/lib/python3.7/dist-packages (from osqp>=0.4.1->cvxpy>=0.3.5->cvxstoc) (0.1.5.post0)\n",
            "Building wheels for collected packages: pymc\n",
            "  Building wheel for pymc (setup.py) ... \u001b[?25l\u001b[?25hdone\n",
            "  Created wheel for pymc: filename=pymc-2.3.8-cp37-cp37m-linux_x86_64.whl size=1352885 sha256=bf925cee21b11d94b2ccd92ed200423b2b569ee21251f0b912e7ea029e01c3fe\n",
            "  Stored in directory: /root/.cache/pip/wheels/0b/a8/e7/8f3ba91a39294d538a92db052fd1fcba1fca74a58c8b022026\n",
            "Successfully built pymc\n",
            "Installing collected packages: pymc, cvxstoc\n",
            "Successfully installed cvxstoc-0.2.2 pymc-2.3.8\n"
          ],
          "name": "stdout"
        }
      ]
    },
    {
      "cell_type": "markdown",
      "metadata": {
        "id": "0sNQucfT9mRQ"
      },
      "source": [
        "# Data Science and Stochastic Programming\r\n",
        "\r\n",
        "In this notebook we explore, how stochastic programming can be used to incorporate uncertainty stemming from data science models into our decision making process.\r\n",
        "\r\n",
        "Let us start by introducing cvxstoc, a Python package for solving stochastic convex optimization problems."
      ]
    },
    {
      "cell_type": "code",
      "metadata": {
        "id": "LS92L-OupWYL"
      },
      "source": [
        "import cvxpy\r\n",
        "import cvxstoc\r\n",
        "import numpy as np\r\n",
        "import pymc\r\n",
        "\r\n",
        "from cvxstoc import NormalRandomVariable, expectation, prob\r\n",
        "from cvxpy import Maximize, Problem\r\n",
        "from cvxpy.expressions.variable import Variable"
      ],
      "execution_count": 4,
      "outputs": []
    },
    {
      "cell_type": "code",
      "metadata": {
        "colab": {
          "base_uri": "https://localhost:8080/"
        },
        "id": "2ON_lsQHJpWk",
        "outputId": "ff5b0eea-97ae-4f48-a9e5-031b856f109a"
      },
      "source": [
        "# Samples to be taken\r\n",
        "num_samples = 100\r\n",
        "\r\n",
        "# Create problem data.\r\n",
        "n = 5\r\n",
        "mu = np.zeros(n)\r\n",
        "Sigma = 0.1*np.eye(n)\r\n",
        "returns = NormalRandomVariable(mu, Sigma)\r\n",
        "alpha = -0.5\r\n",
        "beta = 0.05\r\n",
        "\r\n",
        "# Create the stochastic optimization problem.\r\n",
        "weights = Variable(n)\r\n",
        "probl = Problem(\r\n",
        "    Maximize(expectation(weights.T*returns, num_samples=num_samples)),\r\n",
        "    [\r\n",
        "      cvxpy.max(weights) <= 0.3,\r\n",
        "      weights >= 0, \r\n",
        "      weights.T*np.ones(n) == 1,\r\n",
        "      prob(weights.T*returns <= alpha, num_samples=num_samples) <= beta\r\n",
        "    ]\r\n",
        ")"
      ],
      "execution_count": 5,
      "outputs": [
        {
          "output_type": "stream",
          "text": [
            "/usr/local/lib/python3.7/dist-packages/pymc/MCMC.py:81: UserWarning: Instantiating a Model object directly is deprecated. We recommend passing variables directly to the Model subclass.\n",
            "  warnings.warn(message)\n"
          ],
          "name": "stderr"
        }
      ]
    },
    {
      "cell_type": "markdown",
      "metadata": {
        "id": "_mvkQKtCfSGW"
      },
      "source": [
        "What we are trying to solve here is a simplified portfolio allocation problem, where the goal is to find a weight vector which maximizes the return under some constraints. \r\n",
        "\r\n",
        "The main differences to a more classical approach is that we are not working with a fixed vector of returns, but we assume that the returns are following a Gaussian distribution (with mean mu and covariance Sigma).\r\n",
        "\r\n",
        "A consequence of this choice is that we are not merely trying to maximize the weighted sum of the returns (= weights.T*returns), but an expectation of this weighted sum with respect to the uncertain returns.\r\n",
        "\r\n",
        "Moreover, while the first three constraints are rather standard (none of the portfolio positions should exceed 30% of the overall portfolio, the weights should be non-negative, and the combined weights add up to one), the last one is different from a deterministic optimization problem. The last constraint restricts the probability of the optimal portfolio to exceed a loss of 50% to 5%, i.e. for 100 samples of the return vector, we would only expect to have 5 times a loss higher than 50% with the optimized weights."
      ]
    },
    {
      "cell_type": "code",
      "metadata": {
        "colab": {
          "base_uri": "https://localhost:8080/"
        },
        "id": "yJFGFj_pfRbZ",
        "outputId": "0e40f11e-5451-466d-d1ef-762d015a598e"
      },
      "source": [
        "probl.solve()\r\n",
        "\r\n",
        "print(probl.status)\r\n",
        "print(\"Optimal value:\", probl.value)\r\n",
        "print(\"Optimal weights:\", weights.value)"
      ],
      "execution_count": 6,
      "outputs": [
        {
          "output_type": "stream",
          "text": [
            "optimal\n",
            "Optimal value: 0.021495551507213138\n",
            "Optimal weights: [2.99999999e-01 1.00000001e-01 1.04553238e-11 3.00000000e-01\n",
            " 3.00000000e-01]\n"
          ],
          "name": "stdout"
        }
      ]
    },
    {
      "cell_type": "markdown",
      "metadata": {
        "id": "tXqkHQjZmKJu"
      },
      "source": [
        "While it is fairly straightforward to see how this approach can be integrated with a data science solution (i.e. the data science model provides mean and covariance estimates for the Gaussian distribution), it is rather limited in its usage with a model.\r\n",
        "\r\n",
        "For example, if we are using a Bayesian model to obtain posterior predictive samples, utilize dropout with a deep learning model to generate samples, or simply not use one of the distributions currently supported by cvxstocm, we would not be able to solve the resulting optimization problem.\r\n",
        "\r\n",
        "In order to simplify the work with more complex distribution, we have developed the following function"
      ]
    },
    {
      "cell_type": "code",
      "metadata": {
        "id": "56lzSBLdl3LA"
      },
      "source": [
        "import numpy as np\r\n",
        "import pymc\r\n",
        "from cvxstoc import RandomVariable\r\n",
        "\r\n",
        "\r\n",
        "def EmpiricalRandomVariable(name, \r\n",
        "                            samples,\r\n",
        "                            mean,\r\n",
        "                            interpolate=False, \r\n",
        "                            lower=-np.inf, \r\n",
        "                            upper=np.inf):\r\n",
        "    '''\r\n",
        "    Create a pymc node whose distribution comes either from a \r\n",
        "    kernel smoothing density estimate or via boostrapping from \r\n",
        "    the provided samples.\r\n",
        "    '''\r\n",
        "    \r\n",
        "    if interpolate:\r\n",
        "      rv_pymc = pymc.stochastic_from_data(\r\n",
        "          name=rv_name, \r\n",
        "          data=samples, \r\n",
        "          lower=lower, \r\n",
        "          upper=upper)\r\n",
        "    else:\r\n",
        "        nobs = samples.shape[0]\r\n",
        "\r\n",
        "        def logp(value):\r\n",
        "            return -np.log(nobs)\r\n",
        "\r\n",
        "        def random():\r\n",
        "            ridx = np.random.randint(low=0, high=nobs, size=1)\r\n",
        "            return np.squeeze(samples[ridx])\r\n",
        "\r\n",
        "        value = random() \r\n",
        "        dtype = type(value)\r\n",
        "    \r\n",
        "        rv_pymc = pymc.Stochastic(\r\n",
        "            logp = logp,\r\n",
        "            doc = \"A node which bootstrap samples from the provided dataset\",\r\n",
        "            name = name,\r\n",
        "            parents = {},\r\n",
        "            random = random,\r\n",
        "            trace = True,\r\n",
        "            dtype = dtype)\r\n",
        "    \r\n",
        "    metadata = {\"mu\": mean}\r\n",
        "    \r\n",
        "    return RandomVariable(rv=rv_pymc, metadata=metadata)"
      ],
      "execution_count": 43,
      "outputs": []
    },
    {
      "cell_type": "code",
      "metadata": {
        "colab": {
          "base_uri": "https://localhost:8080/"
        },
        "id": "GLT1n2NLqDYq",
        "outputId": "5554fd9c-65a3-4778-a299-c2afd298ec73"
      },
      "source": [
        "# Samples to be taken\r\n",
        "num_samples = 100\r\n",
        "\r\n",
        "# Create problem data.\r\n",
        "n = 5\r\n",
        "mu = np.zeros(n)\r\n",
        "Sigma = 0.1*np.eye(n)\r\n",
        "returns = EmpiricalRandomVariable(\"EmpiricalRV\", \r\n",
        "                                  NormalRandomVariable(mu, Sigma).sample(100),\r\n",
        "                                  mean = mu,\r\n",
        "                                  interpolate=False)\r\n",
        "alpha = -0.5\r\n",
        "beta = 0.05\r\n",
        "\r\n",
        "# Create the stochastic optimization problem.\r\n",
        "weights = Variable(n)\r\n",
        "probl = Problem(\r\n",
        "    Maximize(expectation(weights.T*returns, num_samples=num_samples)),\r\n",
        "    [\r\n",
        "      cvxpy.max(weights) <= 0.3,\r\n",
        "      weights >= 0, \r\n",
        "      weights.T*np.ones(n) == 1,\r\n",
        "      prob(weights.T*returns <= alpha, num_samples=num_samples) <= beta\r\n",
        "    ]\r\n",
        ")\r\n",
        "\r\n",
        "probl.solve()\r\n",
        "\r\n",
        "print(probl.status)\r\n",
        "print(\"Optimal value:\", probl.value)\r\n",
        "print(\"Optimal weights:\", weights.value)"
      ],
      "execution_count": 44,
      "outputs": [
        {
          "output_type": "stream",
          "text": [
            "/usr/local/lib/python3.7/dist-packages/pymc/MCMC.py:81: UserWarning: Instantiating a Model object directly is deprecated. We recommend passing variables directly to the Model subclass.\n",
            "  warnings.warn(message)\n"
          ],
          "name": "stderr"
        },
        {
          "output_type": "stream",
          "text": [
            "optimal\n",
            "Optimal value: 0.012308462355088107\n",
            "Optimal weights: [3.0000000e-01 1.0000000e-01 1.0320114e-11 3.0000000e-01 3.0000000e-01]\n"
          ],
          "name": "stdout"
        }
      ]
    },
    {
      "cell_type": "markdown",
      "metadata": {
        "id": "qQVZSXpn4KZN"
      },
      "source": [
        "We can extend the example by optimizing a mean-variance problem, but in addition to the uncertain returns, we also assume that the covariance matrix is uncertain.\r\n",
        "\r\n",
        "---\r\n",
        "\r\n"
      ]
    },
    {
      "cell_type": "code",
      "metadata": {
        "id": "lB81oubg5Gai"
      },
      "source": [
        "??pymc.WishartCov"
      ],
      "execution_count": 9,
      "outputs": []
    },
    {
      "cell_type": "code",
      "metadata": {
        "colab": {
          "base_uri": "https://localhost:8080/"
        },
        "id": "DdieyAdL5hKE",
        "outputId": "a54c8878-c65f-4786-8f9b-9d49fbab6383"
      },
      "source": [
        "n"
      ],
      "execution_count": 11,
      "outputs": [
        {
          "output_type": "execute_result",
          "data": {
            "text/plain": [
              "5"
            ]
          },
          "metadata": {
            "tags": []
          },
          "execution_count": 11
        }
      ]
    },
    {
      "cell_type": "code",
      "metadata": {
        "colab": {
          "base_uri": "https://localhost:8080/"
        },
        "id": "F3L76Mjr5R6U",
        "outputId": "7a2ac11e-3851-4aa0-c5e4-c505816ece22"
      },
      "source": [
        "pymc.WishartCov(\"cov-mat\", 5, np.eye(n)).random()"
      ],
      "execution_count": 19,
      "outputs": [
        {
          "output_type": "execute_result",
          "data": {
            "text/plain": [
              "matrix([[ 3.32181198,  2.15145475, -0.28322805, -0.4729046 , -0.17836496],\n",
              "        [ 2.15145475,  1.77319592,  0.85076045,  0.63573653, -0.04151246],\n",
              "        [-0.28322805,  0.85076045,  6.17560499,  2.29282081,  3.40618157],\n",
              "        [-0.4729046 ,  0.63573653,  2.29282081,  5.53302866, -2.27847308],\n",
              "        [-0.17836496, -0.04151246,  3.40618157, -2.27847308,  4.91719708]])"
            ]
          },
          "metadata": {
            "tags": []
          },
          "execution_count": 19
        }
      ]
    },
    {
      "cell_type": "code",
      "metadata": {
        "id": "NHrvZs7a7kvo"
      },
      "source": [
        ""
      ],
      "execution_count": null,
      "outputs": []
    },
    {
      "cell_type": "code",
      "metadata": {
        "colab": {
          "base_uri": "https://localhost:8080/"
        },
        "id": "Yi4_b3TU7kxe",
        "outputId": "b3b9b838-4095-4b56-8ed8-f30711e7641c"
      },
      "source": [
        "type(np.random.randn(3, 4))"
      ],
      "execution_count": 35,
      "outputs": [
        {
          "output_type": "execute_result",
          "data": {
            "text/plain": [
              "numpy.ndarray"
            ]
          },
          "metadata": {
            "tags": []
          },
          "execution_count": 35
        }
      ]
    },
    {
      "cell_type": "code",
      "metadata": {
        "colab": {
          "base_uri": "https://localhost:8080/"
        },
        "id": "dKbnrhCL7fbZ",
        "outputId": "0305fa05-61d4-4f06-ac96-3669d3d52888"
      },
      "source": [
        "type(np.array(pymc.WishartCov(\"cov-mat\", 5, np.eye(n)).random()))"
      ],
      "execution_count": 36,
      "outputs": [
        {
          "output_type": "execute_result",
          "data": {
            "text/plain": [
              "numpy.ndarray"
            ]
          },
          "metadata": {
            "tags": []
          },
          "execution_count": 36
        }
      ]
    },
    {
      "cell_type": "code",
      "metadata": {
        "id": "NTt54XAT_RG9"
      },
      "source": [
        "cov_samples = []\r\n",
        "\r\n",
        "for i in range(2):\r\n",
        "  sig = np.random.randn(n, n)\r\n",
        "  sig = sig.T.dot(sig)\r\n",
        "  cov_samples.append(sig)\r\n",
        "\r\n",
        "cov_samples = np.stack(cov_samples, axis=0)"
      ],
      "execution_count": 73,
      "outputs": []
    },
    {
      "cell_type": "code",
      "metadata": {
        "id": "p0a9D_US7SZ_"
      },
      "source": [
        "cov_samples = [\r\n",
        "    np.eye(n) + np.array(pymc.WishartCov(\"cov-mat\", 5, Sigma).random()) \r\n",
        "      for _ in range(10)\r\n",
        "]\r\n",
        "cov_samples = np.stack(cov_samples, axis=0)"
      ],
      "execution_count": 50,
      "outputs": []
    },
    {
      "cell_type": "code",
      "metadata": {
        "colab": {
          "base_uri": "https://localhost:8080/"
        },
        "id": "a6qLOv5m9ISm",
        "outputId": "5bd01019-68bf-4bbd-cffc-7d04a79311d5"
      },
      "source": [
        "np.squeeze(cov_samples[1].shape)"
      ],
      "execution_count": 48,
      "outputs": [
        {
          "output_type": "execute_result",
          "data": {
            "text/plain": [
              "array([5, 5])"
            ]
          },
          "metadata": {
            "tags": []
          },
          "execution_count": 48
        }
      ]
    },
    {
      "cell_type": "code",
      "metadata": {
        "id": "Uu2CM021Clox"
      },
      "source": [
        ""
      ],
      "execution_count": null,
      "outputs": []
    },
    {
      "cell_type": "markdown",
      "metadata": {
        "id": "BkixW8gUCnGF"
      },
      "source": [
        "TODO: There seems to be some issue with quadform when it comes to stochastic programs."
      ]
    },
    {
      "cell_type": "code",
      "metadata": {
        "colab": {
          "base_uri": "https://localhost:8080/",
          "height": 1000
        },
        "id": "O6js_8xm3hqV",
        "outputId": "03f3bbca-7d4f-45ff-8823-1a8cd7c6fdf1"
      },
      "source": [
        "from cvxpy import Minimize\r\n",
        "\r\n",
        "# Samples to be taken\r\n",
        "num_samples = 100\r\n",
        "\r\n",
        "# Create problem data.\r\n",
        "n = 5\r\n",
        "mu = np.zeros(n)\r\n",
        "Sigma = 0.1*np.eye(n)\r\n",
        "returns = EmpiricalRandomVariable(\"EmpiricalReturns\", \r\n",
        "                                  NormalRandomVariable(mu, Sigma).sample(100),\r\n",
        "                                  mean = mu,\r\n",
        "                                  interpolate=False)\r\n",
        "cov_mats = EmpiricalRandomVariable(\"CovMats\",\r\n",
        "                                   cov_samples,\r\n",
        "                                   mean = Sigma,\r\n",
        "                                   interpolate=False)\r\n",
        "cov_mats = cov_samples[0] + np.eye(n)\r\n",
        "alpha = -0.5\r\n",
        "beta = 0.05\r\n",
        "\r\n",
        "# Create the stochastic optimization problem.\r\n",
        "weights = Variable(n)\r\n",
        "probl = Problem(\r\n",
        "    Maximize(expectation(\r\n",
        "        weights.T*returns - cvxpy.quad_form(weights, cov_mats),\r\n",
        "        num_samples=num_samples)),\r\n",
        "    [\r\n",
        "      cvxpy.max(weights) <= 0.3,\r\n",
        "      weights >= 0, \r\n",
        "      weights.T*np.ones(n) == 1,\r\n",
        "      prob(weights.T*returns <= alpha, num_samples=num_samples) <= beta\r\n",
        "    ]\r\n",
        ")\r\n",
        "\r\n",
        "probl.solve(verbose=True)\r\n",
        "\r\n",
        "print(probl.status)\r\n",
        "print(\"Optimal value:\", probl.value)\r\n",
        "print(\"Optimal weights:\", weights.value)"
      ],
      "execution_count": 77,
      "outputs": [
        {
          "output_type": "stream",
          "text": [
            "/usr/local/lib/python3.7/dist-packages/pymc/MCMC.py:81: UserWarning: Instantiating a Model object directly is deprecated. We recommend passing variables directly to the Model subclass.\n",
            "  warnings.warn(message)\n"
          ],
          "name": "stderr"
        },
        {
          "output_type": "stream",
          "text": [
            "-----------------------------------------------------------------\n",
            "           OSQP v0.6.2  -  Operator Splitting QP Solver\n",
            "              (c) Bartolomeo Stellato,  Goran Banjac\n",
            "        University of Oxford  -  Stanford University 2021\n",
            "-----------------------------------------------------------------\n",
            "problem:  variables n = 107, constraints m = 214\n",
            "          nnz(P) + nnz(A) = 938\n",
            "settings: linear system solver = qdldl,\n",
            "          eps_abs = 1.0e-05, eps_rel = 1.0e-05,\n",
            "          eps_prim_inf = 1.0e-04, eps_dual_inf = 1.0e-04,\n",
            "          rho = 1.00e-01 (adaptive),\n",
            "          sigma = 1.00e-06, alpha = 1.60, max_iter = 10000\n",
            "          check_termination: on (interval 25),\n",
            "          scaling: on, scaled_termination: off\n",
            "          warm start: on, polish: on, time_limit: off\n",
            "\n",
            "iter   objective    pri res    dua res    rho        time\n",
            "   1  -1.3176e-04   1.00e+00   3.58e+02   1.00e-01   5.46e-04s\n",
            " 200   6.5836e-01   6.22e-02   5.76e-04   5.99e+00   1.94e-03s\n",
            " 400   6.5851e-01   6.08e-02   5.62e-04   5.99e+00   3.38e-03s\n",
            " 600   6.5877e-01   5.94e-02   5.48e-04   5.99e+00   5.37e-03s\n",
            " 800   6.5914e-01   5.80e-02   5.35e-04   5.99e+00   6.97e-03s\n",
            "1000   6.5959e-01   5.66e-02   5.22e-04   5.99e+00   8.50e-03s\n",
            "1200   6.6013e-01   5.53e-02   5.09e-04   5.99e+00   9.97e-03s\n",
            "1400   6.6075e-01   5.39e-02   4.97e-04   5.99e+00   1.16e-02s\n",
            "1600   6.6144e-01   5.27e-02   4.85e-04   5.99e+00   1.32e-02s\n",
            "1800   6.6219e-01   5.14e-02   4.73e-04   5.99e+00   1.51e-02s\n",
            "2000   6.6299e-01   5.02e-02   4.62e-04   5.99e+00   1.70e-02s\n",
            "2200   6.6386e-01   4.90e-02   4.50e-04   5.99e+00   1.89e-02s\n",
            "2400   6.6477e-01   4.78e-02   4.39e-04   5.99e+00   2.06e-02s\n",
            "2600   6.6572e-01   4.67e-02   4.29e-04   5.99e+00   2.25e-02s\n",
            "2800   6.6672e-01   4.55e-02   4.18e-04   5.99e+00   2.41e-02s\n",
            "3000   6.6775e-01   4.44e-02   4.08e-04   5.99e+00   2.60e-02s\n",
            "3200   6.6881e-01   4.34e-02   3.98e-04   5.99e+00   2.73e-02s\n",
            "3400   6.6990e-01   4.23e-02   3.89e-04   5.99e+00   2.89e-02s\n",
            "3600   6.7102e-01   4.13e-02   3.79e-04   5.99e+00   3.07e-02s\n",
            "3800   6.7230e-01   4.01e-02   3.46e-04   5.99e+00   3.23e-02s\n",
            "4000   6.7362e-01   3.90e-02   3.38e-04   5.99e+00   3.39e-02s\n",
            "4200   6.7495e-01   3.78e-02   3.29e-04   5.99e+00   3.58e-02s\n",
            "4400   6.7628e-01   3.67e-02   3.21e-04   5.99e+00   3.74e-02s\n",
            "4600   6.7762e-01   3.57e-02   3.13e-04   5.99e+00   3.90e-02s\n",
            "4800   6.7897e-01   3.47e-02   3.04e-04   5.99e+00   4.05e-02s\n",
            "5000   6.8032e-01   3.37e-02   2.96e-04   5.99e+00   4.18e-02s\n",
            "5200   6.8166e-01   3.28e-02   2.89e-04   5.99e+00   4.36e-02s\n",
            "5400   6.8301e-01   3.19e-02   2.81e-04   5.99e+00   4.49e-02s\n",
            "5600   6.8435e-01   3.10e-02   2.73e-04   5.99e+00   4.62e-02s\n",
            "5800   6.8568e-01   3.01e-02   2.66e-04   5.99e+00   4.75e-02s\n",
            "6000   6.8701e-01   2.93e-02   2.59e-04   5.99e+00   4.91e-02s\n",
            "6200   6.8833e-01   2.85e-02   2.52e-04   5.99e+00   5.05e-02s\n",
            "6400   6.8964e-01   2.77e-02   2.45e-04   5.99e+00   5.18e-02s\n",
            "6600   6.9094e-01   2.70e-02   2.39e-04   5.99e+00   5.31e-02s\n",
            "6800   6.9223e-01   2.62e-02   2.32e-04   5.99e+00   5.44e-02s\n",
            "7000   6.9350e-01   2.55e-02   2.26e-04   5.99e+00   5.57e-02s\n",
            "7200   6.9477e-01   2.48e-02   2.20e-04   5.99e+00   5.74e-02s\n",
            "7400   6.9602e-01   2.42e-02   2.14e-04   5.99e+00   5.87e-02s\n",
            "7600   6.9725e-01   2.35e-02   2.08e-04   5.99e+00   6.05e-02s\n",
            "7800   6.9847e-01   2.29e-02   2.02e-04   5.99e+00   6.18e-02s\n",
            "8000   6.9968e-01   2.22e-02   1.97e-04   5.99e+00   6.34e-02s\n",
            "8200   7.0087e-01   2.16e-02   1.92e-04   5.99e+00   6.47e-02s\n",
            "8400   7.0204e-01   2.10e-02   1.86e-04   5.99e+00   6.60e-02s\n",
            "8600   7.0319e-01   2.05e-02   1.81e-04   5.99e+00   6.73e-02s\n",
            "8800   7.0433e-01   1.99e-02   1.76e-04   5.99e+00   6.89e-02s\n",
            "9000   7.0545e-01   1.94e-02   1.72e-04   5.99e+00   7.05e-02s\n",
            "9200   7.0655e-01   1.88e-02   1.67e-04   5.99e+00   7.20e-02s\n",
            "9400   7.0764e-01   1.83e-02   1.62e-04   5.99e+00   7.35e-02s\n",
            "9600   7.0870e-01   1.78e-02   1.58e-04   5.99e+00   7.50e-02s\n",
            "9800   7.0975e-01   1.73e-02   1.54e-04   5.99e+00   7.64e-02s\n",
            "10000   7.1078e-01   1.69e-02   1.50e-04   5.99e+00   7.77e-02s\n",
            "\n",
            "status:               maximum iterations reached\n",
            "number of iterations: 10000\n",
            "run time:             7.79e-02s\n",
            "optimal rho estimate: 9.58e+00\n",
            "\n"
          ],
          "name": "stdout"
        },
        {
          "output_type": "error",
          "ename": "SolverError",
          "evalue": "ignored",
          "traceback": [
            "\u001b[0;31m---------------------------------------------------------------------------\u001b[0m",
            "\u001b[0;31mSolverError\u001b[0m                               Traceback (most recent call last)",
            "\u001b[0;32m<ipython-input-77-5cfe28594280>\u001b[0m in \u001b[0;36m<module>\u001b[0;34m()\u001b[0m\n\u001b[1;32m     34\u001b[0m )\n\u001b[1;32m     35\u001b[0m \u001b[0;34m\u001b[0m\u001b[0m\n\u001b[0;32m---> 36\u001b[0;31m \u001b[0mprobl\u001b[0m\u001b[0;34m.\u001b[0m\u001b[0msolve\u001b[0m\u001b[0;34m(\u001b[0m\u001b[0mverbose\u001b[0m\u001b[0;34m=\u001b[0m\u001b[0;32mTrue\u001b[0m\u001b[0;34m)\u001b[0m\u001b[0;34m\u001b[0m\u001b[0;34m\u001b[0m\u001b[0m\n\u001b[0m\u001b[1;32m     37\u001b[0m \u001b[0;34m\u001b[0m\u001b[0m\n\u001b[1;32m     38\u001b[0m \u001b[0mprint\u001b[0m\u001b[0;34m(\u001b[0m\u001b[0mprobl\u001b[0m\u001b[0;34m.\u001b[0m\u001b[0mstatus\u001b[0m\u001b[0;34m)\u001b[0m\u001b[0;34m\u001b[0m\u001b[0;34m\u001b[0m\u001b[0m\n",
            "\u001b[0;32m/usr/local/lib/python3.7/dist-packages/cvxpy/problems/problem.py\u001b[0m in \u001b[0;36msolve\u001b[0;34m(self, *args, **kwargs)\u001b[0m\n\u001b[1;32m    288\u001b[0m         \u001b[0;32melse\u001b[0m\u001b[0;34m:\u001b[0m\u001b[0;34m\u001b[0m\u001b[0;34m\u001b[0m\u001b[0m\n\u001b[1;32m    289\u001b[0m             \u001b[0msolve_func\u001b[0m \u001b[0;34m=\u001b[0m \u001b[0mProblem\u001b[0m\u001b[0;34m.\u001b[0m\u001b[0m_solve\u001b[0m\u001b[0;34m\u001b[0m\u001b[0;34m\u001b[0m\u001b[0m\n\u001b[0;32m--> 290\u001b[0;31m         \u001b[0;32mreturn\u001b[0m \u001b[0msolve_func\u001b[0m\u001b[0;34m(\u001b[0m\u001b[0mself\u001b[0m\u001b[0;34m,\u001b[0m \u001b[0;34m*\u001b[0m\u001b[0margs\u001b[0m\u001b[0;34m,\u001b[0m \u001b[0;34m**\u001b[0m\u001b[0mkwargs\u001b[0m\u001b[0;34m)\u001b[0m\u001b[0;34m\u001b[0m\u001b[0;34m\u001b[0m\u001b[0m\n\u001b[0m\u001b[1;32m    291\u001b[0m \u001b[0;34m\u001b[0m\u001b[0m\n\u001b[1;32m    292\u001b[0m     \u001b[0;34m@\u001b[0m\u001b[0mclassmethod\u001b[0m\u001b[0;34m\u001b[0m\u001b[0;34m\u001b[0m\u001b[0m\n",
            "\u001b[0;32m/usr/local/lib/python3.7/dist-packages/cvxpy/problems/problem.py\u001b[0m in \u001b[0;36m_solve\u001b[0;34m(self, solver, warm_start, verbose, parallel, gp, qcp, **kwargs)\u001b[0m\n\u001b[1;32m    573\u001b[0m         \u001b[0mfull_chain\u001b[0m \u001b[0;34m=\u001b[0m \u001b[0mself\u001b[0m\u001b[0;34m.\u001b[0m\u001b[0m_solving_chain\u001b[0m\u001b[0;34m.\u001b[0m\u001b[0mprepend\u001b[0m\u001b[0;34m(\u001b[0m\u001b[0mself\u001b[0m\u001b[0;34m.\u001b[0m\u001b[0m_intermediate_chain\u001b[0m\u001b[0;34m)\u001b[0m\u001b[0;34m\u001b[0m\u001b[0;34m\u001b[0m\u001b[0m\n\u001b[1;32m    574\u001b[0m         \u001b[0minverse_data\u001b[0m \u001b[0;34m=\u001b[0m \u001b[0mself\u001b[0m\u001b[0;34m.\u001b[0m\u001b[0m_intermediate_inverse_data\u001b[0m \u001b[0;34m+\u001b[0m \u001b[0msolving_inverse_data\u001b[0m\u001b[0;34m\u001b[0m\u001b[0;34m\u001b[0m\u001b[0m\n\u001b[0;32m--> 575\u001b[0;31m         \u001b[0mself\u001b[0m\u001b[0;34m.\u001b[0m\u001b[0munpack_results\u001b[0m\u001b[0;34m(\u001b[0m\u001b[0msolution\u001b[0m\u001b[0;34m,\u001b[0m \u001b[0mfull_chain\u001b[0m\u001b[0;34m,\u001b[0m \u001b[0minverse_data\u001b[0m\u001b[0;34m)\u001b[0m\u001b[0;34m\u001b[0m\u001b[0;34m\u001b[0m\u001b[0m\n\u001b[0m\u001b[1;32m    576\u001b[0m         \u001b[0;32mreturn\u001b[0m \u001b[0mself\u001b[0m\u001b[0;34m.\u001b[0m\u001b[0mvalue\u001b[0m\u001b[0;34m\u001b[0m\u001b[0;34m\u001b[0m\u001b[0m\n\u001b[1;32m    577\u001b[0m \u001b[0;34m\u001b[0m\u001b[0m\n",
            "\u001b[0;32m/usr/local/lib/python3.7/dist-packages/cvxpy/problems/problem.py\u001b[0m in \u001b[0;36munpack_results\u001b[0;34m(self, solution, chain, inverse_data)\u001b[0m\n\u001b[1;32m    716\u001b[0m             raise error.SolverError(\n\u001b[1;32m    717\u001b[0m                     \u001b[0;34m\"Solver '%s' failed. \"\u001b[0m \u001b[0;34m%\u001b[0m \u001b[0mchain\u001b[0m\u001b[0;34m.\u001b[0m\u001b[0msolver\u001b[0m\u001b[0;34m.\u001b[0m\u001b[0mname\u001b[0m\u001b[0;34m(\u001b[0m\u001b[0;34m)\u001b[0m \u001b[0;34m+\u001b[0m\u001b[0;34m\u001b[0m\u001b[0;34m\u001b[0m\u001b[0m\n\u001b[0;32m--> 718\u001b[0;31m                     \u001b[0;34m\"Try another solver, or solve with verbose=True for more \"\u001b[0m\u001b[0;34m\u001b[0m\u001b[0;34m\u001b[0m\u001b[0m\n\u001b[0m\u001b[1;32m    719\u001b[0m                     \"information.\")\n\u001b[1;32m    720\u001b[0m         \u001b[0mself\u001b[0m\u001b[0;34m.\u001b[0m\u001b[0munpack\u001b[0m\u001b[0;34m(\u001b[0m\u001b[0msolution\u001b[0m\u001b[0;34m)\u001b[0m\u001b[0;34m\u001b[0m\u001b[0;34m\u001b[0m\u001b[0m\n",
            "\u001b[0;31mSolverError\u001b[0m: Solver 'OSQP' failed. Try another solver, or solve with verbose=True for more information."
          ]
        }
      ]
    },
    {
      "cell_type": "code",
      "metadata": {
        "id": "lVBW7fFu4Jn8"
      },
      "source": [
        ""
      ],
      "execution_count": null,
      "outputs": []
    },
    {
      "cell_type": "code",
      "metadata": {
        "colab": {
          "base_uri": "https://localhost:8080/"
        },
        "id": "jYmxBSWH4Jq2",
        "outputId": "f5283371-42cd-4e33-e6d6-c502d884afe4"
      },
      "source": [
        "np.linalg.eig(cov_mats)"
      ],
      "execution_count": 61,
      "outputs": [
        {
          "output_type": "execute_result",
          "data": {
            "text/plain": [
              "(array([7.10404969, 4.56014072, 2.61043479, 0.00844693, 0.02005087]),\n",
              " array([[-9.83828349e-02,  6.81913286e-01,  5.57104073e-02,\n",
              "          4.83932667e-01,  5.36675519e-01],\n",
              "        [ 3.38493596e-01, -4.09862823e-01,  6.99038116e-01,\n",
              "          3.70354433e-02,  4.76873821e-01],\n",
              "        [-9.27422518e-01, -1.42683572e-01,  3.13265772e-01,\n",
              "         -1.18552851e-01,  8.56659176e-02],\n",
              "        [ 1.25019253e-01,  5.88055712e-01,  4.77614592e-01,\n",
              "         -5.95121327e-01, -2.37224733e-01],\n",
              "        [ 7.50733306e-04, -2.89588494e-02, -4.26603939e-01,\n",
              "         -6.29454825e-01,  6.48811624e-01]]))"
            ]
          },
          "metadata": {
            "tags": []
          },
          "execution_count": 61
        }
      ]
    }
  ]
}