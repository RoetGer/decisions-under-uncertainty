{
  "nbformat": 4,
  "nbformat_minor": 0,
  "metadata": {
    "colab": {
      "name": "data_science_and_stochastic_programming.ipynb",
      "provenance": [],
      "collapsed_sections": [],
      "authorship_tag": "ABX9TyPcR/KBLB68Cc1/uToy8QYY",
      "include_colab_link": true
    },
    "kernelspec": {
      "name": "python3",
      "display_name": "Python 3"
    }
  },
  "cells": [
    {
      "cell_type": "markdown",
      "metadata": {
        "id": "view-in-github",
        "colab_type": "text"
      },
      "source": [
        "<a href=\"https://colab.research.google.com/github/RoetGer/decisions-under-uncertainty/blob/main/data_science_and_stochastic_programming.ipynb\" target=\"_parent\"><img src=\"https://colab.research.google.com/assets/colab-badge.svg\" alt=\"Open In Colab\"/></a>"
      ]
    },
    {
      "cell_type": "code",
      "metadata": {
        "colab": {
          "base_uri": "https://localhost:8080/"
        },
        "id": "TCh0ZunZ8y7d",
        "outputId": "ee219e3a-faa6-4aca-d611-66f13ec15d5d"
      },
      "source": [
        "!pip install cvxpy\r\n",
        "!pip install cvxstoc"
      ],
      "execution_count": 1,
      "outputs": [
        {
          "output_type": "stream",
          "text": [
            "Requirement already satisfied: cvxpy in /usr/local/lib/python3.7/dist-packages (1.0.31)\n",
            "Requirement already satisfied: numpy>=1.15 in /usr/local/lib/python3.7/dist-packages (from cvxpy) (1.19.5)\n",
            "Requirement already satisfied: osqp>=0.4.1 in /usr/local/lib/python3.7/dist-packages (from cvxpy) (0.6.2.post0)\n",
            "Requirement already satisfied: multiprocess in /usr/local/lib/python3.7/dist-packages (from cvxpy) (0.70.11.1)\n",
            "Requirement already satisfied: scs>=1.1.3 in /usr/local/lib/python3.7/dist-packages (from cvxpy) (2.1.2)\n",
            "Requirement already satisfied: scipy>=1.1.0 in /usr/local/lib/python3.7/dist-packages (from cvxpy) (1.4.1)\n",
            "Requirement already satisfied: ecos>=2 in /usr/local/lib/python3.7/dist-packages (from cvxpy) (2.0.7.post1)\n",
            "Requirement already satisfied: qdldl in /usr/local/lib/python3.7/dist-packages (from osqp>=0.4.1->cvxpy) (0.1.5.post0)\n",
            "Requirement already satisfied: dill>=0.3.3 in /usr/local/lib/python3.7/dist-packages (from multiprocess->cvxpy) (0.3.3)\n",
            "Collecting cvxstoc\n",
            "  Downloading https://files.pythonhosted.org/packages/ad/0d/6e47ddb7c55a35c765dc6ddad5b4cc9ade7a0b90fbfa692bf1120819b1d4/cvxstoc-0.2.2-py3-none-any.whl\n",
            "Collecting pymc>=2.3.4\n",
            "\u001b[?25l  Downloading https://files.pythonhosted.org/packages/37/81/9a222c38c65019de9ad5a1ee2448cc4a9b5f7a64eeaf246c77f81c0e6f94/pymc-2.3.8.tar.gz (385kB)\n",
            "\u001b[K     |████████████████████████████████| 389kB 8.3MB/s \n",
            "\u001b[?25hRequirement already satisfied: cvxpy>=0.3.5 in /usr/local/lib/python3.7/dist-packages (from cvxstoc) (1.0.31)\n",
            "Requirement already satisfied: numpy>=1.10 in /usr/local/lib/python3.7/dist-packages (from cvxstoc) (1.19.5)\n",
            "Requirement already satisfied: scipy>=0.16 in /usr/local/lib/python3.7/dist-packages (from cvxstoc) (1.4.1)\n",
            "Requirement already satisfied: multiprocess in /usr/local/lib/python3.7/dist-packages (from cvxpy>=0.3.5->cvxstoc) (0.70.11.1)\n",
            "Requirement already satisfied: osqp>=0.4.1 in /usr/local/lib/python3.7/dist-packages (from cvxpy>=0.3.5->cvxstoc) (0.6.2.post0)\n",
            "Requirement already satisfied: ecos>=2 in /usr/local/lib/python3.7/dist-packages (from cvxpy>=0.3.5->cvxstoc) (2.0.7.post1)\n",
            "Requirement already satisfied: scs>=1.1.3 in /usr/local/lib/python3.7/dist-packages (from cvxpy>=0.3.5->cvxstoc) (2.1.2)\n",
            "Requirement already satisfied: dill>=0.3.3 in /usr/local/lib/python3.7/dist-packages (from multiprocess->cvxpy>=0.3.5->cvxstoc) (0.3.3)\n",
            "Requirement already satisfied: qdldl in /usr/local/lib/python3.7/dist-packages (from osqp>=0.4.1->cvxpy>=0.3.5->cvxstoc) (0.1.5.post0)\n",
            "Building wheels for collected packages: pymc\n",
            "  Building wheel for pymc (setup.py) ... \u001b[?25l\u001b[?25hdone\n",
            "  Created wheel for pymc: filename=pymc-2.3.8-cp37-cp37m-linux_x86_64.whl size=1352868 sha256=08579b57f9a4c49654d29378087d66241cfc0eca03bf6e6f00c64240005a071d\n",
            "  Stored in directory: /root/.cache/pip/wheels/0b/a8/e7/8f3ba91a39294d538a92db052fd1fcba1fca74a58c8b022026\n",
            "Successfully built pymc\n",
            "Installing collected packages: pymc, cvxstoc\n",
            "Successfully installed cvxstoc-0.2.2 pymc-2.3.8\n"
          ],
          "name": "stdout"
        }
      ]
    },
    {
      "cell_type": "markdown",
      "metadata": {
        "id": "0sNQucfT9mRQ"
      },
      "source": [
        "# Data Science and Stochastic Programming\r\n",
        "\r\n",
        "In this notebook we explore, how stochastic programming can be used to incorporate uncertainty stemming from data science models into our decision making process.\r\n",
        "\r\n",
        "Let us start by introducing cvxstoc, a Python package for solving stochastic convex optimization problems."
      ]
    },
    {
      "cell_type": "code",
      "metadata": {
        "id": "LS92L-OupWYL",
        "colab": {
          "base_uri": "https://localhost:8080/"
        },
        "outputId": "19a98df0-0dee-4961-8b7b-7a9b676dca49"
      },
      "source": [
        "import cvxpy\r\n",
        "import cvxstoc\r\n",
        "import numpy as np\r\n",
        "import pymc\r\n",
        "\r\n",
        "from cvxstoc import NormalRandomVariable, expectation, prob\r\n",
        "from cvxpy import Maximize, Problem\r\n",
        "from cvxpy.expressions.variable import Variable"
      ],
      "execution_count": 2,
      "outputs": [
        {
          "output_type": "stream",
          "text": [
            "/usr/local/lib/python3.7/dist-packages/statsmodels/tools/_testing.py:19: FutureWarning: pandas.util.testing is deprecated. Use the functions in the public API at pandas.testing instead.\n",
            "  import pandas.util.testing as tm\n"
          ],
          "name": "stderr"
        }
      ]
    },
    {
      "cell_type": "code",
      "metadata": {
        "colab": {
          "base_uri": "https://localhost:8080/"
        },
        "id": "2ON_lsQHJpWk",
        "outputId": "005f649d-faef-44b3-94b0-881d59263f9e"
      },
      "source": [
        "# Samples to be taken\r\n",
        "num_samples = 100\r\n",
        "\r\n",
        "# Create problem data.\r\n",
        "n = 5\r\n",
        "mu = np.zeros(n)\r\n",
        "Sigma = 0.1*np.eye(n)\r\n",
        "returns = NormalRandomVariable(mu, Sigma)\r\n",
        "alpha = -0.5\r\n",
        "beta = 0.05\r\n",
        "\r\n",
        "# Create the stochastic optimization problem.\r\n",
        "weights = Variable(n)\r\n",
        "probl = Problem(\r\n",
        "    Maximize(expectation(weights.T*returns, num_samples=num_samples)),\r\n",
        "    [\r\n",
        "      cvxpy.max(weights) <= 0.3,\r\n",
        "      weights >= 0, \r\n",
        "      weights.T*np.ones(n) == 1,\r\n",
        "      prob(weights.T*returns <= alpha, num_samples=num_samples) <= beta\r\n",
        "    ]\r\n",
        ")"
      ],
      "execution_count": 3,
      "outputs": [
        {
          "output_type": "stream",
          "text": [
            "/usr/local/lib/python3.7/dist-packages/pymc/MCMC.py:81: UserWarning: Instantiating a Model object directly is deprecated. We recommend passing variables directly to the Model subclass.\n",
            "  warnings.warn(message)\n"
          ],
          "name": "stderr"
        }
      ]
    },
    {
      "cell_type": "markdown",
      "metadata": {
        "id": "_mvkQKtCfSGW"
      },
      "source": [
        "What we are trying to solve here is a simplified portfolio allocation problem, where the goal is to find a weight vector which maximizes the return under some constraints. \r\n",
        "\r\n",
        "The main differences to a more classical approach is that we are not working with a fixed vector of returns, but we assume that the returns are following a Gaussian distribution (with mean mu and covariance Sigma).\r\n",
        "\r\n",
        "A consequence of this choice is that we are not merely trying to maximize the weighted sum of the returns (= weights.T*returns), but an expectation of this weighted sum with respect to the uncertain returns.\r\n",
        "\r\n",
        "Moreover, while the first three constraints are rather standard (none of the portfolio positions should exceed 30% of the overall portfolio, the weights should be non-negative, and the combined weights add up to one), the last one is different from a deterministic optimization problem. The last constraint restricts the probability of the optimal portfolio to exceed a loss of 50% to 5%, i.e. for 100 samples of the return vector, we would only expect to have 5 times a loss higher than 50% with the optimized weights."
      ]
    },
    {
      "cell_type": "code",
      "metadata": {
        "colab": {
          "base_uri": "https://localhost:8080/"
        },
        "id": "yJFGFj_pfRbZ",
        "outputId": "ff5dd05b-4270-4c58-e2da-bdb7a1ffcb99"
      },
      "source": [
        "probl.solve()\r\n",
        "\r\n",
        "print(probl.status)\r\n",
        "print(\"Optimal value:\", probl.value)\r\n",
        "print(\"Optimal weights:\", weights.value)"
      ],
      "execution_count": 4,
      "outputs": [
        {
          "output_type": "stream",
          "text": [
            "optimal\n",
            "Optimal value: 0.022908523858114094\n",
            "Optimal weights: [3.00000000e-01 1.00000000e-01 3.00000000e-01 3.00000000e-01\n",
            " 1.57715256e-11]\n"
          ],
          "name": "stdout"
        }
      ]
    },
    {
      "cell_type": "markdown",
      "metadata": {
        "id": "tXqkHQjZmKJu"
      },
      "source": [
        "While it is fairly straightforward to see how this approach can be integrated with a data science solution (i.e. the data science model provides mean and covariance estimates for the Gaussian distribution), it is rather limited in its usage with a model.\r\n",
        "\r\n",
        "For example, if we are using a Bayesian model to obtain posterior predictive samples, utilize dropout with a deep learning model to generate samples, or simply not use one of the distributions currently supported by cvxstocm, we would not be able to solve the resulting optimization problem.\r\n",
        "\r\n",
        "In order to simplify the work with more complex distribution, we have developed the following function"
      ]
    },
    {
      "cell_type": "code",
      "metadata": {
        "id": "56lzSBLdl3LA"
      },
      "source": [
        "from itertools import count\r\n",
        "\r\n",
        "import numpy as np\r\n",
        "import pymc\r\n",
        "from cvxstoc import RandomVariable\r\n",
        "\r\n",
        "\r\n",
        "def EmpiricalRandomVariable(name, \r\n",
        "                            samples,\r\n",
        "                            mean,\r\n",
        "                            interpolate=False, \r\n",
        "                            lower=-np.inf, \r\n",
        "                            upper=np.inf,\r\n",
        "                            method=\"bootstrap\",\r\n",
        "                            rng_gen=None):\r\n",
        "    '''\r\n",
        "    Create a pymc node whose distribution comes either from a \r\n",
        "    kernel smoothing density estimate or via boostrapping from \r\n",
        "    the provided samples.\r\n",
        "    '''\r\n",
        "    \r\n",
        "    if interpolate:\r\n",
        "      rv_pymc = pymc.stochastic_from_data(\r\n",
        "          name=rv_name, \r\n",
        "          data=samples, \r\n",
        "          lower=lower, \r\n",
        "          upper=upper)\r\n",
        "    else:\r\n",
        "        nobs = samples.shape[0]\r\n",
        "\r\n",
        "        def logp(value):\r\n",
        "            return -np.log(nobs)\r\n",
        "\r\n",
        "        if method == \"bootstrap\":           \r\n",
        "            def random():\r\n",
        "                if rng_gen:\r\n",
        "                    ridx = rng_gen.randint(low=0, high=nobs, size=1)\r\n",
        "                    print(ridx)\r\n",
        "                else:\r\n",
        "                    ridx = np.random.randint(low=0, high=nobs, size=1)\r\n",
        "                \r\n",
        "                return np.squeeze(samples[ridx])\r\n",
        "        \r\n",
        "        elif method == \"rolling\":\r\n",
        "            idx_gen = (idx for idx in count(0))\r\n",
        "\r\n",
        "            def random():\r\n",
        "                idx = next(idx_gen)\r\n",
        "                print(idx)\r\n",
        "                return np.squeeze(samples[idx % nobs])\r\n",
        "        \r\n",
        "        else:\r\n",
        "          raise ValueError(\r\n",
        "              \"Unknown method. Currently, 'bootstrap' and 'rolling' are supported\")\r\n",
        "\r\n",
        "        value = random() \r\n",
        "        dtype = type(value)\r\n",
        "    \r\n",
        "        rv_pymc = pymc.Stochastic(\r\n",
        "            logp = logp,\r\n",
        "            doc = \"A node which samples from the provided dataset\",\r\n",
        "            name = name,\r\n",
        "            parents = {},\r\n",
        "            random = random,\r\n",
        "            trace = True,\r\n",
        "            dtype = dtype)\r\n",
        "    \r\n",
        "    metadata = {\"mu\": mean}\r\n",
        "    \r\n",
        "    return RandomVariable(rv=rv_pymc, metadata=metadata)"
      ],
      "execution_count": 65,
      "outputs": []
    },
    {
      "cell_type": "code",
      "metadata": {
        "colab": {
          "base_uri": "https://localhost:8080/"
        },
        "id": "ATZYzw6Fs-4u",
        "outputId": "d429e565-e2e3-4de0-d1a9-7782f34ff2c3"
      },
      "source": [
        "samples = NormalRandomVariable(mu, Sigma).sample(100)"
      ],
      "execution_count": 70,
      "outputs": [
        {
          "output_type": "stream",
          "text": [
            "/usr/local/lib/python3.7/dist-packages/pymc/MCMC.py:81: UserWarning: Instantiating a Model object directly is deprecated. We recommend passing variables directly to the Model subclass.\n",
            "  warnings.warn(message)\n"
          ],
          "name": "stderr"
        }
      ]
    },
    {
      "cell_type": "code",
      "metadata": {
        "id": "GLT1n2NLqDYq"
      },
      "source": [
        "# Samples to be taken\r\n",
        "num_samples = 10\r\n",
        "\r\n",
        "# Create problem data.\r\n",
        "n = 5\r\n",
        "mu = np.zeros(n)\r\n",
        "Sigma = 0.1*np.eye(n)\r\n",
        "returns = EmpiricalRandomVariable(\"EmpiricalRV\", \r\n",
        "                                  samples,\r\n",
        "                                  mean = mu,\r\n",
        "                                  interpolate=False,\r\n",
        "                                  method=\"bootstrap\",\r\n",
        "                                  rng_gen=np.random.RandomState(5))\r\n",
        "alpha = -0.5\r\n",
        "beta = 0.05\r\n",
        "\r\n",
        "# Create the stochastic optimization problem.\r\n",
        "weights = Variable(n)\r\n",
        "probl = Problem(\r\n",
        "    Maximize(expectation(weights.T*returns, num_samples=num_samples)),\r\n",
        "    [\r\n",
        "      cvxpy.max(weights) <= 0.3,\r\n",
        "      weights >= 0, \r\n",
        "      weights.T*np.ones(n) == 1,\r\n",
        "      prob(weights.T*returns <= alpha, num_samples=num_samples) <= beta\r\n",
        "    ]\r\n",
        ")\r\n",
        "\r\n",
        "probl.solve()\r\n",
        "\r\n",
        "print(probl.status)\r\n",
        "print(\"Optimal value:\", probl.value)\r\n",
        "print(\"Optimal weights:\", weights.value)"
      ],
      "execution_count": null,
      "outputs": []
    },
    {
      "cell_type": "markdown",
      "metadata": {
        "id": "qQVZSXpn4KZN"
      },
      "source": [
        "We can extend the example by optimizing a mean-variance problem, but in addition to the uncertain returns, we also assume that the covariance matrix is uncertain.\r\n",
        "\r\n",
        "---\r\n",
        "\r\n"
      ]
    },
    {
      "cell_type": "code",
      "metadata": {
        "id": "NTt54XAT_RG9"
      },
      "source": [
        "cov_samples = []\r\n",
        "\r\n",
        "for i in range(2):\r\n",
        "  sig = np.random.randn(n, n)\r\n",
        "  sig = sig.T.dot(sig)\r\n",
        "  cov_samples.append(sig)\r\n",
        "\r\n",
        "cov_samples = np.stack(cov_samples, axis=0)"
      ],
      "execution_count": 7,
      "outputs": []
    },
    {
      "cell_type": "code",
      "metadata": {
        "id": "p0a9D_US7SZ_"
      },
      "source": [
        "cov_samples = [\r\n",
        "    np.eye(n) + np.array(pymc.WishartCov(\"cov-mat\", 5, Sigma).random()) \r\n",
        "      for _ in range(10)\r\n",
        "]\r\n",
        "cov_samples = np.stack(cov_samples, axis=0)"
      ],
      "execution_count": 8,
      "outputs": []
    },
    {
      "cell_type": "markdown",
      "metadata": {
        "id": "BkixW8gUCnGF"
      },
      "source": [
        "TODO: There seems to be some issue with quadform when it comes to stochastic programs."
      ]
    },
    {
      "cell_type": "code",
      "metadata": {
        "colab": {
          "base_uri": "https://localhost:8080/",
          "height": 1000
        },
        "id": "O6js_8xm3hqV",
        "outputId": "a53747ba-f364-4115-a39e-3ba3e4c8a148"
      },
      "source": [
        "from cvxpy import Minimize\r\n",
        "\r\n",
        "# Samples to be taken\r\n",
        "num_samples = 100\r\n",
        "\r\n",
        "# Create problem data.\r\n",
        "n = 5\r\n",
        "mu = np.zeros(n)\r\n",
        "Sigma = 0.1*np.eye(n)\r\n",
        "returns = EmpiricalRandomVariable(\"EmpiricalReturns\", \r\n",
        "                                  NormalRandomVariable(mu, Sigma).sample(100),\r\n",
        "                                  mean = mu,\r\n",
        "                                  interpolate=False)\r\n",
        "returns2 = EmpiricalRandomVariable(\"EmpiricalReturns\", \r\n",
        "                                  NormalRandomVariable(mu, Sigma).sample(100),\r\n",
        "                                  mean = mu,\r\n",
        "                                  interpolate=False)\r\n",
        "cov_mats = EmpiricalRandomVariable(\"CovMats\",\r\n",
        "                                   cov_samples,\r\n",
        "                                   mean = Sigma,\r\n",
        "                                   interpolate=False)\r\n",
        "#cov_mats = cov_samples[0] + np.eye(n)\r\n",
        "alpha = -0.5\r\n",
        "beta = 0.05\r\n",
        "\r\n",
        "# Create the stochastic optimization problem.\r\n",
        "weights = Variable(n)\r\n",
        "probl = Problem(\r\n",
        "    Maximize(expectation(\r\n",
        "        weights.T*returns - cvxpy.sum(weights.T*cov_mats*weights),#cvxpy.quad_form(weights, cov_mats),# - 0.5*cvxpy.quad_form(weights, cov_samples[1]),\r\n",
        "        #-  0.5*cvxpy.quad_form(weights, cov_samples[1]),\r\n",
        "        num_samples=num_samples)),\r\n",
        "    [\r\n",
        "      cvxpy.max(weights) <= 0.3,\r\n",
        "      weights >= 0, \r\n",
        "      weights.T*np.ones(n) == 1,\r\n",
        "      prob(weights.T*returns <= alpha, num_samples=num_samples) <= beta\r\n",
        "    ]\r\n",
        ")\r\n",
        "\r\n",
        "probl.solve(verbose=True)\r\n",
        "\r\n",
        "print(probl.status)\r\n",
        "print(\"Optimal value:\", probl.value)\r\n",
        "print(\"Optimal weights:\", weights.value)"
      ],
      "execution_count": 52,
      "outputs": [
        {
          "output_type": "stream",
          "text": [
            "/usr/local/lib/python3.7/dist-packages/pymc/MCMC.py:81: UserWarning: Instantiating a Model object directly is deprecated. We recommend passing variables directly to the Model subclass.\n",
            "  warnings.warn(message)\n"
          ],
          "name": "stderr"
        },
        {
          "output_type": "error",
          "ename": "DCPError",
          "evalue": "ignored",
          "traceback": [
            "\u001b[0;31m---------------------------------------------------------------------------\u001b[0m",
            "\u001b[0;31mDCPError\u001b[0m                                  Traceback (most recent call last)",
            "\u001b[0;32m<ipython-input-52-cef91a5323d2>\u001b[0m in \u001b[0;36m<module>\u001b[0;34m()\u001b[0m\n\u001b[1;32m     39\u001b[0m )\n\u001b[1;32m     40\u001b[0m \u001b[0;34m\u001b[0m\u001b[0m\n\u001b[0;32m---> 41\u001b[0;31m \u001b[0mprobl\u001b[0m\u001b[0;34m.\u001b[0m\u001b[0msolve\u001b[0m\u001b[0;34m(\u001b[0m\u001b[0mverbose\u001b[0m\u001b[0;34m=\u001b[0m\u001b[0;32mTrue\u001b[0m\u001b[0;34m)\u001b[0m\u001b[0;34m\u001b[0m\u001b[0;34m\u001b[0m\u001b[0m\n\u001b[0m\u001b[1;32m     42\u001b[0m \u001b[0;34m\u001b[0m\u001b[0m\n\u001b[1;32m     43\u001b[0m \u001b[0mprint\u001b[0m\u001b[0;34m(\u001b[0m\u001b[0mprobl\u001b[0m\u001b[0;34m.\u001b[0m\u001b[0mstatus\u001b[0m\u001b[0;34m)\u001b[0m\u001b[0;34m\u001b[0m\u001b[0;34m\u001b[0m\u001b[0m\n",
            "\u001b[0;32m/usr/local/lib/python3.7/dist-packages/cvxpy/problems/problem.py\u001b[0m in \u001b[0;36msolve\u001b[0;34m(self, *args, **kwargs)\u001b[0m\n\u001b[1;32m    288\u001b[0m         \u001b[0;32melse\u001b[0m\u001b[0;34m:\u001b[0m\u001b[0;34m\u001b[0m\u001b[0;34m\u001b[0m\u001b[0m\n\u001b[1;32m    289\u001b[0m             \u001b[0msolve_func\u001b[0m \u001b[0;34m=\u001b[0m \u001b[0mProblem\u001b[0m\u001b[0;34m.\u001b[0m\u001b[0m_solve\u001b[0m\u001b[0;34m\u001b[0m\u001b[0;34m\u001b[0m\u001b[0m\n\u001b[0;32m--> 290\u001b[0;31m         \u001b[0;32mreturn\u001b[0m \u001b[0msolve_func\u001b[0m\u001b[0;34m(\u001b[0m\u001b[0mself\u001b[0m\u001b[0;34m,\u001b[0m \u001b[0;34m*\u001b[0m\u001b[0margs\u001b[0m\u001b[0;34m,\u001b[0m \u001b[0;34m**\u001b[0m\u001b[0mkwargs\u001b[0m\u001b[0;34m)\u001b[0m\u001b[0;34m\u001b[0m\u001b[0;34m\u001b[0m\u001b[0m\n\u001b[0m\u001b[1;32m    291\u001b[0m \u001b[0;34m\u001b[0m\u001b[0m\n\u001b[1;32m    292\u001b[0m     \u001b[0;34m@\u001b[0m\u001b[0mclassmethod\u001b[0m\u001b[0;34m\u001b[0m\u001b[0;34m\u001b[0m\u001b[0m\n",
            "\u001b[0;32m/usr/local/lib/python3.7/dist-packages/cvxpy/problems/problem.py\u001b[0m in \u001b[0;36m_solve\u001b[0;34m(self, solver, warm_start, verbose, parallel, gp, qcp, **kwargs)\u001b[0m\n\u001b[1;32m    566\u001b[0m                     solver, warm_start, verbose, **kwargs)\n\u001b[1;32m    567\u001b[0m \u001b[0;34m\u001b[0m\u001b[0m\n\u001b[0;32m--> 568\u001b[0;31m         \u001b[0mself\u001b[0m\u001b[0;34m.\u001b[0m\u001b[0m_construct_chains\u001b[0m\u001b[0;34m(\u001b[0m\u001b[0msolver\u001b[0m\u001b[0;34m=\u001b[0m\u001b[0msolver\u001b[0m\u001b[0;34m,\u001b[0m \u001b[0mgp\u001b[0m\u001b[0;34m=\u001b[0m\u001b[0mgp\u001b[0m\u001b[0;34m)\u001b[0m\u001b[0;34m\u001b[0m\u001b[0;34m\u001b[0m\u001b[0m\n\u001b[0m\u001b[1;32m    569\u001b[0m         data, solving_inverse_data = self._solving_chain.apply(\n\u001b[1;32m    570\u001b[0m             self._intermediate_problem)\n",
            "\u001b[0;32m/usr/local/lib/python3.7/dist-packages/cvxpy/problems/problem.py\u001b[0m in \u001b[0;36m_construct_chains\u001b[0;34m(self, solver, gp)\u001b[0m\n\u001b[1;32m    509\u001b[0m \u001b[0;34m\u001b[0m\u001b[0m\n\u001b[1;32m    510\u001b[0m             \u001b[0;32mexcept\u001b[0m \u001b[0mException\u001b[0m \u001b[0;32mas\u001b[0m \u001b[0me\u001b[0m\u001b[0;34m:\u001b[0m\u001b[0;34m\u001b[0m\u001b[0;34m\u001b[0m\u001b[0m\n\u001b[0;32m--> 511\u001b[0;31m                 \u001b[0;32mraise\u001b[0m \u001b[0me\u001b[0m\u001b[0;34m\u001b[0m\u001b[0;34m\u001b[0m\u001b[0m\n\u001b[0m\u001b[1;32m    512\u001b[0m \u001b[0;34m\u001b[0m\u001b[0m\n\u001b[1;32m    513\u001b[0m     def _solve(self,\n",
            "\u001b[0;32m/usr/local/lib/python3.7/dist-packages/cvxpy/problems/problem.py\u001b[0m in \u001b[0;36m_construct_chains\u001b[0;34m(self, solver, gp)\u001b[0m\n\u001b[1;32m    498\u001b[0m \u001b[0;34m\u001b[0m\u001b[0m\n\u001b[1;32m    499\u001b[0m                 \u001b[0mself\u001b[0m\u001b[0;34m.\u001b[0m\u001b[0m_intermediate_chain\u001b[0m \u001b[0;34m=\u001b[0m\u001b[0;31m \u001b[0m\u001b[0;31m\\\u001b[0m\u001b[0;34m\u001b[0m\u001b[0;34m\u001b[0m\u001b[0m\n\u001b[0;32m--> 500\u001b[0;31m                     \u001b[0mconstruct_intermediate_chain\u001b[0m\u001b[0;34m(\u001b[0m\u001b[0mself\u001b[0m\u001b[0;34m,\u001b[0m \u001b[0mcandidate_solvers\u001b[0m\u001b[0;34m,\u001b[0m \u001b[0mgp\u001b[0m\u001b[0;34m=\u001b[0m\u001b[0mgp\u001b[0m\u001b[0;34m)\u001b[0m\u001b[0;34m\u001b[0m\u001b[0;34m\u001b[0m\u001b[0m\n\u001b[0m\u001b[1;32m    501\u001b[0m                 \u001b[0mself\u001b[0m\u001b[0;34m.\u001b[0m\u001b[0m_intermediate_problem\u001b[0m\u001b[0;34m,\u001b[0m \u001b[0mself\u001b[0m\u001b[0;34m.\u001b[0m\u001b[0m_intermediate_inverse_data\u001b[0m \u001b[0;34m=\u001b[0m\u001b[0;31m \u001b[0m\u001b[0;31m\\\u001b[0m\u001b[0;34m\u001b[0m\u001b[0;34m\u001b[0m\u001b[0m\n\u001b[1;32m    502\u001b[0m                     \u001b[0mself\u001b[0m\u001b[0;34m.\u001b[0m\u001b[0m_intermediate_chain\u001b[0m\u001b[0;34m.\u001b[0m\u001b[0mapply\u001b[0m\u001b[0;34m(\u001b[0m\u001b[0mself\u001b[0m\u001b[0;34m)\u001b[0m\u001b[0;34m\u001b[0m\u001b[0;34m\u001b[0m\u001b[0m\n",
            "\u001b[0;32m/usr/local/lib/python3.7/dist-packages/cvxpy/reductions/solvers/intermediate_chain.py\u001b[0m in \u001b[0;36mconstruct_intermediate_chain\u001b[0;34m(problem, candidates, gp)\u001b[0m\n\u001b[1;32m     94\u001b[0m             append += (\"\\nHowever, the problem does follow DQCP rules. \"\n\u001b[1;32m     95\u001b[0m                        \"Consider calling solve() with `qcp=True`.\")\n\u001b[0;32m---> 96\u001b[0;31m         \u001b[0;32mraise\u001b[0m \u001b[0mDCPError\u001b[0m\u001b[0;34m(\u001b[0m\u001b[0;34m\"Problem does not follow DCP rules. Specifically:\\n\"\u001b[0m \u001b[0;34m+\u001b[0m \u001b[0mappend\u001b[0m\u001b[0;34m)\u001b[0m\u001b[0;34m\u001b[0m\u001b[0;34m\u001b[0m\u001b[0m\n\u001b[0m\u001b[1;32m     97\u001b[0m \u001b[0;34m\u001b[0m\u001b[0m\n\u001b[1;32m     98\u001b[0m     \u001b[0;32melif\u001b[0m \u001b[0mgp\u001b[0m \u001b[0;32mand\u001b[0m \u001b[0;32mnot\u001b[0m \u001b[0mproblem\u001b[0m\u001b[0;34m.\u001b[0m\u001b[0mis_dgp\u001b[0m\u001b[0;34m(\u001b[0m\u001b[0;34m)\u001b[0m\u001b[0;34m:\u001b[0m\u001b[0;34m\u001b[0m\u001b[0;34m\u001b[0m\u001b[0m\n",
            "\u001b[0;31mDCPError\u001b[0m: Problem does not follow DCP rules. Specifically:\nThe objective is not DCP. Its following subexpressions are not:\nvar72334 * [[ 1.58189076  0.17445977  0.20203949  0.06874759 -0.48574284]\n [ 0.17445977  1.56733807 -0.43496266  0.07077144 -0.32501473]\n [ 0.20203949 -0.43496266  1.68405457 -0.01170086  0.11702832]\n [ 0.06874759  0.07077144 -0.01170086  1.32390251  0.25214666]\n [-0.48574284 -0.32501473  0.11702832  0.25214666  1.88473883]] * var72334\nvar72334 * [[ 1.37934611  0.23180746 -0.29675954 -0.22272064 -0.10984612]\n [ 0.23180746  1.82417474 -0.63977654 -0.51509396  0.12283936]\n [-0.29675954 -0.63977654  1.89200845  0.28948942 -0.00446125]\n [-0.22272064 -0.51509396  0.28948942  1.84103431  0.14096465]\n [-0.10984612  0.12283936 -0.00446125  0.14096465  1.21566389]] * var72334\nvar72334 * [[ 1.40693841  0.19181202 -0.03427202  0.17409019 -0.21409474]\n [ 0.19181202  1.51772221  0.12794669 -0.027976    0.31210457]\n [-0.03427202  0.12794669  1.09794673  0.04504813  0.1128347 ]\n [ 0.17409019 -0.027976    0.04504813  1.56985091 -0.47778695]\n [-0.21409474  0.31210457  0.1128347  -0.47778695  1.81044593]] * var72334\nvar72334 * [[ 1.58189076  0.17445977  0.20203949  0.06874759 -0.48574284]\n [ 0.17445977  1.56733807 -0.43496266  0.07077144 -0.32501473]\n [ 0.20203949 -0.43496266  1.68405457 -0.01170086  0.11702832]\n [ 0.06874759  0.07077144 -0.01170086  1.32390251  0.25214666]\n [-0.48574284 -0.32501473  0.11702832  0.25214666  1.88473883]] * var72334\nvar72334 * [[ 1.74446852 -0.00206702 -0.22567914 -0.40253443 -0.39145653]\n [-0.00206702  1.14602493 -0.20940442 -0.09733977 -0.0935748 ]\n [-0.22567914 -0.20940442  1.76521521  0.56129534  0.30323487]\n [-0.40253443 -0.09733977  0.56129534  1.5531076   0.26023029]\n [-0.39145653 -0.0935748   0.30323487  0.26023029  1.40144181]] * var72334\nvar72334 * [[ 1.92264855  0.30475304 -0.00958071 -0.346409   -0.15432068]\n [ 0.30475304  1.18219286 -0.06515507 -0.19815072  0.10153584]\n [-0.00958071 -0.06515507  1.24074206  0.14010697  0.10793617]\n [-0.346409   -0.19815072  0.14010697  1.40879132  0.17083014]\n [-0.15432068  0.10153584  0.10793617  0.17083014  1.82495984]] * var72334\nvar72334 * [[ 1.11102451  0.02529835  0.10772344 -0.02435462 -0.10630624]\n [ 0.02529835  1.42822964 -0.22601164 -0.12842831  0.34055769]\n [ 0.10772344 -0.22601164  1.41579253  0.04067653 -0.48547811]\n [-0.02435462 -0.12842831  0.04067653  1.13261675 -0.31103835]\n [-0.10630624  0.34055769 -0.48547811 -0.31103835  2.22214837]] * var72334\nvar72334 * [[ 1.31105773 -0.03861447 -0.02141094  0.05983149  0.22449182]\n [-0.03861447  2.01419809  0.27139198 -0.3160922   0.11196465]\n [-0.02141094  0.27139198  1.21841934 -0.21156191  0.07968464]\n [ 0.05983149 -0.3160922  -0.21156191  1.29464009  0.16894464]\n [ 0.22449182  0.11196465  0.07968464  0.16894464  1.79481275]] * var72334\nvar72334 * [[ 1.37934611  0.23180746 -0.29675954 -0.22272064 -0.10984612]\n [ 0.23180746  1.82417474 -0.63977654 -0.51509396  0.12283936]\n [-0.29675954 -0.63977654  1.89200845  0.28948942 -0.00446125]\n [-0.22272064 -0.51509396  0.28948942  1.84103431  0.14096465]\n [-0.10984612  0.12283936 -0.00446125  0.14096465  1.21566389]] * var72334\nvar72334 * [[ 1.74446852 -0.00206702 -0.22567914 -0.40253443 -0.39145653]\n [-0.00206702  1.14602493 -0.20940442 -0.09733977 -0.0935748 ]\n [-0.22567914 -0.20940442  1.76521521  0.56129534  0.30323487]\n [-0.40253443 -0.09733977  0.56129534  1.5531076   0.26023029]\n [-0.39145653 -0.0935748   0.30323487  0.26023029  1.40144181]] * var72334\nvar72334 * [[ 1.14462404 -0.03570877  0.03363808 -0.01978936  0.01395115]\n [-0.03570877  1.30566525 -0.31504592  0.04060024  0.17712655]\n [ 0.03363808 -0.31504592  1.36604645 -0.09620468 -0.16863548]\n [-0.01978936  0.04060024 -0.09620468  1.23333377  0.1032209 ]\n [ 0.01395115  0.17712655 -0.16863548  0.1032209   1.18638516]] * var72334\nvar72334 * [[ 1.31105773 -0.03861447 -0.02141094  0.05983149  0.22449182]\n [-0.03861447  2.01419809  0.27139198 -0.3160922   0.11196465]\n [-0.02141094  0.27139198  1.21841934 -0.21156191  0.07968464]\n [ 0.05983149 -0.3160922  -0.21156191  1.29464009  0.16894464]\n [ 0.22449182  0.11196465  0.07968464  0.16894464  1.79481275]] * var72334\nvar72334 * [[ 1.74446852 -0.00206702 -0.22567914 -0.40253443 -0.39145653]\n [-0.00206702  1.14602493 -0.20940442 -0.09733977 -0.0935748 ]\n [-0.22567914 -0.20940442  1.76521521  0.56129534  0.30323487]\n [-0.40253443 -0.09733977  0.56129534  1.5531076   0.26023029]\n [-0.39145653 -0.0935748   0.30323487  0.26023029  1.40144181]] * var72334\nvar72334 * [[ 1.25642521 -0.11482344 -0.0144639  -0.12281742 -0.11305714]\n [-0.11482344  1.453164    0.09441532  0.03603516  0.17641825]\n [-0.0144639   0.09441532  1.187038    0.05126108  0.10993641]\n [-0.12281742  0.03603516  0.05126108  1.19866078 -0.19987012]\n [-0.11305714  0.17641825  0.10993641 -0.19987012  1.76384437]] * var72334\nvar72334 * [[ 1.31105773 -0.03861447 -0.02141094  0.05983149  0.22449182]\n [-0.03861447  2.01419809  0.27139198 -0.3160922   0.11196465]\n [-0.02141094  0.27139198  1.21841934 -0.21156191  0.07968464]\n [ 0.05983149 -0.3160922  -0.21156191  1.29464009  0.16894464]\n [ 0.22449182  0.11196465  0.07968464  0.16894464  1.79481275]] * var72334\nvar72334 * [[ 1.92264855  0.30475304 -0.00958071 -0.346409   -0.15432068]\n [ 0.30475304  1.18219286 -0.06515507 -0.19815072  0.10153584]\n [-0.00958071 -0.06515507  1.24074206  0.14010697  0.10793617]\n [-0.346409   -0.19815072  0.14010697  1.40879132  0.17083014]\n [-0.15432068  0.10153584  0.10793617  0.17083014  1.82495984]] * var72334\nvar72334 * [[ 1.14462404 -0.03570877  0.03363808 -0.01978936  0.01395115]\n [-0.03570877  1.30566525 -0.31504592  0.04060024  0.17712655]\n [ 0.03363808 -0.31504592  1.36604645 -0.09620468 -0.16863548]\n [-0.01978936  0.04060024 -0.09620468  1.23333377  0.1032209 ]\n [ 0.01395115  0.17712655 -0.16863548  0.1032209   1.18638516]] * var72334\nvar72334 * [[ 1.92264855  0.30475304 -0.00958071 -0.346409   -0.15432068]\n [ 0.30475304  1.18219286 -0.06515507 -0.19815072  0.10153584]\n [-0.00958071 -0.06515507  1.24074206  0.14010697  0.10793617]\n [-0.346409   -0.19815072  0.14010697  1.40879132  0.17083014]\n [-0.15432068  0.10153584  0.10793617  0.17083014  1.82495984]] * var72334\nvar72334 * [[ 1.31105773 -0.03861447 -0.02141094  0.05983149  0.22449182]\n [-0.03861447  2.01419809  0.27139198 -0.3160922   0.11196465]\n [-0.02141094  0.27139198  1.21841934 -0.21156191  0.07968464]\n [ 0.05983149 -0.3160922  -0.21156191  1.29464009  0.16894464]\n [ 0.22449182  0.11196465  0.07968464  0.16894464  1.79481275]] * var72334\nvar72334 * [[ 1.25642521 -0.11482344 -0.0144639  -0.12281742 -0.11305714]\n [-0.11482344  1.453164    0.09441532  0.03603516  0.17641825]\n [-0.0144639   0.09441532  1.187038    0.05126108  0.10993641]\n [-0.12281742  0.03603516  0.05126108  1.19866078 -0.19987012]\n [-0.11305714  0.17641825  0.10993641 -0.19987012  1.76384437]] * var72334\nvar72334 * [[ 1.40693841  0.19181202 -0.03427202  0.17409019 -0.21409474]\n [ 0.19181202  1.51772221  0.12794669 -0.027976    0.31210457]\n [-0.03427202  0.12794669  1.09794673  0.04504813  0.1128347 ]\n [ 0.17409019 -0.027976    0.04504813  1.56985091 -0.47778695]\n [-0.21409474  0.31210457  0.1128347  -0.47778695  1.81044593]] * var72334\nvar72334 * [[ 1.58189076  0.17445977  0.20203949  0.06874759 -0.48574284]\n [ 0.17445977  1.56733807 -0.43496266  0.07077144 -0.32501473]\n [ 0.20203949 -0.43496266  1.68405457 -0.01170086  0.11702832]\n [ 0.06874759  0.07077144 -0.01170086  1.32390251  0.25214666]\n [-0.48574284 -0.32501473  0.11702832  0.25214666  1.88473883]] * var72334\nvar72334 * [[ 1.58189076  0.17445977  0.20203949  0.06874759 -0.48574284]\n [ 0.17445977  1.56733807 -0.43496266  0.07077144 -0.32501473]\n [ 0.20203949 -0.43496266  1.68405457 -0.01170086  0.11702832]\n [ 0.06874759  0.07077144 -0.01170086  1.32390251  0.25214666]\n [-0.48574284 -0.32501473  0.11702832  0.25214666  1.88473883]] * var72334\nvar72334 * [[ 1.14462404 -0.03570877  0.03363808 -0.01978936  0.01395115]\n [-0.03570877  1.30566525 -0.31504592  0.04060024  0.17712655]\n [ 0.03363808 -0.31504592  1.36604645 -0.09620468 -0.16863548]\n [-0.01978936  0.04060024 -0.09620468  1.23333377  0.1032209 ]\n [ 0.01395115  0.17712655 -0.16863548  0.1032209   1.18638516]] * var72334\nvar72334 * [[ 1.40693841  0.19181202 -0.03427202  0.17409019 -0.21409474]\n [ 0.19181202  1.51772221  0.12794669 -0.027976    0.31210457]\n [-0.03427202  0.12794669  1.09794673  0.04504813  0.1128347 ]\n [ 0.17409019 -0.027976    0.04504813  1.56985091 -0.47778695]\n [-0.21409474  0.31210457  0.1128347  -0.47778695  1.81044593]] * var72334\nvar72334 * [[ 1.37934611  0.23180746 -0.29675954 -0.22272064 -0.10984612]\n [ 0.23180746  1.82417474 -0.63977654 -0.51509396  0.12283936]\n [-0.29675954 -0.63977654  1.89200845  0.28948942 -0.00446125]\n [-0.22272064 -0.51509396  0.28948942  1.84103431  0.14096465]\n [-0.10984612  0.12283936 -0.00446125  0.14096465  1.21566389]] * var72334\nvar72334 * [[ 1.25642521 -0.11482344 -0.0144639  -0.12281742 -0.11305714]\n [-0.11482344  1.453164    0.09441532  0.03603516  0.17641825]\n [-0.0144639   0.09441532  1.187038    0.05126108  0.10993641]\n [-0.12281742  0.03603516  0.05126108  1.19866078 -0.19987012]\n [-0.11305714  0.17641825  0.10993641 -0.19987012  1.76384437]] * var72334\nvar72334 * [[ 1.58189076  0.17445977  0.20203949  0.06874759 -0.48574284]\n [ 0.17445977  1.56733807 -0.43496266  0.07077144 -0.32501473]\n [ 0.20203949 -0.43496266  1.68405457 -0.01170086  0.11702832]\n [ 0.06874759  0.07077144 -0.01170086  1.32390251  0.25214666]\n [-0.48574284 -0.32501473  0.11702832  0.25214666  1.88473883]] * var72334\nvar72334 * [[ 1.74446852 -0.00206702 -0.22567914 -0.40253443 -0.39145653]\n [-0.00206702  1.14602493 -0.20940442 -0.09733977 -0.0935748 ]\n [-0.22567914 -0.20940442  1.76521521  0.56129534  0.30323487]\n [-0.40253443 -0.09733977  0.56129534  1.5531076   0.26023029]\n [-0.39145653 -0.0935748   0.30323487  0.26023029  1.40144181]] * var72334\nvar72334 * [[ 1.40693841  0.19181202 -0.03427202  0.17409019 -0.21409474]\n [ 0.19181202  1.51772221  0.12794669 -0.027976    0.31210457]\n [-0.03427202  0.12794669  1.09794673  0.04504813  0.1128347 ]\n [ 0.17409019 -0.027976    0.04504813  1.56985091 -0.47778695]\n [-0.21409474  0.31210457  0.1128347  -0.47778695  1.81044593]] * var72334\nvar72334 * [[ 1.40693841  0.19181202 -0.03427202  0.17409019 -0.21409474]\n [ 0.19181202  1.51772221  0.12794669 -0.027976    0.31210457]\n [-0.03427202  0.12794669  1.09794673  0.04504813  0.1128347 ]\n [ 0.17409019 -0.027976    0.04504813  1.56985091 -0.47778695]\n [-0.21409474  0.31210457  0.1128347  -0.47778695  1.81044593]] * var72334\nvar72334 * [[ 1.31105773 -0.03861447 -0.02141094  0.05983149  0.22449182]\n [-0.03861447  2.01419809  0.27139198 -0.3160922   0.11196465]\n [-0.02141094  0.27139198  1.21841934 -0.21156191  0.07968464]\n [ 0.05983149 -0.3160922  -0.21156191  1.29464009  0.16894464]\n [ 0.22449182  0.11196465  0.07968464  0.16894464  1.79481275]] * var72334\nvar72334 * [[ 1.14462404 -0.03570877  0.03363808 -0.01978936  0.01395115]\n [-0.03570877  1.30566525 -0.31504592  0.04060024  0.17712655]\n [ 0.03363808 -0.31504592  1.36604645 -0.09620468 -0.16863548]\n [-0.01978936  0.04060024 -0.09620468  1.23333377  0.1032209 ]\n [ 0.01395115  0.17712655 -0.16863548  0.1032209   1.18638516]] * var72334\nvar72334 * [[ 1.25642521 -0.11482344 -0.0144639  -0.12281742 -0.11305714]\n [-0.11482344  1.453164    0.09441532  0.03603516  0.17641825]\n [-0.0144639   0.09441532  1.187038    0.05126108  0.10993641]\n [-0.12281742  0.03603516  0.05126108  1.19866078 -0.19987012]\n [-0.11305714  0.17641825  0.10993641 -0.19987012  1.76384437]] * var72334\nvar72334 * [[ 1.58189076  0.17445977  0.20203949  0.06874759 -0.48574284]\n [ 0.17445977  1.56733807 -0.43496266  0.07077144 -0.32501473]\n [ 0.20203949 -0.43496266  1.68405457 -0.01170086  0.11702832]\n [ 0.06874759  0.07077144 -0.01170086  1.32390251  0.25214666]\n [-0.48574284 -0.32501473  0.11702832  0.25214666  1.88473883]] * var72334\nvar72334 * [[ 1.58189076  0.17445977  0.20203949  0.06874759 -0.48574284]\n [ 0.17445977  1.56733807 -0.43496266  0.07077144 -0.32501473]\n [ 0.20203949 -0.43496266  1.68405457 -0.01170086  0.11702832]\n [ 0.06874759  0.07077144 -0.01170086  1.32390251  0.25214666]\n [-0.48574284 -0.32501473  0.11702832  0.25214666  1.88473883]] * var72334\nvar72334 * [[ 1.23105664  0.17822877 -0.05937613 -0.18389443  0.00665347]\n [ 0.17822877  1.26348267 -0.07828259 -0.19461832  0.1013803 ]\n [-0.05937613 -0.07828259  1.65897989  0.26156246 -0.17224957]\n [-0.18389443 -0.19461832  0.26156246  1.54777046 -0.05068777]\n [ 0.00665347  0.1013803  -0.17224957 -0.05068777  1.11252563]] * var72334\nvar72334 * [[ 1.37934611  0.23180746 -0.29675954 -0.22272064 -0.10984612]\n [ 0.23180746  1.82417474 -0.63977654 -0.51509396  0.12283936]\n [-0.29675954 -0.63977654  1.89200845  0.28948942 -0.00446125]\n [-0.22272064 -0.51509396  0.28948942  1.84103431  0.14096465]\n [-0.10984612  0.12283936 -0.00446125  0.14096465  1.21566389]] * var72334\nvar72334 * [[ 1.25642521 -0.11482344 -0.0144639  -0.12281742 -0.11305714]\n [-0.11482344  1.453164    0.09441532  0.03603516  0.17641825]\n [-0.0144639   0.09441532  1.187038    0.05126108  0.10993641]\n [-0.12281742  0.03603516  0.05126108  1.19866078 -0.19987012]\n [-0.11305714  0.17641825  0.10993641 -0.19987012  1.76384437]] * var72334\nvar72334 * [[ 1.31105773 -0.03861447 -0.02141094  0.05983149  0.22449182]\n [-0.03861447  2.01419809  0.27139198 -0.3160922   0.11196465]\n [-0.02141094  0.27139198  1.21841934 -0.21156191  0.07968464]\n [ 0.05983149 -0.3160922  -0.21156191  1.29464009  0.16894464]\n [ 0.22449182  0.11196465  0.07968464  0.16894464  1.79481275]] * var72334\nvar72334 * [[ 1.23105664  0.17822877 -0.05937613 -0.18389443  0.00665347]\n [ 0.17822877  1.26348267 -0.07828259 -0.19461832  0.1013803 ]\n [-0.05937613 -0.07828259  1.65897989  0.26156246 -0.17224957]\n [-0.18389443 -0.19461832  0.26156246  1.54777046 -0.05068777]\n [ 0.00665347  0.1013803  -0.17224957 -0.05068777  1.11252563]] * var72334\nvar72334 * [[ 1.11102451  0.02529835  0.10772344 -0.02435462 -0.10630624]\n [ 0.02529835  1.42822964 -0.22601164 -0.12842831  0.34055769]\n [ 0.10772344 -0.22601164  1.41579253  0.04067653 -0.48547811]\n [-0.02435462 -0.12842831  0.04067653  1.13261675 -0.31103835]\n [-0.10630624  0.34055769 -0.48547811 -0.31103835  2.22214837]] * var72334\nvar72334 * [[ 1.37934611  0.23180746 -0.29675954 -0.22272064 -0.10984612]\n [ 0.23180746  1.82417474 -0.63977654 -0.51509396  0.12283936]\n [-0.29675954 -0.63977654  1.89200845  0.28948942 -0.00446125]\n [-0.22272064 -0.51509396  0.28948942  1.84103431  0.14096465]\n [-0.10984612  0.12283936 -0.00446125  0.14096465  1.21566389]] * var72334\nvar72334 * [[ 1.23105664  0.17822877 -0.05937613 -0.18389443  0.00665347]\n [ 0.17822877  1.26348267 -0.07828259 -0.19461832  0.1013803 ]\n [-0.05937613 -0.07828259  1.65897989  0.26156246 -0.17224957]\n [-0.18389443 -0.19461832  0.26156246  1.54777046 -0.05068777]\n [ 0.00665347  0.1013803  -0.17224957 -0.05068777  1.11252563]] * var72334\nvar72334 * [[ 1.25642521 -0.11482344 -0.0144639  -0.12281742 -0.11305714]\n [-0.11482344  1.453164    0.09441532  0.03603516  0.17641825]\n [-0.0144639   0.09441532  1.187038    0.05126108  0.10993641]\n [-0.12281742  0.03603516  0.05126108  1.19866078 -0.19987012]\n [-0.11305714  0.17641825  0.10993641 -0.19987012  1.76384437]] * var72334\nvar72334 * [[ 1.11102451  0.02529835  0.10772344 -0.02435462 -0.10630624]\n [ 0.02529835  1.42822964 -0.22601164 -0.12842831  0.34055769]\n [ 0.10772344 -0.22601164  1.41579253  0.04067653 -0.48547811]\n [-0.02435462 -0.12842831  0.04067653  1.13261675 -0.31103835]\n [-0.10630624  0.34055769 -0.48547811 -0.31103835  2.22214837]] * var72334\nvar72334 * [[ 1.14462404 -0.03570877  0.03363808 -0.01978936  0.01395115]\n [-0.03570877  1.30566525 -0.31504592  0.04060024  0.17712655]\n [ 0.03363808 -0.31504592  1.36604645 -0.09620468 -0.16863548]\n [-0.01978936  0.04060024 -0.09620468  1.23333377  0.1032209 ]\n [ 0.01395115  0.17712655 -0.16863548  0.1032209   1.18638516]] * var72334\nvar72334 * [[ 1.40693841  0.19181202 -0.03427202  0.17409019 -0.21409474]\n [ 0.19181202  1.51772221  0.12794669 -0.027976    0.31210457]\n [-0.03427202  0.12794669  1.09794673  0.04504813  0.1128347 ]\n [ 0.17409019 -0.027976    0.04504813  1.56985091 -0.47778695]\n [-0.21409474  0.31210457  0.1128347  -0.47778695  1.81044593]] * var72334\nvar72334 * [[ 1.37934611  0.23180746 -0.29675954 -0.22272064 -0.10984612]\n [ 0.23180746  1.82417474 -0.63977654 -0.51509396  0.12283936]\n [-0.29675954 -0.63977654  1.89200845  0.28948942 -0.00446125]\n [-0.22272064 -0.51509396  0.28948942  1.84103431  0.14096465]\n [-0.10984612  0.12283936 -0.00446125  0.14096465  1.21566389]] * var72334\nvar72334 * [[ 1.37934611  0.23180746 -0.29675954 -0.22272064 -0.10984612]\n [ 0.23180746  1.82417474 -0.63977654 -0.51509396  0.12283936]\n [-0.29675954 -0.63977654  1.89200845  0.28948942 -0.00446125]\n [-0.22272064 -0.51509396  0.28948942  1.84103431  0.14096465]\n [-0.10984612  0.12283936 -0.00446125  0.14096465  1.21566389]] * var72334\nvar72334 * [[ 1.31105773 -0.03861447 -0.02141094  0.05983149  0.22449182]\n [-0.03861447  2.01419809  0.27139198 -0.3160922   0.11196465]\n [-0.02141094  0.27139198  1.21841934 -0.21156191  0.07968464]\n [ 0.05983149 -0.3160922  -0.21156191  1.29464009  0.16894464]\n [ 0.22449182  0.11196465  0.07968464  0.16894464  1.79481275]] * var72334\nvar72334 * [[ 1.14462404 -0.03570877  0.03363808 -0.01978936  0.01395115]\n [-0.03570877  1.30566525 -0.31504592  0.04060024  0.17712655]\n [ 0.03363808 -0.31504592  1.36604645 -0.09620468 -0.16863548]\n [-0.01978936  0.04060024 -0.09620468  1.23333377  0.1032209 ]\n [ 0.01395115  0.17712655 -0.16863548  0.1032209   1.18638516]] * var72334\nvar72334 * [[ 1.25642521 -0.11482344 -0.0144639  -0.12281742 -0.11305714]\n [-0.11482344  1.453164    0.09441532  0.03603516  0.17641825]\n [-0.0144639   0.09441532  1.187038    0.05126108  0.10993641]\n [-0.12281742  0.03603516  0.05126108  1.19866078 -0.19987012]\n [-0.11305714  0.17641825  0.10993641 -0.19987012  1.76384437]] * var72334\nvar72334 * [[ 1.11102451  0.02529835  0.10772344 -0.02435462 -0.10630624]\n [ 0.02529835  1.42822964 -0.22601164 -0.12842831  0.34055769]\n [ 0.10772344 -0.22601164  1.41579253  0.04067653 -0.48547811]\n [-0.02435462 -0.12842831  0.04067653  1.13261675 -0.31103835]\n [-0.10630624  0.34055769 -0.48547811 -0.31103835  2.22214837]] * var72334\nvar72334 * [[ 1.31105773 -0.03861447 -0.02141094  0.05983149  0.22449182]\n [-0.03861447  2.01419809  0.27139198 -0.3160922   0.11196465]\n [-0.02141094  0.27139198  1.21841934 -0.21156191  0.07968464]\n [ 0.05983149 -0.3160922  -0.21156191  1.29464009  0.16894464]\n [ 0.22449182  0.11196465  0.07968464  0.16894464  1.79481275]] * var72334\nvar72334 * [[ 1.25642521 -0.11482344 -0.0144639  -0.12281742 -0.11305714]\n [-0.11482344  1.453164    0.09441532  0.03603516  0.17641825]\n [-0.0144639   0.09441532  1.187038    0.05126108  0.10993641]\n [-0.12281742  0.03603516  0.05126108  1.19866078 -0.19987012]\n [-0.11305714  0.17641825  0.10993641 -0.19987012  1.76384437]] * var72334\nvar72334 * [[ 1.92264855  0.30475304 -0.00958071 -0.346409   -0.15432068]\n [ 0.30475304  1.18219286 -0.06515507 -0.19815072  0.10153584]\n [-0.00958071 -0.06515507  1.24074206  0.14010697  0.10793617]\n [-0.346409   -0.19815072  0.14010697  1.40879132  0.17083014]\n [-0.15432068  0.10153584  0.10793617  0.17083014  1.82495984]] * var72334\nvar72334 * [[ 1.23105664  0.17822877 -0.05937613 -0.18389443  0.00665347]\n [ 0.17822877  1.26348267 -0.07828259 -0.19461832  0.1013803 ]\n [-0.05937613 -0.07828259  1.65897989  0.26156246 -0.17224957]\n [-0.18389443 -0.19461832  0.26156246  1.54777046 -0.05068777]\n [ 0.00665347  0.1013803  -0.17224957 -0.05068777  1.11252563]] * var72334\nvar72334 * [[ 1.37934611  0.23180746 -0.29675954 -0.22272064 -0.10984612]\n [ 0.23180746  1.82417474 -0.63977654 -0.51509396  0.12283936]\n [-0.29675954 -0.63977654  1.89200845  0.28948942 -0.00446125]\n [-0.22272064 -0.51509396  0.28948942  1.84103431  0.14096465]\n [-0.10984612  0.12283936 -0.00446125  0.14096465  1.21566389]] * var72334\nvar72334 * [[ 1.14462404 -0.03570877  0.03363808 -0.01978936  0.01395115]\n [-0.03570877  1.30566525 -0.31504592  0.04060024  0.17712655]\n [ 0.03363808 -0.31504592  1.36604645 -0.09620468 -0.16863548]\n [-0.01978936  0.04060024 -0.09620468  1.23333377  0.1032209 ]\n [ 0.01395115  0.17712655 -0.16863548  0.1032209   1.18638516]] * var72334\nvar72334 * [[ 1.40693841  0.19181202 -0.03427202  0.17409019 -0.21409474]\n [ 0.19181202  1.51772221  0.12794669 -0.027976    0.31210457]\n [-0.03427202  0.12794669  1.09794673  0.04504813  0.1128347 ]\n [ 0.17409019 -0.027976    0.04504813  1.56985091 -0.47778695]\n [-0.21409474  0.31210457  0.1128347  -0.47778695  1.81044593]] * var72334\nvar72334 * [[ 1.14462404 -0.03570877  0.03363808 -0.01978936  0.01395115]\n [-0.03570877  1.30566525 -0.31504592  0.04060024  0.17712655]\n [ 0.03363808 -0.31504592  1.36604645 -0.09620468 -0.16863548]\n [-0.01978936  0.04060024 -0.09620468  1.23333377  0.1032209 ]\n [ 0.01395115  0.17712655 -0.16863548  0.1032209   1.18638516]] * var72334\nvar72334 * [[ 1.23105664  0.17822877 -0.05937613 -0.18389443  0.00665347]\n [ 0.17822877  1.26348267 -0.07828259 -0.19461832  0.1013803 ]\n [-0.05937613 -0.07828259  1.65897989  0.26156246 -0.17224957]\n [-0.18389443 -0.19461832  0.26156246  1.54777046 -0.05068777]\n [ 0.00665347  0.1013803  -0.17224957 -0.05068777  1.11252563]] * var72334\nvar72334 * [[ 1.74446852 -0.00206702 -0.22567914 -0.40253443 -0.39145653]\n [-0.00206702  1.14602493 -0.20940442 -0.09733977 -0.0935748 ]\n [-0.22567914 -0.20940442  1.76521521  0.56129534  0.30323487]\n [-0.40253443 -0.09733977  0.56129534  1.5531076   0.26023029]\n [-0.39145653 -0.0935748   0.30323487  0.26023029  1.40144181]] * var72334\nvar72334 * [[ 1.74446852 -0.00206702 -0.22567914 -0.40253443 -0.39145653]\n [-0.00206702  1.14602493 -0.20940442 -0.09733977 -0.0935748 ]\n [-0.22567914 -0.20940442  1.76521521  0.56129534  0.30323487]\n [-0.40253443 -0.09733977  0.56129534  1.5531076   0.26023029]\n [-0.39145653 -0.0935748   0.30323487  0.26023029  1.40144181]] * var72334\nvar72334 * [[ 1.31105773 -0.03861447 -0.02141094  0.05983149  0.22449182]\n [-0.03861447  2.01419809  0.27139198 -0.3160922   0.11196465]\n [-0.02141094  0.27139198  1.21841934 -0.21156191  0.07968464]\n [ 0.05983149 -0.3160922  -0.21156191  1.29464009  0.16894464]\n [ 0.22449182  0.11196465  0.07968464  0.16894464  1.79481275]] * var72334\nvar72334 * [[ 1.92264855  0.30475304 -0.00958071 -0.346409   -0.15432068]\n [ 0.30475304  1.18219286 -0.06515507 -0.19815072  0.10153584]\n [-0.00958071 -0.06515507  1.24074206  0.14010697  0.10793617]\n [-0.346409   -0.19815072  0.14010697  1.40879132  0.17083014]\n [-0.15432068  0.10153584  0.10793617  0.17083014  1.82495984]] * var72334\nvar72334 * [[ 1.14462404 -0.03570877  0.03363808 -0.01978936  0.01395115]\n [-0.03570877  1.30566525 -0.31504592  0.04060024  0.17712655]\n [ 0.03363808 -0.31504592  1.36604645 -0.09620468 -0.16863548]\n [-0.01978936  0.04060024 -0.09620468  1.23333377  0.1032209 ]\n [ 0.01395115  0.17712655 -0.16863548  0.1032209   1.18638516]] * var72334\nvar72334 * [[ 1.40693841  0.19181202 -0.03427202  0.17409019 -0.21409474]\n [ 0.19181202  1.51772221  0.12794669 -0.027976    0.31210457]\n [-0.03427202  0.12794669  1.09794673  0.04504813  0.1128347 ]\n [ 0.17409019 -0.027976    0.04504813  1.56985091 -0.47778695]\n [-0.21409474  0.31210457  0.1128347  -0.47778695  1.81044593]] * var72334\nvar72334 * [[ 1.74446852 -0.00206702 -0.22567914 -0.40253443 -0.39145653]\n [-0.00206702  1.14602493 -0.20940442 -0.09733977 -0.0935748 ]\n [-0.22567914 -0.20940442  1.76521521  0.56129534  0.30323487]\n [-0.40253443 -0.09733977  0.56129534  1.5531076   0.26023029]\n [-0.39145653 -0.0935748   0.30323487  0.26023029  1.40144181]] * var72334\nvar72334 * [[ 1.58189076  0.17445977  0.20203949  0.06874759 -0.48574284]\n [ 0.17445977  1.56733807 -0.43496266  0.07077144 -0.32501473]\n [ 0.20203949 -0.43496266  1.68405457 -0.01170086  0.11702832]\n [ 0.06874759  0.07077144 -0.01170086  1.32390251  0.25214666]\n [-0.48574284 -0.32501473  0.11702832  0.25214666  1.88473883]] * var72334\nvar72334 * [[ 1.92264855  0.30475304 -0.00958071 -0.346409   -0.15432068]\n [ 0.30475304  1.18219286 -0.06515507 -0.19815072  0.10153584]\n [-0.00958071 -0.06515507  1.24074206  0.14010697  0.10793617]\n [-0.346409   -0.19815072  0.14010697  1.40879132  0.17083014]\n [-0.15432068  0.10153584  0.10793617  0.17083014  1.82495984]] * var72334\nvar72334 * [[ 1.23105664  0.17822877 -0.05937613 -0.18389443  0.00665347]\n [ 0.17822877  1.26348267 -0.07828259 -0.19461832  0.1013803 ]\n [-0.05937613 -0.07828259  1.65897989  0.26156246 -0.17224957]\n [-0.18389443 -0.19461832  0.26156246  1.54777046 -0.05068777]\n [ 0.00665347  0.1013803  -0.17224957 -0.05068777  1.11252563]] * var72334\nvar72334 * [[ 1.58189076  0.17445977  0.20203949  0.06874759 -0.48574284]\n [ 0.17445977  1.56733807 -0.43496266  0.07077144 -0.32501473]\n [ 0.20203949 -0.43496266  1.68405457 -0.01170086  0.11702832]\n [ 0.06874759  0.07077144 -0.01170086  1.32390251  0.25214666]\n [-0.48574284 -0.32501473  0.11702832  0.25214666  1.88473883]] * var72334\nvar72334 * [[ 1.14462404 -0.03570877  0.03363808 -0.01978936  0.01395115]\n [-0.03570877  1.30566525 -0.31504592  0.04060024  0.17712655]\n [ 0.03363808 -0.31504592  1.36604645 -0.09620468 -0.16863548]\n [-0.01978936  0.04060024 -0.09620468  1.23333377  0.1032209 ]\n [ 0.01395115  0.17712655 -0.16863548  0.1032209   1.18638516]] * var72334\nvar72334 * [[ 1.31105773 -0.03861447 -0.02141094  0.05983149  0.22449182]\n [-0.03861447  2.01419809  0.27139198 -0.3160922   0.11196465]\n [-0.02141094  0.27139198  1.21841934 -0.21156191  0.07968464]\n [ 0.05983149 -0.3160922  -0.21156191  1.29464009  0.16894464]\n [ 0.22449182  0.11196465  0.07968464  0.16894464  1.79481275]] * var72334\nvar72334 * [[ 1.31105773 -0.03861447 -0.02141094  0.05983149  0.22449182]\n [-0.03861447  2.01419809  0.27139198 -0.3160922   0.11196465]\n [-0.02141094  0.27139198  1.21841934 -0.21156191  0.07968464]\n [ 0.05983149 -0.3160922  -0.21156191  1.29464009  0.16894464]\n [ 0.22449182  0.11196465  0.07968464  0.16894464  1.79481275]] * var72334\nvar72334 * [[ 1.37934611  0.23180746 -0.29675954 -0.22272064 -0.10984612]\n [ 0.23180746  1.82417474 -0.63977654 -0.51509396  0.12283936]\n [-0.29675954 -0.63977654  1.89200845  0.28948942 -0.00446125]\n [-0.22272064 -0.51509396  0.28948942  1.84103431  0.14096465]\n [-0.10984612  0.12283936 -0.00446125  0.14096465  1.21566389]] * var72334\nvar72334 * [[ 1.40693841  0.19181202 -0.03427202  0.17409019 -0.21409474]\n [ 0.19181202  1.51772221  0.12794669 -0.027976    0.31210457]\n [-0.03427202  0.12794669  1.09794673  0.04504813  0.1128347 ]\n [ 0.17409019 -0.027976    0.04504813  1.56985091 -0.47778695]\n [-0.21409474  0.31210457  0.1128347  -0.47778695  1.81044593]] * var72334\nvar72334 * [[ 1.25642521 -0.11482344 -0.0144639  -0.12281742 -0.11305714]\n [-0.11482344  1.453164    0.09441532  0.03603516  0.17641825]\n [-0.0144639   0.09441532  1.187038    0.05126108  0.10993641]\n [-0.12281742  0.03603516  0.05126108  1.19866078 -0.19987012]\n [-0.11305714  0.17641825  0.10993641 -0.19987012  1.76384437]] * var72334\nvar72334 * [[ 1.74446852 -0.00206702 -0.22567914 -0.40253443 -0.39145653]\n [-0.00206702  1.14602493 -0.20940442 -0.09733977 -0.0935748 ]\n [-0.22567914 -0.20940442  1.76521521  0.56129534  0.30323487]\n [-0.40253443 -0.09733977  0.56129534  1.5531076   0.26023029]\n [-0.39145653 -0.0935748   0.30323487  0.26023029  1.40144181]] * var72334\nvar72334 * [[ 1.14462404 -0.03570877  0.03363808 -0.01978936  0.01395115]\n [-0.03570877  1.30566525 -0.31504592  0.04060024  0.17712655]\n [ 0.03363808 -0.31504592  1.36604645 -0.09620468 -0.16863548]\n [-0.01978936  0.04060024 -0.09620468  1.23333377  0.1032209 ]\n [ 0.01395115  0.17712655 -0.16863548  0.1032209   1.18638516]] * var72334\nvar72334 * [[ 1.40693841  0.19181202 -0.03427202  0.17409019 -0.21409474]\n [ 0.19181202  1.51772221  0.12794669 -0.027976    0.31210457]\n [-0.03427202  0.12794669  1.09794673  0.04504813  0.1128347 ]\n [ 0.17409019 -0.027976    0.04504813  1.56985091 -0.47778695]\n [-0.21409474  0.31210457  0.1128347  -0.47778695  1.81044593]] * var72334\nvar72334 * [[ 1.31105773 -0.03861447 -0.02141094  0.05983149  0.22449182]\n [-0.03861447  2.01419809  0.27139198 -0.3160922   0.11196465]\n [-0.02141094  0.27139198  1.21841934 -0.21156191  0.07968464]\n [ 0.05983149 -0.3160922  -0.21156191  1.29464009  0.16894464]\n [ 0.22449182  0.11196465  0.07968464  0.16894464  1.79481275]] * var72334\nvar72334 * [[ 1.92264855  0.30475304 -0.00958071 -0.346409   -0.15432068]\n [ 0.30475304  1.18219286 -0.06515507 -0.19815072  0.10153584]\n [-0.00958071 -0.06515507  1.24074206  0.14010697  0.10793617]\n [-0.346409   -0.19815072  0.14010697  1.40879132  0.17083014]\n [-0.15432068  0.10153584  0.10793617  0.17083014  1.82495984]] * var72334\nvar72334 * [[ 1.37934611  0.23180746 -0.29675954 -0.22272064 -0.10984612]\n [ 0.23180746  1.82417474 -0.63977654 -0.51509396  0.12283936]\n [-0.29675954 -0.63977654  1.89200845  0.28948942 -0.00446125]\n [-0.22272064 -0.51509396  0.28948942  1.84103431  0.14096465]\n [-0.10984612  0.12283936 -0.00446125  0.14096465  1.21566389]] * var72334\nvar72334 * [[ 1.25642521 -0.11482344 -0.0144639  -0.12281742 -0.11305714]\n [-0.11482344  1.453164    0.09441532  0.03603516  0.17641825]\n [-0.0144639   0.09441532  1.187038    0.05126108  0.10993641]\n [-0.12281742  0.03603516  0.05126108  1.19866078 -0.19987012]\n [-0.11305714  0.17641825  0.10993641 -0.19987012  1.76384437]] * var72334\nvar72334 * [[ 1.58189076  0.17445977  0.20203949  0.06874759 -0.48574284]\n [ 0.17445977  1.56733807 -0.43496266  0.07077144 -0.32501473]\n [ 0.20203949 -0.43496266  1.68405457 -0.01170086  0.11702832]\n [ 0.06874759  0.07077144 -0.01170086  1.32390251  0.25214666]\n [-0.48574284 -0.32501473  0.11702832  0.25214666  1.88473883]] * var72334\nvar72334 * [[ 1.37934611  0.23180746 -0.29675954 -0.22272064 -0.10984612]\n [ 0.23180746  1.82417474 -0.63977654 -0.51509396  0.12283936]\n [-0.29675954 -0.63977654  1.89200845  0.28948942 -0.00446125]\n [-0.22272064 -0.51509396  0.28948942  1.84103431  0.14096465]\n [-0.10984612  0.12283936 -0.00446125  0.14096465  1.21566389]] * var72334\nvar72334 * [[ 1.14462404 -0.03570877  0.03363808 -0.01978936  0.01395115]\n [-0.03570877  1.30566525 -0.31504592  0.04060024  0.17712655]\n [ 0.03363808 -0.31504592  1.36604645 -0.09620468 -0.16863548]\n [-0.01978936  0.04060024 -0.09620468  1.23333377  0.1032209 ]\n [ 0.01395115  0.17712655 -0.16863548  0.1032209   1.18638516]] * var72334\nvar72334 * [[ 1.11102451  0.02529835  0.10772344 -0.02435462 -0.10630624]\n [ 0.02529835  1.42822964 -0.22601164 -0.12842831  0.34055769]\n [ 0.10772344 -0.22601164  1.41579253  0.04067653 -0.48547811]\n [-0.02435462 -0.12842831  0.04067653  1.13261675 -0.31103835]\n [-0.10630624  0.34055769 -0.48547811 -0.31103835  2.22214837]] * var72334\nvar72334 * [[ 1.23105664  0.17822877 -0.05937613 -0.18389443  0.00665347]\n [ 0.17822877  1.26348267 -0.07828259 -0.19461832  0.1013803 ]\n [-0.05937613 -0.07828259  1.65897989  0.26156246 -0.17224957]\n [-0.18389443 -0.19461832  0.26156246  1.54777046 -0.05068777]\n [ 0.00665347  0.1013803  -0.17224957 -0.05068777  1.11252563]] * var72334\nvar72334 * [[ 1.25642521 -0.11482344 -0.0144639  -0.12281742 -0.11305714]\n [-0.11482344  1.453164    0.09441532  0.03603516  0.17641825]\n [-0.0144639   0.09441532  1.187038    0.05126108  0.10993641]\n [-0.12281742  0.03603516  0.05126108  1.19866078 -0.19987012]\n [-0.11305714  0.17641825  0.10993641 -0.19987012  1.76384437]] * var72334\nvar72334 * [[ 1.58189076  0.17445977  0.20203949  0.06874759 -0.48574284]\n [ 0.17445977  1.56733807 -0.43496266  0.07077144 -0.32501473]\n [ 0.20203949 -0.43496266  1.68405457 -0.01170086  0.11702832]\n [ 0.06874759  0.07077144 -0.01170086  1.32390251  0.25214666]\n [-0.48574284 -0.32501473  0.11702832  0.25214666  1.88473883]] * var72334\nvar72334 * [[ 1.14462404 -0.03570877  0.03363808 -0.01978936  0.01395115]\n [-0.03570877  1.30566525 -0.31504592  0.04060024  0.17712655]\n [ 0.03363808 -0.31504592  1.36604645 -0.09620468 -0.16863548]\n [-0.01978936  0.04060024 -0.09620468  1.23333377  0.1032209 ]\n [ 0.01395115  0.17712655 -0.16863548  0.1032209   1.18638516]] * var72334\nvar72334 * [[ 1.23105664  0.17822877 -0.05937613 -0.18389443  0.00665347]\n [ 0.17822877  1.26348267 -0.07828259 -0.19461832  0.1013803 ]\n [-0.05937613 -0.07828259  1.65897989  0.26156246 -0.17224957]\n [-0.18389443 -0.19461832  0.26156246  1.54777046 -0.05068777]\n [ 0.00665347  0.1013803  -0.17224957 -0.05068777  1.11252563]] * var72334\nvar72334 * [[ 1.74446852 -0.00206702 -0.22567914 -0.40253443 -0.39145653]\n [-0.00206702  1.14602493 -0.20940442 -0.09733977 -0.0935748 ]\n [-0.22567914 -0.20940442  1.76521521  0.56129534  0.30323487]\n [-0.40253443 -0.09733977  0.56129534  1.5531076   0.26023029]\n [-0.39145653 -0.0935748   0.30323487  0.26023029  1.40144181]] * var72334\nvar72334 * [[ 1.31105773 -0.03861447 -0.02141094  0.05983149  0.22449182]\n [-0.03861447  2.01419809  0.27139198 -0.3160922   0.11196465]\n [-0.02141094  0.27139198  1.21841934 -0.21156191  0.07968464]\n [ 0.05983149 -0.3160922  -0.21156191  1.29464009  0.16894464]\n [ 0.22449182  0.11196465  0.07968464  0.16894464  1.79481275]] * var72334\nvar72334 * [[ 1.58189076  0.17445977  0.20203949  0.06874759 -0.48574284]\n [ 0.17445977  1.56733807 -0.43496266  0.07077144 -0.32501473]\n [ 0.20203949 -0.43496266  1.68405457 -0.01170086  0.11702832]\n [ 0.06874759  0.07077144 -0.01170086  1.32390251  0.25214666]\n [-0.48574284 -0.32501473  0.11702832  0.25214666  1.88473883]] * var72334\nvar72334 * [[ 1.25642521 -0.11482344 -0.0144639  -0.12281742 -0.11305714]\n [-0.11482344  1.453164    0.09441532  0.03603516  0.17641825]\n [-0.0144639   0.09441532  1.187038    0.05126108  0.10993641]\n [-0.12281742  0.03603516  0.05126108  1.19866078 -0.19987012]\n [-0.11305714  0.17641825  0.10993641 -0.19987012  1.76384437]] * var72334"
          ]
        }
      ]
    },
    {
      "cell_type": "code",
      "metadata": {
        "colab": {
          "base_uri": "https://localhost:8080/"
        },
        "id": "lVBW7fFu4Jn8",
        "outputId": "aecb6010-2e2d-4c71-ef09-0a9b50018c77"
      },
      "source": [
        "weights.T*cov_mats*weights"
      ],
      "execution_count": 55,
      "outputs": [
        {
          "output_type": "execute_result",
          "data": {
            "text/plain": [
              "Expression(UNKNOWN, UNKNOWN, ())"
            ]
          },
          "metadata": {
            "tags": []
          },
          "execution_count": 55
        }
      ]
    },
    {
      "cell_type": "code",
      "metadata": {
        "colab": {
          "base_uri": "https://localhost:8080/"
        },
        "id": "jYmxBSWH4Jq2",
        "outputId": "f5283371-42cd-4e33-e6d6-c502d884afe4"
      },
      "source": [
        "np.linalg.eig(cov_mats)"
      ],
      "execution_count": 61,
      "outputs": [
        {
          "output_type": "execute_result",
          "data": {
            "text/plain": [
              "(array([7.10404969, 4.56014072, 2.61043479, 0.00844693, 0.02005087]),\n",
              " array([[-9.83828349e-02,  6.81913286e-01,  5.57104073e-02,\n",
              "          4.83932667e-01,  5.36675519e-01],\n",
              "        [ 3.38493596e-01, -4.09862823e-01,  6.99038116e-01,\n",
              "          3.70354433e-02,  4.76873821e-01],\n",
              "        [-9.27422518e-01, -1.42683572e-01,  3.13265772e-01,\n",
              "         -1.18552851e-01,  8.56659176e-02],\n",
              "        [ 1.25019253e-01,  5.88055712e-01,  4.77614592e-01,\n",
              "         -5.95121327e-01, -2.37224733e-01],\n",
              "        [ 7.50733306e-04, -2.89588494e-02, -4.26603939e-01,\n",
              "         -6.29454825e-01,  6.48811624e-01]]))"
            ]
          },
          "metadata": {
            "tags": []
          },
          "execution_count": 61
        }
      ]
    },
    {
      "cell_type": "code",
      "metadata": {
        "id": "VlsrhpygbNrS"
      },
      "source": [
        "??expectation"
      ],
      "execution_count": 19,
      "outputs": []
    }
  ]
}