{
  "nbformat": 4,
  "nbformat_minor": 0,
  "metadata": {
    "colab": {
      "name": "data_science_and_stochastic_programming.ipynb",
      "provenance": [],
      "collapsed_sections": [],
      "authorship_tag": "ABX9TyOr8eytFMmBvuW7/aY0DEcP",
      "include_colab_link": true
    },
    "kernelspec": {
      "name": "python3",
      "display_name": "Python 3"
    }
  },
  "cells": [
    {
      "cell_type": "markdown",
      "metadata": {
        "id": "view-in-github",
        "colab_type": "text"
      },
      "source": [
        "<a href=\"https://colab.research.google.com/github/RoetGer/decisions-under-uncertainty/blob/main/data_science_and_stochastic_programming.ipynb\" target=\"_parent\"><img src=\"https://colab.research.google.com/assets/colab-badge.svg\" alt=\"Open In Colab\"/></a>"
      ]
    },
    {
      "cell_type": "code",
      "metadata": {
        "colab": {
          "base_uri": "https://localhost:8080/"
        },
        "id": "TCh0ZunZ8y7d",
        "outputId": "d7fc97e9-6a06-4a29-b2bb-bb13686ceaeb"
      },
      "source": [
        "!pip install cvxpy\r\n",
        "!pip install cvxstoc"
      ],
      "execution_count": 1,
      "outputs": [
        {
          "output_type": "stream",
          "text": [
            "Requirement already satisfied: cvxpy in /usr/local/lib/python3.7/dist-packages (1.0.31)\n",
            "Requirement already satisfied: ecos>=2 in /usr/local/lib/python3.7/dist-packages (from cvxpy) (2.0.7.post1)\n",
            "Requirement already satisfied: multiprocess in /usr/local/lib/python3.7/dist-packages (from cvxpy) (0.70.11.1)\n",
            "Requirement already satisfied: numpy>=1.15 in /usr/local/lib/python3.7/dist-packages (from cvxpy) (1.19.5)\n",
            "Requirement already satisfied: osqp>=0.4.1 in /usr/local/lib/python3.7/dist-packages (from cvxpy) (0.6.2.post0)\n",
            "Requirement already satisfied: scs>=1.1.3 in /usr/local/lib/python3.7/dist-packages (from cvxpy) (2.1.2)\n",
            "Requirement already satisfied: scipy>=1.1.0 in /usr/local/lib/python3.7/dist-packages (from cvxpy) (1.4.1)\n",
            "Requirement already satisfied: dill>=0.3.3 in /usr/local/lib/python3.7/dist-packages (from multiprocess->cvxpy) (0.3.3)\n",
            "Requirement already satisfied: qdldl in /usr/local/lib/python3.7/dist-packages (from osqp>=0.4.1->cvxpy) (0.1.5.post0)\n",
            "Collecting cvxstoc\n",
            "  Downloading https://files.pythonhosted.org/packages/ad/0d/6e47ddb7c55a35c765dc6ddad5b4cc9ade7a0b90fbfa692bf1120819b1d4/cvxstoc-0.2.2-py3-none-any.whl\n",
            "Requirement already satisfied: numpy>=1.10 in /usr/local/lib/python3.7/dist-packages (from cvxstoc) (1.19.5)\n",
            "Collecting pymc>=2.3.4\n",
            "\u001b[?25l  Downloading https://files.pythonhosted.org/packages/37/81/9a222c38c65019de9ad5a1ee2448cc4a9b5f7a64eeaf246c77f81c0e6f94/pymc-2.3.8.tar.gz (385kB)\n",
            "\u001b[K     |████████████████████████████████| 389kB 5.1MB/s \n",
            "\u001b[?25hRequirement already satisfied: cvxpy>=0.3.5 in /usr/local/lib/python3.7/dist-packages (from cvxstoc) (1.0.31)\n",
            "Requirement already satisfied: scipy>=0.16 in /usr/local/lib/python3.7/dist-packages (from cvxstoc) (1.4.1)\n",
            "Requirement already satisfied: scs>=1.1.3 in /usr/local/lib/python3.7/dist-packages (from cvxpy>=0.3.5->cvxstoc) (2.1.2)\n",
            "Requirement already satisfied: multiprocess in /usr/local/lib/python3.7/dist-packages (from cvxpy>=0.3.5->cvxstoc) (0.70.11.1)\n",
            "Requirement already satisfied: osqp>=0.4.1 in /usr/local/lib/python3.7/dist-packages (from cvxpy>=0.3.5->cvxstoc) (0.6.2.post0)\n",
            "Requirement already satisfied: ecos>=2 in /usr/local/lib/python3.7/dist-packages (from cvxpy>=0.3.5->cvxstoc) (2.0.7.post1)\n",
            "Requirement already satisfied: dill>=0.3.3 in /usr/local/lib/python3.7/dist-packages (from multiprocess->cvxpy>=0.3.5->cvxstoc) (0.3.3)\n",
            "Requirement already satisfied: qdldl in /usr/local/lib/python3.7/dist-packages (from osqp>=0.4.1->cvxpy>=0.3.5->cvxstoc) (0.1.5.post0)\n",
            "Building wheels for collected packages: pymc\n",
            "  Building wheel for pymc (setup.py) ... \u001b[?25l\u001b[?25hdone\n",
            "  Created wheel for pymc: filename=pymc-2.3.8-cp37-cp37m-linux_x86_64.whl size=1352892 sha256=240348d2caf4029f1373e32d6b46fa133c08697c2447ad951cebb9205c93cb37\n",
            "  Stored in directory: /root/.cache/pip/wheels/0b/a8/e7/8f3ba91a39294d538a92db052fd1fcba1fca74a58c8b022026\n",
            "Successfully built pymc\n",
            "Installing collected packages: pymc, cvxstoc\n",
            "Successfully installed cvxstoc-0.2.2 pymc-2.3.8\n"
          ],
          "name": "stdout"
        }
      ]
    },
    {
      "cell_type": "markdown",
      "metadata": {
        "id": "0sNQucfT9mRQ"
      },
      "source": [
        "# Data Science and Stochastic Programming\r\n",
        "\r\n",
        "In this notebook we explore, how stochastic programming can be used to incorporate uncertainty stemming from data science models into our decision making process."
      ]
    },
    {
      "cell_type": "code",
      "metadata": {
        "colab": {
          "base_uri": "https://localhost:8080/"
        },
        "id": "2ON_lsQHJpWk",
        "outputId": "0340da14-7147-4289-f4af-ce0349526881"
      },
      "source": [
        "import cvxstoc\r\n",
        "from cvxstoc import NormalRandomVariable, expectation, prob\r\n",
        "from cvxpy import Maximize, Problem\r\n",
        "from cvxpy.expressions.variable import Variable\r\n",
        "import numpy as np\r\n",
        "import pymc\r\n",
        "\r\n",
        "# Samples to be taken\r\n",
        "num_samples = 100\r\n",
        "\r\n",
        "# Create problem data.\r\n",
        "n = 10\r\n",
        "mu = np.zeros(n)\r\n",
        "Sigma = 0.1*np.eye(n)\r\n",
        "p = NormalRandomVariable(mu, Sigma)\r\n",
        "alpha = -1\r\n",
        "beta = 0.05\r\n",
        "\r\n",
        "# Create and solve stochastic optimization problem.\r\n",
        "x = Variable(n)\r\n",
        "p = Problem(\r\n",
        "    Maximize(expectation(x.T*p, num_samples=num_samples)),\r\n",
        "    [\r\n",
        "      x >= 0, \r\n",
        "      x.T*np.ones(n) == 1,\r\n",
        "      prob(x.T*p <= alpha, num_samples=num_samples) <= beta\r\n",
        "    ]\r\n",
        ")\r\n",
        "\r\n",
        "p.solve()"
      ],
      "execution_count": 2,
      "outputs": [
        {
          "output_type": "stream",
          "text": [
            "/usr/local/lib/python3.7/dist-packages/statsmodels/tools/_testing.py:19: FutureWarning: pandas.util.testing is deprecated. Use the functions in the public API at pandas.testing instead.\n",
            "  import pandas.util.testing as tm\n",
            "/usr/local/lib/python3.7/dist-packages/pymc/MCMC.py:81: UserWarning: Instantiating a Model object directly is deprecated. We recommend passing variables directly to the Model subclass.\n",
            "  warnings.warn(message)\n"
          ],
          "name": "stderr"
        },
        {
          "output_type": "execute_result",
          "data": {
            "text/plain": [
              "0.04516601894581204"
            ]
          },
          "metadata": {
            "tags": []
          },
          "execution_count": 2
        }
      ]
    },
    {
      "cell_type": "code",
      "metadata": {
        "id": "U-ZbjxncLtK5"
      },
      "source": [
        "tau = np.array([[1., 0.5], [0.5, 2]])\r\n",
        "mu = np.zeros(2)\r\n",
        "vals = pymc.MvNormal('vals', mu=mu, tau=tau)"
      ],
      "execution_count": 6,
      "outputs": []
    },
    {
      "cell_type": "code",
      "metadata": {
        "colab": {
          "base_uri": "https://localhost:8080/"
        },
        "id": "ZJuj5OWVjtX_",
        "outputId": "acfba2b1-66b9-4b16-8284-737f83014488"
      },
      "source": [
        "samples = np.random.normal(size=(100,2))\r\n",
        "samples[:10]"
      ],
      "execution_count": 12,
      "outputs": [
        {
          "output_type": "execute_result",
          "data": {
            "text/plain": [
              "array([[-1.65861409,  0.96750151],\n",
              "       [-1.5156057 , -0.94352391],\n",
              "       [ 0.31158114,  1.29548995],\n",
              "       [ 1.26497755, -0.49662183],\n",
              "       [ 0.4719533 , -0.67025769],\n",
              "       [-0.3138236 ,  0.7154132 ],\n",
              "       [-1.07965439,  1.58505181],\n",
              "       [ 0.89197148,  0.16122934],\n",
              "       [ 1.21772272,  0.6524755 ],\n",
              "       [ 0.36731543,  0.31862433]])"
            ]
          },
          "metadata": {
            "tags": []
          },
          "execution_count": 12
        }
      ]
    },
    {
      "cell_type": "code",
      "metadata": {
        "colab": {
          "base_uri": "https://localhost:8080/"
        },
        "id": "XR_61dh2kDAT",
        "outputId": "5afa53c3-408c-485c-83a4-631a6d8663fb"
      },
      "source": [
        "np.random.choice"
      ],
      "execution_count": 15,
      "outputs": [
        {
          "output_type": "execute_result",
          "data": {
            "text/plain": [
              "array([[-1.5156057 , -0.94352391],\n",
              "       [ 1.26497755, -0.49662183],\n",
              "       [-0.3138236 ,  0.7154132 ]])"
            ]
          },
          "metadata": {
            "tags": []
          },
          "execution_count": 15
        }
      ]
    },
    {
      "cell_type": "code",
      "metadata": {
        "id": "DkhayEIoL2fS"
      },
      "source": [
        "from cvxstoc import RandomVariable, RandomVariableFactory"
      ],
      "execution_count": 3,
      "outputs": []
    },
    {
      "cell_type": "code",
      "metadata": {
        "id": "ZbFBsENTL4N4"
      },
      "source": [
        "??cvxstoc"
      ],
      "execution_count": null,
      "outputs": []
    },
    {
      "cell_type": "code",
      "metadata": {
        "id": "-93RmMYBL-Hy"
      },
      "source": [
        "??RandomVariable"
      ],
      "execution_count": null,
      "outputs": []
    },
    {
      "cell_type": "code",
      "metadata": {
        "id": "td4kqdsGQvky"
      },
      "source": [
        "??NormalRandomVariable"
      ],
      "execution_count": 4,
      "outputs": []
    },
    {
      "cell_type": "code",
      "metadata": {
        "id": "4Yl3Jp4dQ2d6"
      },
      "source": [
        "??RandomVariableFactory"
      ],
      "execution_count": 6,
      "outputs": []
    },
    {
      "cell_type": "code",
      "metadata": {
        "id": "bs6InnJ9RL-m"
      },
      "source": [
        ""
      ],
      "execution_count": null,
      "outputs": []
    },
    {
      "cell_type": "code",
      "metadata": {
        "id": "x1AvQ_d7Ro3B"
      },
      "source": [
        "??RandomVariableFactory.create_normal_rv"
      ],
      "execution_count": 5,
      "outputs": []
    },
    {
      "cell_type": "code",
      "metadata": {
        "id": "-JzpuzQzTFQe"
      },
      "source": [
        ""
      ],
      "execution_count": null,
      "outputs": []
    },
    {
      "cell_type": "code",
      "metadata": {
        "id": "U014zzlAbIVp"
      },
      "source": [
        "pymc_rv = pymc.stochastic_from_data(\r\n",
        "    name=\"Empirical\", \r\n",
        "    data=np.random.normal(size=(100,)), \r\n",
        "    lower=-np.inf, \r\n",
        "    upper=np.inf)"
      ],
      "execution_count": null,
      "outputs": []
    },
    {
      "cell_type": "code",
      "metadata": {
        "colab": {
          "base_uri": "https://localhost:8080/"
        },
        "id": "bnF3EAiqbgKe",
        "outputId": "497d801b-285a-4fbe-b4ff-2238617c904f"
      },
      "source": [
        "pymc_rv.random()"
      ],
      "execution_count": null,
      "outputs": [
        {
          "output_type": "execute_result",
          "data": {
            "text/plain": [
              "0.46706672849725195"
            ]
          },
          "metadata": {
            "tags": []
          },
          "execution_count": 31
        }
      ]
    },
    {
      "cell_type": "code",
      "metadata": {
        "id": "62kobfkIVYMY"
      },
      "source": [
        "??pymc.Normal"
      ],
      "execution_count": null,
      "outputs": []
    },
    {
      "cell_type": "code",
      "metadata": {
        "colab": {
          "base_uri": "https://localhost:8080/"
        },
        "id": "5YFhIP23THwg",
        "outputId": "f72251a9-bfd3-41f2-ee85-3f8231b94ed5"
      },
      "source": [
        "pymc.Normal(name=\"blub\", mu=2., tau=1., size=(3,))"
      ],
      "execution_count": null,
      "outputs": [
        {
          "output_type": "execute_result",
          "data": {
            "text/plain": [
              "<pymc.distributions.new_dist_class.<locals>.new_class 'blub' at 0x7f7c9249aad0>"
            ]
          },
          "metadata": {
            "tags": []
          },
          "execution_count": 15
        }
      ]
    },
    {
      "cell_type": "code",
      "metadata": {
        "id": "72y8ZngwTaTf"
      },
      "source": [
        "??RandomVariable"
      ],
      "execution_count": null,
      "outputs": []
    },
    {
      "cell_type": "code",
      "metadata": {
        "id": "RtGEWEUQTmaZ"
      },
      "source": [
        "def EmpiricalRandomVariable(samples, mu):\r\n",
        "    return create_empirical_rv(samples, mu)\r\n",
        "\r\n",
        "def create_empirical_rv(samples, \r\n",
        "                        mu, \r\n",
        "                        interpolate=False, \r\n",
        "                        lower=-np.inf, \r\n",
        "                        upper=np.inf):\r\n",
        "    rv_name = \"empiricial_placeholder\"\r\n",
        "\r\n",
        "    if interpolate:\r\n",
        "      rv_pymc = pymc.stochastic_from_data(\r\n",
        "          name=rv_name, \r\n",
        "          data=samples, \r\n",
        "          lower=lower, \r\n",
        "          upper=upper)\r\n",
        "    else:\r\n",
        "    \r\n",
        "    \r\n",
        "    metadata = {\r\n",
        "      \"mu\": mu\r\n",
        "    }\r\n",
        "\r\n",
        "    return RandomVariable(rv=rv_pymc, metadata=metadata)\r\n",
        "\r\n",
        "samples = np.random.normal(size=(100,))\r\n",
        "mu = np.mean(samples)\r\n",
        "\r\n",
        "erv = EmpiricalRandomVariable(samples, mu)\r\n"
      ],
      "execution_count": 11,
      "outputs": []
    },
    {
      "cell_type": "code",
      "metadata": {
        "id": "T53qybXecs-M"
      },
      "source": [
        "from functools import partial\r\n",
        "\r\n",
        "rv_name = \"placeholder\"\r\n",
        "\r\n",
        "n = samples.shape[0]\r\n",
        "mv = len(samples.shape) > 1\r\n",
        "\r\n",
        "def random_sample(self):\r\n",
        "    ridx = np.random.randint(low=0, high=n, size=1)\r\n",
        "    return samples[ridx]\r\n",
        "\r\n",
        "rv_pymc = pymc.stochastic_from_dist(\r\n",
        "    name=rv_name,\r\n",
        "    logp=lambda x: -np.log(n),\r\n",
        "    random=random_sample,\r\n",
        "    mv=mv)"
      ],
      "execution_count": 25,
      "outputs": []
    },
    {
      "cell_type": "code",
      "metadata": {
        "colab": {
          "base_uri": "https://localhost:8080/",
          "height": 163
        },
        "id": "G-NYf-fQpBui",
        "outputId": "75257eb2-cad2-4e25-8956-b8b8eec85850"
      },
      "source": [
        "rv_pymc.random()"
      ],
      "execution_count": 26,
      "outputs": [
        {
          "output_type": "error",
          "ename": "TypeError",
          "evalue": "ignored",
          "traceback": [
            "\u001b[0;31m---------------------------------------------------------------------------\u001b[0m",
            "\u001b[0;31mTypeError\u001b[0m                                 Traceback (most recent call last)",
            "\u001b[0;32m<ipython-input-26-d9117046aa4a>\u001b[0m in \u001b[0;36m<module>\u001b[0;34m()\u001b[0m\n\u001b[0;32m----> 1\u001b[0;31m \u001b[0mrv_pymc\u001b[0m\u001b[0;34m.\u001b[0m\u001b[0mrandom\u001b[0m\u001b[0;34m(\u001b[0m\u001b[0;34m)\u001b[0m\u001b[0;34m\u001b[0m\u001b[0;34m\u001b[0m\u001b[0m\n\u001b[0m",
            "\u001b[0;31mTypeError\u001b[0m: random() missing 1 required positional argument: 'self'"
          ]
        }
      ]
    },
    {
      "cell_type": "code",
      "metadata": {
        "colab": {
          "base_uri": "https://localhost:8080/"
        },
        "id": "XahY0gvYoKTC",
        "outputId": "062a2629-949c-4581-b050-d5cd5842dd72"
      },
      "source": [
        "samples[np.random.randint(low=0, high=2, size=1)]"
      ],
      "execution_count": 21,
      "outputs": [
        {
          "output_type": "execute_result",
          "data": {
            "text/plain": [
              "array([[-1.65861409,  0.96750151]])"
            ]
          },
          "metadata": {
            "tags": []
          },
          "execution_count": 21
        }
      ]
    },
    {
      "cell_type": "code",
      "metadata": {
        "colab": {
          "base_uri": "https://localhost:8080/"
        },
        "id": "eGAES3J3o4nj",
        "outputId": "1da00386-32f2-45cf-9e9b-ad7f2f268f13"
      },
      "source": [
        "samples"
      ],
      "execution_count": 19,
      "outputs": [
        {
          "output_type": "execute_result",
          "data": {
            "text/plain": [
              "array([[-1.65861409,  0.96750151],\n",
              "       [-1.5156057 , -0.94352391],\n",
              "       [ 0.31158114,  1.29548995],\n",
              "       [ 1.26497755, -0.49662183],\n",
              "       [ 0.4719533 , -0.67025769],\n",
              "       [-0.3138236 ,  0.7154132 ],\n",
              "       [-1.07965439,  1.58505181],\n",
              "       [ 0.89197148,  0.16122934],\n",
              "       [ 1.21772272,  0.6524755 ],\n",
              "       [ 0.36731543,  0.31862433],\n",
              "       [ 0.40330888, -0.63194292],\n",
              "       [-1.25105646, -2.47115125],\n",
              "       [ 0.91846478,  0.58322568],\n",
              "       [ 0.65337692,  0.8399175 ],\n",
              "       [ 0.77900331, -1.64983168],\n",
              "       [-2.01430252,  1.72345488],\n",
              "       [ 0.32516688, -1.15398951],\n",
              "       [-0.95501668, -1.05520575],\n",
              "       [-0.69734027,  0.0753211 ],\n",
              "       [ 0.76962714, -0.68317627],\n",
              "       [-0.33835759,  0.43405157],\n",
              "       [-0.42368968, -0.97591641],\n",
              "       [-0.02800192,  1.02176581],\n",
              "       [ 0.56868814,  0.15060733],\n",
              "       [ 0.7386143 , -1.13418321],\n",
              "       [ 0.27463411,  0.04686005],\n",
              "       [-0.69590721, -0.69714955],\n",
              "       [-1.18666709,  0.31495104],\n",
              "       [-0.320207  , -0.63754938],\n",
              "       [ 0.20887285, -0.92137492],\n",
              "       [-1.13562101, -1.43784637],\n",
              "       [ 0.0268908 ,  1.07544778],\n",
              "       [-1.83297637, -0.06986645],\n",
              "       [-2.32032132, -0.92979194],\n",
              "       [ 0.28272469,  0.22071641],\n",
              "       [ 0.1006907 , -2.036418  ],\n",
              "       [ 1.37514555, -1.16379978],\n",
              "       [-0.27253033, -0.57423671],\n",
              "       [-0.61683705, -1.32764467],\n",
              "       [ 0.35958368, -0.98142977],\n",
              "       [-0.98801859, -0.02018559],\n",
              "       [-1.46977394,  0.01183917],\n",
              "       [-0.00973226, -0.12590844],\n",
              "       [ 0.14472006,  0.20345424],\n",
              "       [-0.26319859, -0.21854046],\n",
              "       [ 0.47640098,  0.77497351],\n",
              "       [ 1.10945315, -0.062968  ],\n",
              "       [-0.87983745, -1.55145912],\n",
              "       [ 0.36491529,  1.38748636],\n",
              "       [-2.03513981,  2.17094512],\n",
              "       [-0.27005889,  0.87858912],\n",
              "       [-1.20192093,  0.03193718],\n",
              "       [-0.17371926,  1.69592641],\n",
              "       [ 0.77509758, -0.46895976],\n",
              "       [ 0.42438089, -1.27585898],\n",
              "       [-1.10002404,  0.90020382],\n",
              "       [-0.17845359, -0.64503482],\n",
              "       [ 1.35669958, -0.00949849],\n",
              "       [ 0.75765037,  1.47208398],\n",
              "       [-0.24306151, -1.78832269],\n",
              "       [-0.4649002 , -0.04551397],\n",
              "       [ 0.70497785,  3.06209364],\n",
              "       [-1.20016077,  0.79550131],\n",
              "       [ 1.41573519,  0.29524793],\n",
              "       [-0.52334133,  0.56304159],\n",
              "       [ 0.03700701, -1.02714474],\n",
              "       [-0.10569865, -1.7153731 ],\n",
              "       [-1.16393781, -0.54598953],\n",
              "       [-2.58818781,  0.38683512],\n",
              "       [ 0.7894317 , -0.6110593 ],\n",
              "       [ 0.94411956,  0.05021531],\n",
              "       [-1.93780355,  0.37550835],\n",
              "       [-0.03459314,  0.07633872],\n",
              "       [ 0.52624264,  1.97799861],\n",
              "       [-0.45807892,  1.00881461],\n",
              "       [-0.55415535,  2.48665682],\n",
              "       [-0.01765363,  1.2709558 ],\n",
              "       [ 0.85005032,  0.16176186],\n",
              "       [-1.36018504,  0.24614376],\n",
              "       [ 1.03723138, -0.43429137],\n",
              "       [-0.4093164 ,  0.30080298],\n",
              "       [-0.95914203, -0.04064002],\n",
              "       [-0.92402553, -0.21122996],\n",
              "       [-1.3134352 , -2.716322  ],\n",
              "       [-0.00824599, -0.84093848],\n",
              "       [ 0.81924031, -0.25228417],\n",
              "       [-0.75250899,  0.95795243],\n",
              "       [-0.38111332,  1.14277633],\n",
              "       [ 0.38015992,  0.20195148],\n",
              "       [ 0.1692135 ,  1.38536721],\n",
              "       [-0.64641492, -0.34195936],\n",
              "       [ 0.71995895, -0.55957212],\n",
              "       [-0.09922167,  0.0916963 ],\n",
              "       [-1.75990985, -0.23383914],\n",
              "       [-0.02154461, -0.02725475],\n",
              "       [-0.16157948,  1.57052292],\n",
              "       [ 0.73682393, -0.40927524],\n",
              "       [ 0.78313507, -1.18371888],\n",
              "       [-0.1608509 , -0.11891946],\n",
              "       [ 0.62808463,  1.21582738]])"
            ]
          },
          "metadata": {
            "tags": []
          },
          "execution_count": 19
        }
      ]
    },
    {
      "cell_type": "code",
      "metadata": {
        "colab": {
          "base_uri": "https://localhost:8080/"
        },
        "id": "XTlWoga4c_kQ",
        "outputId": "1409b159-65d0-422e-9ecd-806c6955d58e"
      },
      "source": [
        "p = NormalRandomVariable(mu, Sigma)\r\n",
        "x.T*p\r\n",
        "expectation(x.T*p, num_samples=num_samples)"
      ],
      "execution_count": 23,
      "outputs": [
        {
          "output_type": "stream",
          "text": [
            "/usr/local/lib/python3.7/dist-packages/pymc/MCMC.py:81: UserWarning: Instantiating a Model object directly is deprecated. We recommend passing variables directly to the Model subclass.\n",
            "  warnings.warn(message)\n"
          ],
          "name": "stderr"
        },
        {
          "output_type": "execute_result",
          "data": {
            "text/plain": [
              "Expression(AFFINE, UNKNOWN, (10,))"
            ]
          },
          "metadata": {
            "tags": []
          },
          "execution_count": 23
        }
      ]
    },
    {
      "cell_type": "code",
      "metadata": {
        "colab": {
          "base_uri": "https://localhost:8080/"
        },
        "id": "-XCLMYZVc4JC",
        "outputId": "3a97135e-6dee-4c41-d04e-fede226df7da"
      },
      "source": [
        "p = EmpiricalRandomVariable(samples, np.mean(samples))\r\n",
        "x.T*p\r\n",
        "expectation(x*p, num_samples=num_samples)"
      ],
      "execution_count": 24,
      "outputs": [
        {
          "output_type": "stream",
          "text": [
            "/usr/local/lib/python3.7/dist-packages/pymc/MCMC.py:81: UserWarning: Instantiating a Model object directly is deprecated. We recommend passing variables directly to the Model subclass.\n",
            "  warnings.warn(message)\n"
          ],
          "name": "stderr"
        },
        {
          "output_type": "execute_result",
          "data": {
            "text/plain": [
              "Expression(AFFINE, UNKNOWN, (1,))"
            ]
          },
          "metadata": {
            "tags": []
          },
          "execution_count": 24
        }
      ]
    },
    {
      "cell_type": "code",
      "metadata": {
        "colab": {
          "base_uri": "https://localhost:8080/"
        },
        "id": "LaDDyuCwVKIx",
        "outputId": "efc59aa1-58d4-407b-942e-b8b3f989eddf"
      },
      "source": [
        "p = EmpiricalRandomVariable(samples, np.mean(samples))\r\n",
        "alpha = -1\r\n",
        "beta = 0.05\r\n",
        "n =  1\r\n",
        "\r\n",
        "# Create and solve stochastic optimization problem.\r\n",
        "x = Variable(n, name=\"x\")\r\n",
        "p = Problem(\r\n",
        "    Maximize(expectation(x*p, num_samples=num_samples)),\r\n",
        "    [\r\n",
        "      x >= 0, \r\n",
        "     # x*np.ones(n) == 1,\r\n",
        "      prob(x*p <= alpha, num_samples=num_samples) <= beta\r\n",
        "    ]\r\n",
        ")\r\n",
        "\r\n",
        "p.solve()"
      ],
      "execution_count": 34,
      "outputs": [
        {
          "output_type": "stream",
          "text": [
            "/usr/local/lib/python3.7/dist-packages/pymc/MCMC.py:81: UserWarning: Instantiating a Model object directly is deprecated. We recommend passing variables directly to the Model subclass.\n",
            "  warnings.warn(message)\n"
          ],
          "name": "stderr"
        },
        {
          "output_type": "execute_result",
          "data": {
            "text/plain": [
              "-3.991545276504316e-12"
            ]
          },
          "metadata": {
            "tags": []
          },
          "execution_count": 34
        }
      ]
    },
    {
      "cell_type": "code",
      "metadata": {
        "colab": {
          "base_uri": "https://localhost:8080/"
        },
        "id": "HFRHfVrcfq6m",
        "outputId": "290c6f7b-0de1-4c67-c7af-0b83f5b3a1dd"
      },
      "source": [
        "np.mean(samples)"
      ],
      "execution_count": 35,
      "outputs": [
        {
          "output_type": "execute_result",
          "data": {
            "text/plain": [
              "-0.2177907409688715"
            ]
          },
          "metadata": {
            "tags": []
          },
          "execution_count": 35
        }
      ]
    },
    {
      "cell_type": "code",
      "metadata": {
        "colab": {
          "base_uri": "https://localhost:8080/"
        },
        "id": "f5ae6L0ufy0K",
        "outputId": "429702c1-8181-4ad4-9d64-a323b225007a"
      },
      "source": [
        "import scipy as scp\r\n",
        "\r\n",
        "scp.stats.norm.cdf(-1)"
      ],
      "execution_count": 37,
      "outputs": [
        {
          "output_type": "execute_result",
          "data": {
            "text/plain": [
              "0.15865525393145707"
            ]
          },
          "metadata": {
            "tags": []
          },
          "execution_count": 37
        }
      ]
    },
    {
      "cell_type": "code",
      "metadata": {
        "colab": {
          "base_uri": "https://localhost:8080/"
        },
        "id": "tlxeoYPVejGx",
        "outputId": "cab51cb2-5d30-4835-cd71-100a1dc3fefd"
      },
      "source": [
        "for variable in p.variables():\r\n",
        "    print(\"Variable %s: value %s\" % (variable.name(), variable.value))"
      ],
      "execution_count": 33,
      "outputs": [
        {
          "output_type": "stream",
          "text": [
            "Variable x: value [2.42765387e-11]\n",
            "Variable var48963: value 1.012806553248664\n"
          ],
          "name": "stdout"
        }
      ]
    }
  ]
}