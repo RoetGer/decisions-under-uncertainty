{
  "nbformat": 4,
  "nbformat_minor": 0,
  "metadata": {
    "colab": {
      "name": "deep-hedging.ipynb",
      "provenance": [],
      "collapsed_sections": [],
      "authorship_tag": "ABX9TyPu+aADN3jouMbv3ZTqr2sj",
      "include_colab_link": true
    },
    "kernelspec": {
      "name": "python3",
      "display_name": "Python 3"
    },
    "language_info": {
      "name": "python"
    }
  },
  "cells": [
    {
      "cell_type": "markdown",
      "metadata": {
        "id": "view-in-github",
        "colab_type": "text"
      },
      "source": [
        "<a href=\"https://colab.research.google.com/github/RoetGer/decisions-under-uncertainty/blob/main/deep_hedging.ipynb\" target=\"_parent\"><img src=\"https://colab.research.google.com/assets/colab-badge.svg\" alt=\"Open In Colab\"/></a>"
      ]
    },
    {
      "cell_type": "code",
      "metadata": {
        "colab": {
          "base_uri": "https://localhost:8080/"
        },
        "id": "gkYRnFGZzQnT",
        "outputId": "56762b2f-4d3b-4466-e35f-40b3cc4f5f3d"
      },
      "source": [
        "! pip install tf_agents"
      ],
      "execution_count": 1,
      "outputs": [
        {
          "output_type": "stream",
          "text": [
            "Collecting tf_agents\n",
            "\u001b[?25l  Downloading https://files.pythonhosted.org/packages/e7/cd/a0710b1caae042b7a4d54fc74073fb4df7adf073934798443bdc0059813a/tf_agents-0.7.1-py3-none-any.whl (1.2MB)\n",
            "\r\u001b[K     |▎                               | 10kB 8.5MB/s eta 0:00:01\r\u001b[K     |▌                               | 20kB 13.1MB/s eta 0:00:01\r\u001b[K     |▉                               | 30kB 10.9MB/s eta 0:00:01\r\u001b[K     |█                               | 40kB 9.3MB/s eta 0:00:01\r\u001b[K     |█▍                              | 51kB 6.1MB/s eta 0:00:01\r\u001b[K     |█▋                              | 61kB 7.0MB/s eta 0:00:01\r\u001b[K     |██                              | 71kB 7.6MB/s eta 0:00:01\r\u001b[K     |██▏                             | 81kB 8.1MB/s eta 0:00:01\r\u001b[K     |██▍                             | 92kB 8.0MB/s eta 0:00:01\r\u001b[K     |██▊                             | 102kB 7.5MB/s eta 0:00:01\r\u001b[K     |███                             | 112kB 7.5MB/s eta 0:00:01\r\u001b[K     |███▎                            | 122kB 7.5MB/s eta 0:00:01\r\u001b[K     |███▌                            | 133kB 7.5MB/s eta 0:00:01\r\u001b[K     |███▉                            | 143kB 7.5MB/s eta 0:00:01\r\u001b[K     |████                            | 153kB 7.5MB/s eta 0:00:01\r\u001b[K     |████▎                           | 163kB 7.5MB/s eta 0:00:01\r\u001b[K     |████▋                           | 174kB 7.5MB/s eta 0:00:01\r\u001b[K     |████▉                           | 184kB 7.5MB/s eta 0:00:01\r\u001b[K     |█████▏                          | 194kB 7.5MB/s eta 0:00:01\r\u001b[K     |█████▍                          | 204kB 7.5MB/s eta 0:00:01\r\u001b[K     |█████▊                          | 215kB 7.5MB/s eta 0:00:01\r\u001b[K     |██████                          | 225kB 7.5MB/s eta 0:00:01\r\u001b[K     |██████▏                         | 235kB 7.5MB/s eta 0:00:01\r\u001b[K     |██████▌                         | 245kB 7.5MB/s eta 0:00:01\r\u001b[K     |██████▊                         | 256kB 7.5MB/s eta 0:00:01\r\u001b[K     |███████                         | 266kB 7.5MB/s eta 0:00:01\r\u001b[K     |███████▎                        | 276kB 7.5MB/s eta 0:00:01\r\u001b[K     |███████▋                        | 286kB 7.5MB/s eta 0:00:01\r\u001b[K     |███████▉                        | 296kB 7.5MB/s eta 0:00:01\r\u001b[K     |████████                        | 307kB 7.5MB/s eta 0:00:01\r\u001b[K     |████████▍                       | 317kB 7.5MB/s eta 0:00:01\r\u001b[K     |████████▋                       | 327kB 7.5MB/s eta 0:00:01\r\u001b[K     |█████████                       | 337kB 7.5MB/s eta 0:00:01\r\u001b[K     |█████████▏                      | 348kB 7.5MB/s eta 0:00:01\r\u001b[K     |█████████▌                      | 358kB 7.5MB/s eta 0:00:01\r\u001b[K     |█████████▊                      | 368kB 7.5MB/s eta 0:00:01\r\u001b[K     |██████████                      | 378kB 7.5MB/s eta 0:00:01\r\u001b[K     |██████████▎                     | 389kB 7.5MB/s eta 0:00:01\r\u001b[K     |██████████▌                     | 399kB 7.5MB/s eta 0:00:01\r\u001b[K     |██████████▉                     | 409kB 7.5MB/s eta 0:00:01\r\u001b[K     |███████████                     | 419kB 7.5MB/s eta 0:00:01\r\u001b[K     |███████████▍                    | 430kB 7.5MB/s eta 0:00:01\r\u001b[K     |███████████▋                    | 440kB 7.5MB/s eta 0:00:01\r\u001b[K     |███████████▉                    | 450kB 7.5MB/s eta 0:00:01\r\u001b[K     |████████████▏                   | 460kB 7.5MB/s eta 0:00:01\r\u001b[K     |████████████▍                   | 471kB 7.5MB/s eta 0:00:01\r\u001b[K     |████████████▊                   | 481kB 7.5MB/s eta 0:00:01\r\u001b[K     |█████████████                   | 491kB 7.5MB/s eta 0:00:01\r\u001b[K     |█████████████▎                  | 501kB 7.5MB/s eta 0:00:01\r\u001b[K     |█████████████▌                  | 512kB 7.5MB/s eta 0:00:01\r\u001b[K     |█████████████▊                  | 522kB 7.5MB/s eta 0:00:01\r\u001b[K     |██████████████                  | 532kB 7.5MB/s eta 0:00:01\r\u001b[K     |██████████████▎                 | 542kB 7.5MB/s eta 0:00:01\r\u001b[K     |██████████████▋                 | 552kB 7.5MB/s eta 0:00:01\r\u001b[K     |██████████████▉                 | 563kB 7.5MB/s eta 0:00:01\r\u001b[K     |███████████████▏                | 573kB 7.5MB/s eta 0:00:01\r\u001b[K     |███████████████▍                | 583kB 7.5MB/s eta 0:00:01\r\u001b[K     |███████████████▋                | 593kB 7.5MB/s eta 0:00:01\r\u001b[K     |████████████████                | 604kB 7.5MB/s eta 0:00:01\r\u001b[K     |████████████████▏               | 614kB 7.5MB/s eta 0:00:01\r\u001b[K     |████████████████▌               | 624kB 7.5MB/s eta 0:00:01\r\u001b[K     |████████████████▊               | 634kB 7.5MB/s eta 0:00:01\r\u001b[K     |█████████████████               | 645kB 7.5MB/s eta 0:00:01\r\u001b[K     |█████████████████▎              | 655kB 7.5MB/s eta 0:00:01\r\u001b[K     |█████████████████▌              | 665kB 7.5MB/s eta 0:00:01\r\u001b[K     |█████████████████▉              | 675kB 7.5MB/s eta 0:00:01\r\u001b[K     |██████████████████              | 686kB 7.5MB/s eta 0:00:01\r\u001b[K     |██████████████████▍             | 696kB 7.5MB/s eta 0:00:01\r\u001b[K     |██████████████████▋             | 706kB 7.5MB/s eta 0:00:01\r\u001b[K     |███████████████████             | 716kB 7.5MB/s eta 0:00:01\r\u001b[K     |███████████████████▏            | 727kB 7.5MB/s eta 0:00:01\r\u001b[K     |███████████████████▌            | 737kB 7.5MB/s eta 0:00:01\r\u001b[K     |███████████████████▊            | 747kB 7.5MB/s eta 0:00:01\r\u001b[K     |████████████████████            | 757kB 7.5MB/s eta 0:00:01\r\u001b[K     |████████████████████▎           | 768kB 7.5MB/s eta 0:00:01\r\u001b[K     |████████████████████▌           | 778kB 7.5MB/s eta 0:00:01\r\u001b[K     |████████████████████▉           | 788kB 7.5MB/s eta 0:00:01\r\u001b[K     |█████████████████████           | 798kB 7.5MB/s eta 0:00:01\r\u001b[K     |█████████████████████▍          | 808kB 7.5MB/s eta 0:00:01\r\u001b[K     |█████████████████████▋          | 819kB 7.5MB/s eta 0:00:01\r\u001b[K     |█████████████████████▉          | 829kB 7.5MB/s eta 0:00:01\r\u001b[K     |██████████████████████▏         | 839kB 7.5MB/s eta 0:00:01\r\u001b[K     |██████████████████████▍         | 849kB 7.5MB/s eta 0:00:01\r\u001b[K     |██████████████████████▊         | 860kB 7.5MB/s eta 0:00:01\r\u001b[K     |███████████████████████         | 870kB 7.5MB/s eta 0:00:01\r\u001b[K     |███████████████████████▎        | 880kB 7.5MB/s eta 0:00:01\r\u001b[K     |███████████████████████▌        | 890kB 7.5MB/s eta 0:00:01\r\u001b[K     |███████████████████████▊        | 901kB 7.5MB/s eta 0:00:01\r\u001b[K     |████████████████████████        | 911kB 7.5MB/s eta 0:00:01\r\u001b[K     |████████████████████████▎       | 921kB 7.5MB/s eta 0:00:01\r\u001b[K     |████████████████████████▋       | 931kB 7.5MB/s eta 0:00:01\r\u001b[K     |████████████████████████▉       | 942kB 7.5MB/s eta 0:00:01\r\u001b[K     |█████████████████████████▏      | 952kB 7.5MB/s eta 0:00:01\r\u001b[K     |█████████████████████████▍      | 962kB 7.5MB/s eta 0:00:01\r\u001b[K     |█████████████████████████▋      | 972kB 7.5MB/s eta 0:00:01\r\u001b[K     |██████████████████████████      | 983kB 7.5MB/s eta 0:00:01\r\u001b[K     |██████████████████████████▏     | 993kB 7.5MB/s eta 0:00:01\r\u001b[K     |██████████████████████████▌     | 1.0MB 7.5MB/s eta 0:00:01\r\u001b[K     |██████████████████████████▊     | 1.0MB 7.5MB/s eta 0:00:01\r\u001b[K     |███████████████████████████     | 1.0MB 7.5MB/s eta 0:00:01\r\u001b[K     |███████████████████████████▎    | 1.0MB 7.5MB/s eta 0:00:01\r\u001b[K     |███████████████████████████▌    | 1.0MB 7.5MB/s eta 0:00:01\r\u001b[K     |███████████████████████████▉    | 1.1MB 7.5MB/s eta 0:00:01\r\u001b[K     |████████████████████████████    | 1.1MB 7.5MB/s eta 0:00:01\r\u001b[K     |████████████████████████████▍   | 1.1MB 7.5MB/s eta 0:00:01\r\u001b[K     |████████████████████████████▋   | 1.1MB 7.5MB/s eta 0:00:01\r\u001b[K     |█████████████████████████████   | 1.1MB 7.5MB/s eta 0:00:01\r\u001b[K     |█████████████████████████████▏  | 1.1MB 7.5MB/s eta 0:00:01\r\u001b[K     |█████████████████████████████▍  | 1.1MB 7.5MB/s eta 0:00:01\r\u001b[K     |█████████████████████████████▊  | 1.1MB 7.5MB/s eta 0:00:01\r\u001b[K     |██████████████████████████████  | 1.1MB 7.5MB/s eta 0:00:01\r\u001b[K     |██████████████████████████████▎ | 1.1MB 7.5MB/s eta 0:00:01\r\u001b[K     |██████████████████████████████▌ | 1.2MB 7.5MB/s eta 0:00:01\r\u001b[K     |██████████████████████████████▉ | 1.2MB 7.5MB/s eta 0:00:01\r\u001b[K     |███████████████████████████████ | 1.2MB 7.5MB/s eta 0:00:01\r\u001b[K     |███████████████████████████████▎| 1.2MB 7.5MB/s eta 0:00:01\r\u001b[K     |███████████████████████████████▋| 1.2MB 7.5MB/s eta 0:00:01\r\u001b[K     |███████████████████████████████▉| 1.2MB 7.5MB/s eta 0:00:01\r\u001b[K     |████████████████████████████████| 1.2MB 7.5MB/s \n",
            "\u001b[?25hRequirement already satisfied: gin-config>=0.4.0 in /usr/local/lib/python3.7/dist-packages (from tf_agents) (0.4.0)\n",
            "Requirement already satisfied: gym>=0.17.0 in /usr/local/lib/python3.7/dist-packages (from tf_agents) (0.17.3)\n",
            "Requirement already satisfied: numpy>=1.13.3 in /usr/local/lib/python3.7/dist-packages (from tf_agents) (1.19.5)\n",
            "Requirement already satisfied: absl-py>=0.6.1 in /usr/local/lib/python3.7/dist-packages (from tf_agents) (0.12.0)\n",
            "Requirement already satisfied: pillow>=7.0.0 in /usr/local/lib/python3.7/dist-packages (from tf_agents) (7.1.2)\n",
            "Requirement already satisfied: typing-extensions>=3.7.4.3 in /usr/local/lib/python3.7/dist-packages (from tf_agents) (3.7.4.3)\n",
            "Requirement already satisfied: tensorflow-probability>=0.12.1 in /usr/local/lib/python3.7/dist-packages (from tf_agents) (0.12.1)\n",
            "Requirement already satisfied: cloudpickle>=1.3 in /usr/local/lib/python3.7/dist-packages (from tf_agents) (1.3.0)\n",
            "Requirement already satisfied: six>=1.10.0 in /usr/local/lib/python3.7/dist-packages (from tf_agents) (1.15.0)\n",
            "Requirement already satisfied: wrapt>=1.11.1 in /usr/local/lib/python3.7/dist-packages (from tf_agents) (1.12.1)\n",
            "Requirement already satisfied: protobuf>=3.11.3 in /usr/local/lib/python3.7/dist-packages (from tf_agents) (3.12.4)\n",
            "Requirement already satisfied: pyglet<=1.5.0,>=1.4.0 in /usr/local/lib/python3.7/dist-packages (from gym>=0.17.0->tf_agents) (1.5.0)\n",
            "Requirement already satisfied: scipy in /usr/local/lib/python3.7/dist-packages (from gym>=0.17.0->tf_agents) (1.4.1)\n",
            "Requirement already satisfied: dm-tree in /usr/local/lib/python3.7/dist-packages (from tensorflow-probability>=0.12.1->tf_agents) (0.1.5)\n",
            "Requirement already satisfied: decorator in /usr/local/lib/python3.7/dist-packages (from tensorflow-probability>=0.12.1->tf_agents) (4.4.2)\n",
            "Requirement already satisfied: gast>=0.3.2 in /usr/local/lib/python3.7/dist-packages (from tensorflow-probability>=0.12.1->tf_agents) (0.3.3)\n",
            "Requirement already satisfied: setuptools in /usr/local/lib/python3.7/dist-packages (from protobuf>=3.11.3->tf_agents) (54.2.0)\n",
            "Requirement already satisfied: future in /usr/local/lib/python3.7/dist-packages (from pyglet<=1.5.0,>=1.4.0->gym>=0.17.0->tf_agents) (0.16.0)\n",
            "Installing collected packages: tf-agents\n",
            "Successfully installed tf-agents-0.7.1\n"
          ],
          "name": "stdout"
        }
      ]
    },
    {
      "cell_type": "code",
      "metadata": {
        "id": "HHL3J8H3NUhO"
      },
      "source": [
        "import tensorflow as tf\n",
        "import tensorflow_probability as tfp\n",
        "tfd = tfp.distributions"
      ],
      "execution_count": 2,
      "outputs": []
    },
    {
      "cell_type": "markdown",
      "metadata": {
        "id": "w6cO83MgZJRE"
      },
      "source": [
        "Let's start with some helper functions to deal with Black-Scholes based option pricing (from Tomas Björk's book \"Arbitrage Theory in Continuous Time\"):"
      ]
    },
    {
      "cell_type": "code",
      "metadata": {
        "id": "j_YiTCF2QV20"
      },
      "source": [
        "def compute_d1(S, K, r, sigma, T, t):\n",
        "    # time to maturity\n",
        "    ttm = T - t\n",
        "    return (tf.math.log(S/K) + (r + sigma**2/2)*ttm) / (sigma * tf.sqrt(ttm))\n",
        "\n",
        "def compute_d2(S, K, r, sigma, T, t):\n",
        "    ttm = T - t\n",
        "    return compute_d1(S, K, r, sigma, T, t) - sigma * tf.sqrt(ttm)\n",
        "\n",
        "def compute_bs_price(S, K, r, sigma, T, t):\n",
        "    normal = tfd.Normal(loc=0., scale=1.)\n",
        "    ttm = T - t\n",
        "\n",
        "    d1 = compute_d1(S, K, r, sigma, T, t)\n",
        "    d2 = d1 - sigma * tf.sqrt(ttm)\n",
        "\n",
        "    price = S*normal.cdf(d1) - tf.exp(-r*ttm)*K*normal.cdf(d2)\n",
        "\n",
        "    return price\n",
        "\n",
        "def compute_delta(S, K, r, sigma, T, t):\n",
        "    normal = tfd.Normal(loc=0., scale=1.)\n",
        "    return normal.cdf(compute_d1(S, K, r, sigma, T, t))\n",
        "\n",
        "def compute_gamma(S, K, r, sigma, T, t):\n",
        "    normal = tfd.Normal(loc=0., scale=1.)\n",
        "    ttm = T - t\n",
        "    d1 = compute_d1(S, K, r, sigma, T, t)\n",
        "    return normal.prob(d1) / (S*sigma*tf.sqrt(ttm))\n",
        "\n",
        "def compute_rho(S, K, r, sigma, T, t):\n",
        "    normal = tfd.Normal(loc=0., scale=1.)\n",
        "    ttm = T - t\n",
        "    d2 = compute_d2(S, K, r, sigma, T, t)\n",
        "    return K*ttm*tf.exp(-r*ttm)*normal.cdf(d2)\n",
        "\n",
        "def compute_theta(S, K, r, sigma, T, t):\n",
        "    normal = tfd.Normal(loc=0., scale=1.)\n",
        "    ttm = T - t\n",
        "    d1 = compute_d1(S, K, r, sigma, T, t)\n",
        "    d2 = d1 - sigma * tf.sqrt(ttm)\n",
        "    theta = (\n",
        "        - S*normal.prob(d1)*sigma / (2*tf.sqrt(ttm))\n",
        "        - r*K*tf.exp(-r*ttm)*normal.cdf(d2)\n",
        "    )\n",
        "\n",
        "    return theta\n",
        "\n",
        "def compute_vega(S, K, r, sigma, T, t):\n",
        "    normal = tfd.Normal(loc=0., scale=1.)\n",
        "    ttm = T - t\n",
        "    d1 = compute_d1(S, K, r, sigma, T, t)\n",
        "    return S*normal.prob(d1)*tf.sqrt(ttm)"
      ],
      "execution_count": 3,
      "outputs": []
    },
    {
      "cell_type": "code",
      "metadata": {
        "colab": {
          "base_uri": "https://localhost:8080/"
        },
        "id": "KzFnLqa3cWPs",
        "outputId": "8760d4f5-15ed-41f1-955f-b9e786fd412c"
      },
      "source": [
        "print(\"option price:\", compute_bs_price(100, 100, 0.01, 1., 10., 1.))\n",
        "print(\"delta:\", compute_delta(100, 100, 0.01, 1., 10., 1.))\n",
        "print(\"gamma:\", compute_gamma(100, 100, 0.01, 1., 10., 1.))\n",
        "print(\"rho:\", compute_rho(100, 100, 0.01, 1., 10., 1.))\n",
        "print(\"theta:\", compute_theta(100, 100, 0.01, 1., 10., 1.))\n",
        "print(\"vega:\", compute_vega(100, 100, 0.01, 1., 10., 1.))"
      ],
      "execution_count": 9,
      "outputs": [
        {
          "output_type": "stream",
          "text": [
            "option price: tf.Tensor(87.23028, shape=(), dtype=float32)\n",
            "delta: tf.Tensor(0.93699163, shape=(), dtype=float32)\n",
            "gamma: tf.Tensor(0.0004125426, shape=(), dtype=float32)\n",
            "rho: tf.Tensor(58.21999, shape=(), dtype=float32)\n",
            "theta: tf.Tensor(-2.1274018, shape=(), dtype=float32)\n",
            "vega: tf.Tensor(37.128834, shape=(), dtype=float32)\n"
          ],
          "name": "stdout"
        }
      ]
    },
    {
      "cell_type": "code",
      "metadata": {
        "id": "uTjbcQQup7Rc"
      },
      "source": [
        "@tf.function\n",
        "def sample_log_diff_geom_bm(n, length, S=1., mu=0., sigma=1., dt=0.1):\n",
        "    dX = (mu - 0.5*sigma**2)*dt \\\n",
        "      + sigma*tf.random.normal(shape=(n, length), mean=mu, stddev=tf.sqrt(dt))\n",
        "    \n",
        "    return dX\n",
        "\n",
        "@tf.function\n",
        "def sample_geom_bm(n, length, S=1., mu=0., sigma=1., dt=0.1):\n",
        "    log_diffs = sample_log_diff_geom_bm(n, length, S=1., mu=0., sigma=1., dt=0.1)\n",
        "    \n",
        "    diffs = tf.concat([tf.ones(shape=(n, 1)), tf.exp(log_diffs)], axis=1)\n",
        "    samples = S*tf.math.cumprod(diffs, axis=1)\n",
        "\n",
        "    return samples#tf.concat([S, samples], axis=0)\n",
        "\n",
        "tf.random.set_seed(5.)\n",
        "s = sample_geom_bm(100, 10)"
      ],
      "execution_count": 5,
      "outputs": []
    },
    {
      "cell_type": "code",
      "metadata": {
        "colab": {
          "base_uri": "https://localhost:8080/"
        },
        "id": "WAkO-KczuZ5U",
        "outputId": "095d5ffc-ad8a-4aa9-bf00-11948047ff67"
      },
      "source": [
        "s = sample_geom_bm(100, 10)\n",
        "s"
      ],
      "execution_count": 6,
      "outputs": [
        {
          "output_type": "execute_result",
          "data": {
            "text/plain": [
              "<tf.Tensor: shape=(100, 11), dtype=float32, numpy=\n",
              "array([[1.        , 1.0974238 , 0.71832657, ..., 0.39955455, 0.368409  ,\n",
              "        0.38680264],\n",
              "       [1.        , 0.7752297 , 0.40833664, ..., 0.30917856, 0.24705546,\n",
              "        0.33697325],\n",
              "       [1.        , 0.68553656, 0.63368267, ..., 0.6274556 , 0.37316018,\n",
              "        0.4771795 ],\n",
              "       ...,\n",
              "       [1.        , 1.2476795 , 1.153329  , ..., 0.25429204, 0.162533  ,\n",
              "        0.148301  ],\n",
              "       [1.        , 0.803194  , 0.8427608 , ..., 2.3499584 , 1.7348535 ,\n",
              "        1.6584028 ],\n",
              "       [1.        , 0.92203605, 0.656608  , ..., 0.6178499 , 0.79343677,\n",
              "        0.50394624]], dtype=float32)>"
            ]
          },
          "metadata": {
            "tags": []
          },
          "execution_count": 6
        }
      ]
    },
    {
      "cell_type": "code",
      "metadata": {
        "colab": {
          "base_uri": "https://localhost:8080/"
        },
        "id": "jA6EggoRuD6v",
        "outputId": "479f05c1-403a-4669-838a-52f879b0b1bf"
      },
      "source": [
        "tf.concat([tf.zeros(shape=(s.shape[0], 1)), s], axis=1)"
      ],
      "execution_count": 21,
      "outputs": [
        {
          "output_type": "execute_result",
          "data": {
            "text/plain": [
              "<tf.Tensor: shape=(100, 11), dtype=float32, numpy=\n",
              "array([[0.        , 0.6251564 , 0.49763903, ..., 0.18157321, 0.18097438,\n",
              "        0.16723149],\n",
              "       [0.        , 1.3549161 , 1.353938  , ..., 0.6231236 , 0.6261552 ,\n",
              "        0.46337917],\n",
              "       [0.        , 1.1207817 , 1.7449888 , ..., 1.4048334 , 1.6169754 ,\n",
              "        1.1931492 ],\n",
              "       ...,\n",
              "       [0.        , 0.5728698 , 0.43603513, ..., 0.20255673, 0.16738254,\n",
              "        0.12182252],\n",
              "       [0.        , 1.0406234 , 0.72546494, ..., 0.7047383 , 0.565912  ,\n",
              "        0.55625033],\n",
              "       [0.        , 1.0827826 , 1.2559961 , ..., 0.90339065, 0.67733085,\n",
              "        0.64792544]], dtype=float32)>"
            ]
          },
          "metadata": {
            "tags": []
          },
          "execution_count": 21
        }
      ]
    },
    {
      "cell_type": "code",
      "metadata": {
        "colab": {
          "base_uri": "https://localhost:8080/",
          "height": 314
        },
        "id": "2Q8Nh5orTloj",
        "outputId": "0dbd8941-fce9-4341-bb1d-b83865e3a45e"
      },
      "source": [
        "import matplotlib.pyplot as plt\n",
        "\n",
        "x = tf.transpose(sample_geom_bm(25, 10))\n",
        "plt.plot(100*x)\n",
        "#plt.legend(np.round(sigma, 2))\n",
        "plt.xlabel(\"$t$\")\n",
        "plt.ylabel(\"$x$\")\n",
        "plt.title(\n",
        "    \"Realizations of Geometric Brownian Motion with different variances\\n $\\mu=1$\"\n",
        ")\n",
        "plt.show()\n"
      ],
      "execution_count": 24,
      "outputs": [
        {
          "output_type": "display_data",
          "data": {
            "image/png": "[encoded data removed]",
            "text/plain": [
              "<Figure size 432x288 with 1 Axes>"
            ]
          },
          "metadata": {
            "tags": [],
            "needs_background": "light"
          }
        }
      ]
    },
    {
      "cell_type": "code",
      "metadata": {
        "colab": {
          "base_uri": "https://localhost:8080/"
        },
        "id": "yzGCmuOTzIvT",
        "outputId": "44d54ee8-555a-4f57-dddd-fd9ff9fc44e6"
      },
      "source": [
        ""
      ],
      "execution_count": 20,
      "outputs": [
        {
          "output_type": "stream",
          "text": [
            "Collecting tf_agents\n",
            "\u001b[?25l  Downloading https://files.pythonhosted.org/packages/e7/cd/a0710b1caae042b7a4d54fc74073fb4df7adf073934798443bdc0059813a/tf_agents-0.7.1-py3-none-any.whl (1.2MB)\n",
            "\r\u001b[K     |▎                               | 10kB 9.1MB/s eta 0:00:01\r\u001b[K     |▌                               | 20kB 13.8MB/s eta 0:00:01\r\u001b[K     |▉                               | 30kB 17.9MB/s eta 0:00:01\r\u001b[K     |█                               | 40kB 20.7MB/s eta 0:00:01\r\u001b[K     |█▍                              | 51kB 23.3MB/s eta 0:00:01\r\u001b[K     |█▋                              | 61kB 20.5MB/s eta 0:00:01\r\u001b[K     |██                              | 71kB 18.7MB/s eta 0:00:01\r\u001b[K     |██▏                             | 81kB 13.1MB/s eta 0:00:01\r\u001b[K     |██▍                             | 92kB 14.0MB/s eta 0:00:01\r\u001b[K     |██▊                             | 102kB 14.7MB/s eta 0:00:01\r\u001b[K     |███                             | 112kB 14.7MB/s eta 0:00:01\r\u001b[K     |███▎                            | 122kB 14.7MB/s eta 0:00:01\r\u001b[K     |███▌                            | 133kB 14.7MB/s eta 0:00:01\r\u001b[K     |███▉                            | 143kB 14.7MB/s eta 0:00:01\r\u001b[K     |████                            | 153kB 14.7MB/s eta 0:00:01\r\u001b[K     |████▎                           | 163kB 14.7MB/s eta 0:00:01\r\u001b[K     |████▋                           | 174kB 14.7MB/s eta 0:00:01\r\u001b[K     |████▉                           | 184kB 14.7MB/s eta 0:00:01\r\u001b[K     |█████▏                          | 194kB 14.7MB/s eta 0:00:01\r\u001b[K     |█████▍                          | 204kB 14.7MB/s eta 0:00:01\r\u001b[K     |█████▊                          | 215kB 14.7MB/s eta 0:00:01\r\u001b[K     |██████                          | 225kB 14.7MB/s eta 0:00:01\r\u001b[K     |██████▏                         | 235kB 14.7MB/s eta 0:00:01\r\u001b[K     |██████▌                         | 245kB 14.7MB/s eta 0:00:01\r\u001b[K     |██████▊                         | 256kB 14.7MB/s eta 0:00:01\r\u001b[K     |███████                         | 266kB 14.7MB/s eta 0:00:01\r\u001b[K     |███████▎                        | 276kB 14.7MB/s eta 0:00:01\r\u001b[K     |███████▋                        | 286kB 14.7MB/s eta 0:00:01\r\u001b[K     |███████▉                        | 296kB 14.7MB/s eta 0:00:01\r\u001b[K     |████████                        | 307kB 14.7MB/s eta 0:00:01\r\u001b[K     |████████▍                       | 317kB 14.7MB/s eta 0:00:01\r\u001b[K     |████████▋                       | 327kB 14.7MB/s eta 0:00:01\r\u001b[K     |█████████                       | 337kB 14.7MB/s eta 0:00:01\r\u001b[K     |█████████▏                      | 348kB 14.7MB/s eta 0:00:01\r\u001b[K     |█████████▌                      | 358kB 14.7MB/s eta 0:00:01\r\u001b[K     |█████████▊                      | 368kB 14.7MB/s eta 0:00:01\r\u001b[K     |██████████                      | 378kB 14.7MB/s eta 0:00:01\r\u001b[K     |██████████▎                     | 389kB 14.7MB/s eta 0:00:01\r\u001b[K     |██████████▌                     | 399kB 14.7MB/s eta 0:00:01\r\u001b[K     |██████████▉                     | 409kB 14.7MB/s eta 0:00:01\r\u001b[K     |███████████                     | 419kB 14.7MB/s eta 0:00:01\r\u001b[K     |███████████▍                    | 430kB 14.7MB/s eta 0:00:01\r\u001b[K     |███████████▋                    | 440kB 14.7MB/s eta 0:00:01\r\u001b[K     |███████████▉                    | 450kB 14.7MB/s eta 0:00:01\r\u001b[K     |████████████▏                   | 460kB 14.7MB/s eta 0:00:01\r\u001b[K     |████████████▍                   | 471kB 14.7MB/s eta 0:00:01\r\u001b[K     |████████████▊                   | 481kB 14.7MB/s eta 0:00:01\r\u001b[K     |█████████████                   | 491kB 14.7MB/s eta 0:00:01\r\u001b[K     |█████████████▎                  | 501kB 14.7MB/s eta 0:00:01\r\u001b[K     |█████████████▌                  | 512kB 14.7MB/s eta 0:00:01\r\u001b[K     |█████████████▊                  | 522kB 14.7MB/s eta 0:00:01\r\u001b[K     |██████████████                  | 532kB 14.7MB/s eta 0:00:01\r\u001b[K     |██████████████▎                 | 542kB 14.7MB/s eta 0:00:01\r\u001b[K     |██████████████▋                 | 552kB 14.7MB/s eta 0:00:01\r\u001b[K     |██████████████▉                 | 563kB 14.7MB/s eta 0:00:01\r\u001b[K     |███████████████▏                | 573kB 14.7MB/s eta 0:00:01\r\u001b[K     |███████████████▍                | 583kB 14.7MB/s eta 0:00:01\r\u001b[K     |███████████████▋                | 593kB 14.7MB/s eta 0:00:01\r\u001b[K     |████████████████                | 604kB 14.7MB/s eta 0:00:01\r\u001b[K     |████████████████▏               | 614kB 14.7MB/s eta 0:00:01\r\u001b[K     |████████████████▌               | 624kB 14.7MB/s eta 0:00:01\r\u001b[K     |████████████████▊               | 634kB 14.7MB/s eta 0:00:01\r\u001b[K     |█████████████████               | 645kB 14.7MB/s eta 0:00:01\r\u001b[K     |█████████████████▎              | 655kB 14.7MB/s eta 0:00:01\r\u001b[K     |█████████████████▌              | 665kB 14.7MB/s eta 0:00:01\r\u001b[K     |█████████████████▉              | 675kB 14.7MB/s eta 0:00:01\r\u001b[K     |██████████████████              | 686kB 14.7MB/s eta 0:00:01\r\u001b[K     |██████████████████▍             | 696kB 14.7MB/s eta 0:00:01\r\u001b[K     |██████████████████▋             | 706kB 14.7MB/s eta 0:00:01\r\u001b[K     |███████████████████             | 716kB 14.7MB/s eta 0:00:01\r\u001b[K     |███████████████████▏            | 727kB 14.7MB/s eta 0:00:01\r\u001b[K     |███████████████████▌            | 737kB 14.7MB/s eta 0:00:01\r\u001b[K     |███████████████████▊            | 747kB 14.7MB/s eta 0:00:01\r\u001b[K     |████████████████████            | 757kB 14.7MB/s eta 0:00:01\r\u001b[K     |████████████████████▎           | 768kB 14.7MB/s eta 0:00:01\r\u001b[K     |████████████████████▌           | 778kB 14.7MB/s eta 0:00:01\r\u001b[K     |████████████████████▉           | 788kB 14.7MB/s eta 0:00:01\r\u001b[K     |█████████████████████           | 798kB 14.7MB/s eta 0:00:01\r\u001b[K     |█████████████████████▍          | 808kB 14.7MB/s eta 0:00:01\r\u001b[K     |█████████████████████▋          | 819kB 14.7MB/s eta 0:00:01\r\u001b[K     |█████████████████████▉          | 829kB 14.7MB/s eta 0:00:01\r\u001b[K     |██████████████████████▏         | 839kB 14.7MB/s eta 0:00:01\r\u001b[K     |██████████████████████▍         | 849kB 14.7MB/s eta 0:00:01\r\u001b[K     |██████████████████████▊         | 860kB 14.7MB/s eta 0:00:01\r\u001b[K     |███████████████████████         | 870kB 14.7MB/s eta 0:00:01\r\u001b[K     |███████████████████████▎        | 880kB 14.7MB/s eta 0:00:01\r\u001b[K     |███████████████████████▌        | 890kB 14.7MB/s eta 0:00:01\r\u001b[K     |███████████████████████▊        | 901kB 14.7MB/s eta 0:00:01\r\u001b[K     |████████████████████████        | 911kB 14.7MB/s eta 0:00:01\r\u001b[K     |████████████████████████▎       | 921kB 14.7MB/s eta 0:00:01\r\u001b[K     |████████████████████████▋       | 931kB 14.7MB/s eta 0:00:01\r\u001b[K     |████████████████████████▉       | 942kB 14.7MB/s eta 0:00:01\r\u001b[K     |█████████████████████████▏      | 952kB 14.7MB/s eta 0:00:01\r\u001b[K     |█████████████████████████▍      | 962kB 14.7MB/s eta 0:00:01\r\u001b[K     |█████████████████████████▋      | 972kB 14.7MB/s eta 0:00:01\r\u001b[K     |██████████████████████████      | 983kB 14.7MB/s eta 0:00:01\r\u001b[K     |██████████████████████████▏     | 993kB 14.7MB/s eta 0:00:01\r\u001b[K     |██████████████████████████▌     | 1.0MB 14.7MB/s eta 0:00:01\r\u001b[K     |██████████████████████████▊     | 1.0MB 14.7MB/s eta 0:00:01\r\u001b[K     |███████████████████████████     | 1.0MB 14.7MB/s eta 0:00:01\r\u001b[K     |███████████████████████████▎    | 1.0MB 14.7MB/s eta 0:00:01\r\u001b[K     |███████████████████████████▌    | 1.0MB 14.7MB/s eta 0:00:01\r\u001b[K     |███████████████████████████▉    | 1.1MB 14.7MB/s eta 0:00:01\r\u001b[K     |████████████████████████████    | 1.1MB 14.7MB/s eta 0:00:01\r\u001b[K     |████████████████████████████▍   | 1.1MB 14.7MB/s eta 0:00:01\r\u001b[K     |████████████████████████████▋   | 1.1MB 14.7MB/s eta 0:00:01\r\u001b[K     |█████████████████████████████   | 1.1MB 14.7MB/s eta 0:00:01\r\u001b[K     |█████████████████████████████▏  | 1.1MB 14.7MB/s eta 0:00:01\r\u001b[K     |█████████████████████████████▍  | 1.1MB 14.7MB/s eta 0:00:01\r\u001b[K     |█████████████████████████████▊  | 1.1MB 14.7MB/s eta 0:00:01\r\u001b[K     |██████████████████████████████  | 1.1MB 14.7MB/s eta 0:00:01\r\u001b[K     |██████████████████████████████▎ | 1.1MB 14.7MB/s eta 0:00:01\r\u001b[K     |██████████████████████████████▌ | 1.2MB 14.7MB/s eta 0:00:01\r\u001b[K     |██████████████████████████████▉ | 1.2MB 14.7MB/s eta 0:00:01\r\u001b[K     |███████████████████████████████ | 1.2MB 14.7MB/s eta 0:00:01\r\u001b[K     |███████████████████████████████▎| 1.2MB 14.7MB/s eta 0:00:01\r\u001b[K     |███████████████████████████████▋| 1.2MB 14.7MB/s eta 0:00:01\r\u001b[K     |███████████████████████████████▉| 1.2MB 14.7MB/s eta 0:00:01\r\u001b[K     |████████████████████████████████| 1.2MB 14.7MB/s \n",
            "\u001b[?25hRequirement already satisfied: cloudpickle>=1.3 in /usr/local/lib/python3.7/dist-packages (from tf_agents) (1.3.0)\n",
            "Requirement already satisfied: gin-config>=0.4.0 in /usr/local/lib/python3.7/dist-packages (from tf_agents) (0.4.0)\n",
            "Requirement already satisfied: wrapt>=1.11.1 in /usr/local/lib/python3.7/dist-packages (from tf_agents) (1.12.1)\n",
            "Requirement already satisfied: pillow>=7.0.0 in /usr/local/lib/python3.7/dist-packages (from tf_agents) (7.1.2)\n",
            "Requirement already satisfied: tensorflow-probability>=0.12.1 in /usr/local/lib/python3.7/dist-packages (from tf_agents) (0.12.1)\n",
            "Requirement already satisfied: absl-py>=0.6.1 in /usr/local/lib/python3.7/dist-packages (from tf_agents) (0.12.0)\n",
            "Requirement already satisfied: typing-extensions>=3.7.4.3 in /usr/local/lib/python3.7/dist-packages (from tf_agents) (3.7.4.3)\n",
            "Requirement already satisfied: numpy>=1.13.3 in /usr/local/lib/python3.7/dist-packages (from tf_agents) (1.19.5)\n",
            "Requirement already satisfied: gym>=0.17.0 in /usr/local/lib/python3.7/dist-packages (from tf_agents) (0.17.3)\n",
            "Requirement already satisfied: six>=1.10.0 in /usr/local/lib/python3.7/dist-packages (from tf_agents) (1.15.0)\n",
            "Requirement already satisfied: protobuf>=3.11.3 in /usr/local/lib/python3.7/dist-packages (from tf_agents) (3.12.4)\n",
            "Requirement already satisfied: decorator in /usr/local/lib/python3.7/dist-packages (from tensorflow-probability>=0.12.1->tf_agents) (4.4.2)\n",
            "Requirement already satisfied: dm-tree in /usr/local/lib/python3.7/dist-packages (from tensorflow-probability>=0.12.1->tf_agents) (0.1.5)\n",
            "Requirement already satisfied: gast>=0.3.2 in /usr/local/lib/python3.7/dist-packages (from tensorflow-probability>=0.12.1->tf_agents) (0.3.3)\n",
            "Requirement already satisfied: scipy in /usr/local/lib/python3.7/dist-packages (from gym>=0.17.0->tf_agents) (1.4.1)\n",
            "Requirement already satisfied: pyglet<=1.5.0,>=1.4.0 in /usr/local/lib/python3.7/dist-packages (from gym>=0.17.0->tf_agents) (1.5.0)\n",
            "Requirement already satisfied: setuptools in /usr/local/lib/python3.7/dist-packages (from protobuf>=3.11.3->tf_agents) (54.2.0)\n",
            "Requirement already satisfied: future in /usr/local/lib/python3.7/dist-packages (from pyglet<=1.5.0,>=1.4.0->gym>=0.17.0->tf_agents) (0.16.0)\n",
            "Installing collected packages: tf-agents\n",
            "Successfully installed tf-agents-0.7.1\n"
          ],
          "name": "stdout"
        }
      ]
    },
    {
      "cell_type": "code",
      "metadata": {
        "id": "IZFve5AXr8HH"
      },
      "source": [
        "import numpy as np\n",
        "import tf_agents\n",
        "import tf_agents.environments as tfae\n",
        "from tf_agents.specs import array_spec\n",
        "from tf_agents.trajectories import time_step as ts\n",
        "\n",
        "\n",
        "class CardGameEnv(tfae.py_environment.PyEnvironment):\n",
        "\n",
        "  def __init__(self):\n",
        "    self._action_spec = array_spec.BoundedArraySpec(\n",
        "        shape=(), dtype=np.int32, minimum=0, maximum=1, name='action')\n",
        "    self._observation_spec = array_spec.BoundedArraySpec(\n",
        "        shape=(1,), dtype=np.int32, minimum=0, name='observation')\n",
        "    self._state = 0\n",
        "    self._episode_ended = False\n",
        "\n",
        "  def action_spec(self):\n",
        "    return self._action_spec\n",
        "\n",
        "  def observation_spec(self):\n",
        "    return self._observation_spec\n",
        "\n",
        "  def _reset(self):\n",
        "    self._state = 0\n",
        "    self._episode_ended = False\n",
        "    return ts.restart(np.array([self._state], dtype=np.int32))\n",
        "\n",
        "  def _step(self, action):\n",
        "\n",
        "    if self._episode_ended:\n",
        "      # The last action ended the episode. Ignore the current action and start\n",
        "      # a new episode.\n",
        "      return self.reset()\n",
        "\n",
        "    # Make sure episodes don't go on forever.\n",
        "    if action == 1:\n",
        "      self._episode_ended = True\n",
        "    elif action == 0:\n",
        "      new_card = np.random.randint(1, 11)\n",
        "      self._state += new_card\n",
        "    else:\n",
        "      raise ValueError('`action` should be 0 or 1.')\n",
        "\n",
        "    if self._episode_ended or self._state >= 21:\n",
        "      reward = self._state - 21 if self._state <= 21 else -21\n",
        "      return ts.termination(np.array([self._state], dtype=np.int32), reward)\n",
        "    else:\n",
        "      return ts.transition(\n",
        "          np.array([self._state], dtype=np.int32), reward=0.0, discount=1.0)"
      ],
      "execution_count": 7,
      "outputs": []
    },
    {
      "cell_type": "code",
      "metadata": {
        "id": "x6ldj8-B7bNH"
      },
      "source": [
        "array_spec."
      ],
      "execution_count": null,
      "outputs": []
    },
    {
      "cell_type": "markdown",
      "metadata": {
        "id": "EyxlF4ZS7ipU"
      },
      "source": [
        "What is necessary for observation and action state:\n",
        "\n",
        "- Price of underlying\n",
        "- How many stocks are held\n",
        "- How many stocks do we want to buy \n",
        "- Config of the option "
      ]
    },
    {
      "cell_type": "code",
      "metadata": {
        "id": "Wb4pjC807MXq"
      },
      "source": [
        "class HedgeCallEnv(tfae.py_environment.PyEnvironment):\n",
        "\n",
        "  def __init__(self):\n",
        "    self._action_spec = array_spec.ArraySpec(\n",
        "        shape=(), dtype=np.float32, name=\"action\")\n",
        "    # price, time, current position of stocks.\n",
        "    # S, K, r, sigma, T, t, current position of stocks\n",
        "    self._observation_spec = array_spec.ArraySpec(\n",
        "        shape=(7,), dtype=np.float32, name=\"observation\")\n",
        "    self._state = np.array([100., 100., 0.01, 1., 10., 0.0, 0.0], dtype=\"float32\")\n",
        "\n",
        "    self._episode_ended = False\n",
        "\n",
        "  def action_spec(self):\n",
        "    return self._action_spec\n",
        "\n",
        "  def observation_spec(self):\n",
        "    return self._observation_spec\n",
        "\n",
        "  def _reset(self):\n",
        "    self._state = np.array([100., 100., 0.01, 1., 10., 0.0, 0.0], dtype=np.float32)\n",
        "    self._episode_ended = False\n",
        "    return ts.restart(self._state)\n",
        "\n",
        "  def _step(self, action):\n",
        "\n",
        "    state_vec = self._state\n",
        "\n",
        "    if self._episode_ended:\n",
        "      # The last action ended the episode. Ignore the current action and start\n",
        "      # a new episode.\n",
        "      return self.reset()\n",
        "\n",
        "    # Update position in underlying\n",
        "    state_vec[-1] += action\n",
        "    \n",
        "    # Update price of underlying\n",
        "    state_vec[0] *= tf.exp(sample_log_diff_geom_bm(\n",
        "        n=1, \n",
        "        length=1, \n",
        "        S=state_vec[0], \n",
        "        mu=0., \n",
        "        sigma=state_vec[3], \n",
        "        dt=0.1)).numpy()\n",
        "    \n",
        "    # Update time\n",
        "    state_vec[5] += 0.1\n",
        "\n",
        "    if state_vec[4] <= state_vec[5]:\n",
        "      value_call = tf.maximum(0, state_vec[0] - state_vec[1])\n",
        "\n",
        "      # In order for the episode not going on forever.\n",
        "      self._episode_ended = True\n",
        "    else:\n",
        "      value_call = compute_bs_price(\n",
        "          S=state_vec[0],\n",
        "          K=state_vec[1],\n",
        "          r=state_vec[2],\n",
        "          sigma=state_vec[3],\n",
        "          T=state_vec[4],\n",
        "          t=state_vec[5])\n",
        "      \n",
        "    value_stock_position = state_vec[0]*state_vec[-1]\n",
        "\n",
        "    # reward = negative hedge error = Value position in share - value of option\n",
        "    reward = -tf.abs(value_stock_position - value_call).numpy()\n",
        "\n",
        "    self._state = state_vec\n",
        "\n",
        "    if self._episode_ended:\n",
        "      return ts.termination(self._state, reward=reward)\n",
        "    else:\n",
        "      return ts.transition(self._state, reward=reward)"
      ],
      "execution_count": 53,
      "outputs": []
    },
    {
      "cell_type": "code",
      "metadata": {
        "colab": {
          "base_uri": "https://localhost:8080/"
        },
        "id": "1H_W7de1Ib3j",
        "outputId": "37cf38d2-7541-420d-8657-292ab11d82a5"
      },
      "source": [
        "environment = HedgeCallEnv()\n",
        "tfae.utils.validate_py_environment(environment, episodes=3)"
      ],
      "execution_count": 54,
      "outputs": [
        {
          "output_type": "stream",
          "text": [
            "/usr/local/lib/python3.7/dist-packages/ipykernel_launcher.py:63: RuntimeWarning: overflow encountered in float_scalars\n",
            "/usr/local/lib/python3.7/dist-packages/ipykernel_launcher.py:35: RuntimeWarning: overflow encountered in float_scalars\n"
          ],
          "name": "stderr"
        }
      ]
    },
    {
      "cell_type": "code",
      "metadata": {
        "id": "TKWBgBt6Ik-O"
      },
      "source": [
        "?tf_agents.specs.array_spec.ArraySpec"
      ],
      "execution_count": 40,
      "outputs": []
    },
    {
      "cell_type": "code",
      "metadata": {
        "id": "BF4E-oGjHydO"
      },
      "source": [
        "    if self._episode_ended:\n",
        "      reward = self._state - 21 if self._state <= 21 else -21\n",
        "      return ts.termination(np.array([self._state], dtype=np.int32), reward)\n",
        "    else:\n",
        "      return ts.transition(\n",
        "          np.array([self._state], dtype=np.int32), reward=0.0, discount=1.0)"
      ],
      "execution_count": null,
      "outputs": []
    },
    {
      "cell_type": "code",
      "metadata": {
        "colab": {
          "base_uri": "https://localhost:8080/"
        },
        "id": "N_fxtyLrF5B3",
        "outputId": "72ce8a01-65f2-4ca5-ab8e-866c87e93030"
      },
      "source": [
        "_a = 5\n",
        "def f():\n",
        "  if _a:\n",
        "    print(_a)\n",
        "\n",
        "f()"
      ],
      "execution_count": 18,
      "outputs": [
        {
          "output_type": "stream",
          "text": [
            "5\n"
          ],
          "name": "stdout"
        }
      ]
    },
    {
      "cell_type": "code",
      "metadata": {
        "id": "_Pdg9_MXGHz8"
      },
      "source": [
        "_state = tf.Variable([100., 100., 0.01, 1., 10., 0.0, 0.0])\n",
        "_episode_ended = False"
      ],
      "execution_count": 19,
      "outputs": []
    },
    {
      "cell_type": "code",
      "metadata": {
        "colab": {
          "base_uri": "https://localhost:8080/"
        },
        "id": "k3tcDvWeGI9T",
        "outputId": "aa3736f1-d0e0-4588-b5be-6fa39cb6a4b9"
      },
      "source": [
        "_episode_ended"
      ],
      "execution_count": 20,
      "outputs": [
        {
          "output_type": "execute_result",
          "data": {
            "text/plain": [
              "False"
            ]
          },
          "metadata": {
            "tags": []
          },
          "execution_count": 20
        }
      ]
    },
    {
      "cell_type": "code",
      "metadata": {
        "id": "D_-TNhxR8oUC"
      },
      "source": [
        "# S, K, r, sigma, T, t, current position of stocks\n",
        "_state = tf.Variable([100., 100., 0.01, 1., 10., 0.0, 0.0])\n",
        "_episode_ended = False\n",
        "\n",
        "def _step(action):\n",
        "    state_vec = _state.numpy()\n",
        "    global _episode_ended\n",
        "    if _episode_ended:\n",
        "      # The last action ended the episode. Ignore the current action and start\n",
        "      # a new episode.\n",
        "      return self.reset()\n",
        "\n",
        "    # Update position in underlying\n",
        "    state_vec[-1] += action\n",
        "    \n",
        "    # Update price of underlying\n",
        "    state_vec[0] *= tf.exp(sample_log_diff_geom_bm(\n",
        "        n=1, \n",
        "        length=1, \n",
        "        S=state_vec[0], \n",
        "        mu=0., \n",
        "        sigma=state_vec[3], \n",
        "        dt=0.1))\n",
        "    \n",
        "    # Update time\n",
        "    state_vec[5] += 0.1\n",
        "\n",
        "    if state_vec[4] <= state_vec[5]:\n",
        "      value_call = tf.maximum(0, state_vec[0] - state_vec[1])\n",
        "\n",
        "      # In order for the episode not going on forever.\n",
        "      _episode_ended = True\n",
        "    else:\n",
        "      value_call = compute_bs_price(\n",
        "          S=state_vec[0],\n",
        "          K=state_vec[1],\n",
        "          r=state_vec[2],\n",
        "          sigma=state_vec[3],\n",
        "          T=state_vec[4],\n",
        "          t=state_vec[5])\n",
        "      \n",
        "    value_stock_position = state_vec[0]*state_vec[-1]\n",
        "\n",
        "    # reward = negative hedge error = Value position in share - value of option\n",
        "    reward = -tf.abs(value_stock_position - value_call)\n",
        "\n",
        "    _state.assign(state_vec)\n",
        "\n",
        "    return reward\n",
        "\n"
      ],
      "execution_count": 34,
      "outputs": []
    },
    {
      "cell_type": "code",
      "metadata": {
        "colab": {
          "base_uri": "https://localhost:8080/"
        },
        "id": "e2uSmfNhB4QC",
        "outputId": "9a2bfb55-7fed-4e75-d9ac-cd13c3af9c30"
      },
      "source": [
        "tf.maximum(2, 1)"
      ],
      "execution_count": 35,
      "outputs": [
        {
          "output_type": "execute_result",
          "data": {
            "text/plain": [
              "<tf.Tensor: shape=(), dtype=int32, numpy=2>"
            ]
          },
          "metadata": {
            "tags": []
          },
          "execution_count": 35
        }
      ]
    },
    {
      "cell_type": "code",
      "metadata": {
        "id": "KomUPBmDGQtp"
      },
      "source": [
        "??_step"
      ],
      "execution_count": 36,
      "outputs": []
    },
    {
      "cell_type": "code",
      "metadata": {
        "colab": {
          "base_uri": "https://localhost:8080/"
        },
        "id": "YFV-EKzV_8qe",
        "outputId": "0c4040b9-eca1-4970-cf8b-23c609c3bddd"
      },
      "source": [
        "print(_state)\n",
        "_step(2.)\n",
        "print(_state)"
      ],
      "execution_count": 37,
      "outputs": [
        {
          "output_type": "stream",
          "text": [
            "<tf.Variable 'Variable:0' shape=(7,) dtype=float32, numpy=\n",
            "array([1.e+02, 1.e+02, 1.e-02, 1.e+00, 1.e+01, 0.e+00, 0.e+00],\n",
            "      dtype=float32)>\n",
            "<tf.Variable 'Variable:0' shape=(7,) dtype=float32, numpy=\n",
            "array([1.02495766e+02, 1.00000000e+02, 9.99999978e-03, 1.00000000e+00,\n",
            "       1.00000000e+01, 1.00000001e-01, 2.00000000e+00], dtype=float32)>\n"
          ],
          "name": "stdout"
        }
      ]
    },
    {
      "cell_type": "code",
      "metadata": {
        "colab": {
          "base_uri": "https://localhost:8080/"
        },
        "id": "eY1E2wwH2gOl",
        "outputId": "3c9f26d3-778a-4f8d-a460-d6c17d8c635c"
      },
      "source": [
        "arr = tf.Variable([100., 100., 0.01, 1., 10., 0.0, 0.0]).numpy()\n",
        "arr[3:5]"
      ],
      "execution_count": 12,
      "outputs": [
        {
          "output_type": "execute_result",
          "data": {
            "text/plain": [
              "array([1.e+02, 1.e+02, 1.e-02, 1.e+00, 1.e+01, 0.e+00, 0.e+00],\n",
              "      dtype=float32)"
            ]
          },
          "metadata": {
            "tags": []
          },
          "execution_count": 12
        }
      ]
    },
    {
      "cell_type": "code",
      "metadata": {
        "id": "ja3XgR0L2o_o"
      },
      "source": [
        "arr[4] += 1"
      ],
      "execution_count": 15,
      "outputs": []
    },
    {
      "cell_type": "code",
      "metadata": {
        "colab": {
          "base_uri": "https://localhost:8080/"
        },
        "id": "-9gLJEVI5wCm",
        "outputId": "31354b2e-5fd2-481a-ecbb-132666e93907"
      },
      "source": [
        "arr[4]"
      ],
      "execution_count": 16,
      "outputs": [
        {
          "output_type": "execute_result",
          "data": {
            "text/plain": [
              "11.0"
            ]
          },
          "metadata": {
            "tags": []
          },
          "execution_count": 16
        }
      ]
    },
    {
      "cell_type": "code",
      "metadata": {
        "colab": {
          "base_uri": "https://localhost:8080/"
        },
        "id": "PWEydoH0BVZl",
        "outputId": "ca3a5f39-d454-4796-e721-2c148a40ac53"
      },
      "source": [
        "arr = np.array([1,2,3,4])\n",
        "print(arr)\n",
        "arr[-2]"
      ],
      "execution_count": 38,
      "outputs": [
        {
          "output_type": "stream",
          "text": [
            "[1 2 3 4]\n"
          ],
          "name": "stdout"
        },
        {
          "output_type": "execute_result",
          "data": {
            "text/plain": [
              "3"
            ]
          },
          "metadata": {
            "tags": []
          },
          "execution_count": 38
        }
      ]
    },
    {
      "cell_type": "code",
      "metadata": {
        "id": "C55zeE_duCHY"
      },
      "source": [
        "environment = CardGameEnv()\n",
        "tfae.utils.validate_py_environment(environment, episodes=5)"
      ],
      "execution_count": 36,
      "outputs": []
    },
    {
      "cell_type": "code",
      "metadata": {
        "colab": {
          "base_uri": "https://localhost:8080/",
          "height": 180
        },
        "id": "zV8Gck4rz8ci",
        "outputId": "28373d06-d693-42b4-e2d6-ae71e706bcb2"
      },
      "source": [
        "from tf_agents import utils\n",
        "utils.validate_py_environment(environment, episodes=5)"
      ],
      "execution_count": 32,
      "outputs": [
        {
          "output_type": "error",
          "ename": "AttributeError",
          "evalue": "ignored",
          "traceback": [
            "\u001b[0;31m---------------------------------------------------------------------------\u001b[0m",
            "\u001b[0;31mAttributeError\u001b[0m                            Traceback (most recent call last)",
            "\u001b[0;32m<ipython-input-32-9068715e816c>\u001b[0m in \u001b[0;36m<module>\u001b[0;34m()\u001b[0m\n\u001b[1;32m      1\u001b[0m \u001b[0;32mfrom\u001b[0m \u001b[0mtf_agents\u001b[0m \u001b[0;32mimport\u001b[0m \u001b[0mutils\u001b[0m\u001b[0;34m\u001b[0m\u001b[0;34m\u001b[0m\u001b[0m\n\u001b[0;32m----> 2\u001b[0;31m \u001b[0mutils\u001b[0m\u001b[0;34m.\u001b[0m\u001b[0mvalidate_py_environment\u001b[0m\u001b[0;34m(\u001b[0m\u001b[0menvironment\u001b[0m\u001b[0;34m,\u001b[0m \u001b[0mepisodes\u001b[0m\u001b[0;34m=\u001b[0m\u001b[0;36m5\u001b[0m\u001b[0;34m)\u001b[0m\u001b[0;34m\u001b[0m\u001b[0;34m\u001b[0m\u001b[0m\n\u001b[0m",
            "\u001b[0;31mAttributeError\u001b[0m: module 'tf_agents.utils' has no attribute 'validate_py_environment'"
          ]
        }
      ]
    },
    {
      "cell_type": "code",
      "metadata": {
        "colab": {
          "base_uri": "https://localhost:8080/",
          "height": 314
        },
        "id": "IlKDlzsDRU8r",
        "outputId": "7b36f42c-c167-4f66-a8f0-925b2c5387d4"
      },
      "source": [
        "import numpy as np\n",
        "import matplotlib.pyplot as plt\n",
        "\n",
        "mu = 0.01\n",
        "n = 50\n",
        "dt = 0.1\n",
        "x0 = 100\n",
        "#np.random.seed(1)\n",
        "\n",
        "sigma = np.arange(0.8, 2, 0.2)\n",
        "\n",
        "x = np.exp(\n",
        "    (mu - sigma ** 2 / 2) * dt\n",
        "    + sigma * np.random.normal(0, np.sqrt(dt), size=(len(sigma), n)).T\n",
        ")\n",
        "x = np.vstack([np.ones(len(sigma)), x])\n",
        "x = x0 * x.cumprod(axis=0)\n",
        "\n",
        "plt.plot(x)\n",
        "plt.legend(np.round(sigma, 2))\n",
        "plt.xlabel(\"$t$\")\n",
        "plt.ylabel(\"$x$\")\n",
        "plt.title(\n",
        "    \"Realizations of Geometric Brownian Motion with different variances\\n $\\mu=1$\"\n",
        ")\n",
        "plt.show()\n"
      ],
      "execution_count": null,
      "outputs": [
        {
          "output_type": "display_data",
          "data": {
            "image/png": "[encoded data removed]",
            "text/plain": [
              "<Figure size 432x288 with 1 Axes>"
            ]
          },
          "metadata": {
            "tags": [],
            "needs_background": "light"
          }
        }
      ]
    }
  ]
}