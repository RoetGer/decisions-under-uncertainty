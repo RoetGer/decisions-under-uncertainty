{
  "nbformat": 4,
  "nbformat_minor": 0,
  "metadata": {
    "colab": {
      "name": "deep-hedging.ipynb",
      "provenance": [],
      "collapsed_sections": [],
      "authorship_tag": "ABX9TyMGGwlcBuamBYwoUrkVw0p3",
      "include_colab_link": true
    },
    "kernelspec": {
      "name": "python3",
      "display_name": "Python 3"
    },
    "language_info": {
      "name": "python"
    }
  },
  "cells": [
    {
      "cell_type": "markdown",
      "metadata": {
        "id": "view-in-github",
        "colab_type": "text"
      },
      "source": [
        "<a href=\"https://colab.research.google.com/github/RoetGer/decisions-under-uncertainty/blob/main/deep_hedging.ipynb\" target=\"_parent\"><img src=\"https://colab.research.google.com/assets/colab-badge.svg\" alt=\"Open In Colab\"/></a>"
      ]
    },
    {
      "cell_type": "code",
      "metadata": {
        "colab": {
          "base_uri": "https://localhost:8080/"
        },
        "id": "gkYRnFGZzQnT",
        "outputId": "3851846c-987e-4a66-c143-7b05c41cfea4"
      },
      "source": [
        "! pip install tf_agents"
      ],
      "execution_count": 1,
      "outputs": [
        {
          "output_type": "stream",
          "text": [
            "Collecting tf_agents\n",
            "\u001b[?25l  Downloading https://files.pythonhosted.org/packages/e7/cd/a0710b1caae042b7a4d54fc74073fb4df7adf073934798443bdc0059813a/tf_agents-0.7.1-py3-none-any.whl (1.2MB)\n",
            "\u001b[K     |████████████████████████████████| 1.2MB 4.9MB/s \n",
            "\u001b[?25hRequirement already satisfied: numpy>=1.13.3 in /usr/local/lib/python3.7/dist-packages (from tf_agents) (1.19.5)\n",
            "Requirement already satisfied: six>=1.10.0 in /usr/local/lib/python3.7/dist-packages (from tf_agents) (1.15.0)\n",
            "Requirement already satisfied: gym>=0.17.0 in /usr/local/lib/python3.7/dist-packages (from tf_agents) (0.17.3)\n",
            "Requirement already satisfied: gin-config>=0.4.0 in /usr/local/lib/python3.7/dist-packages (from tf_agents) (0.4.0)\n",
            "Requirement already satisfied: protobuf>=3.11.3 in /usr/local/lib/python3.7/dist-packages (from tf_agents) (3.12.4)\n",
            "Requirement already satisfied: wrapt>=1.11.1 in /usr/local/lib/python3.7/dist-packages (from tf_agents) (1.12.1)\n",
            "Requirement already satisfied: cloudpickle>=1.3 in /usr/local/lib/python3.7/dist-packages (from tf_agents) (1.3.0)\n",
            "Requirement already satisfied: typing-extensions>=3.7.4.3 in /usr/local/lib/python3.7/dist-packages (from tf_agents) (3.7.4.3)\n",
            "Requirement already satisfied: pillow>=7.0.0 in /usr/local/lib/python3.7/dist-packages (from tf_agents) (7.1.2)\n",
            "Requirement already satisfied: absl-py>=0.6.1 in /usr/local/lib/python3.7/dist-packages (from tf_agents) (0.12.0)\n",
            "Requirement already satisfied: tensorflow-probability>=0.12.1 in /usr/local/lib/python3.7/dist-packages (from tf_agents) (0.12.1)\n",
            "Requirement already satisfied: scipy in /usr/local/lib/python3.7/dist-packages (from gym>=0.17.0->tf_agents) (1.4.1)\n",
            "Requirement already satisfied: pyglet<=1.5.0,>=1.4.0 in /usr/local/lib/python3.7/dist-packages (from gym>=0.17.0->tf_agents) (1.5.0)\n",
            "Requirement already satisfied: setuptools in /usr/local/lib/python3.7/dist-packages (from protobuf>=3.11.3->tf_agents) (54.2.0)\n",
            "Requirement already satisfied: dm-tree in /usr/local/lib/python3.7/dist-packages (from tensorflow-probability>=0.12.1->tf_agents) (0.1.5)\n",
            "Requirement already satisfied: gast>=0.3.2 in /usr/local/lib/python3.7/dist-packages (from tensorflow-probability>=0.12.1->tf_agents) (0.3.3)\n",
            "Requirement already satisfied: decorator in /usr/local/lib/python3.7/dist-packages (from tensorflow-probability>=0.12.1->tf_agents) (4.4.2)\n",
            "Requirement already satisfied: future in /usr/local/lib/python3.7/dist-packages (from pyglet<=1.5.0,>=1.4.0->gym>=0.17.0->tf_agents) (0.16.0)\n",
            "Installing collected packages: tf-agents\n",
            "Successfully installed tf-agents-0.7.1\n"
          ],
          "name": "stdout"
        }
      ]
    },
    {
      "cell_type": "code",
      "metadata": {
        "id": "HHL3J8H3NUhO"
      },
      "source": [
        "import tensorflow as tf\n",
        "import tensorflow_probability as tfp\n",
        "tfd = tfp.distributions"
      ],
      "execution_count": 2,
      "outputs": []
    },
    {
      "cell_type": "markdown",
      "metadata": {
        "id": "w6cO83MgZJRE"
      },
      "source": [
        "Let's start with some helper functions to deal with Black-Scholes based option pricing (from Tomas Björk's book \"Arbitrage Theory in Continuous Time\"):"
      ]
    },
    {
      "cell_type": "code",
      "metadata": {
        "id": "j_YiTCF2QV20"
      },
      "source": [
        "def compute_d1(S, K, r, sigma, T, t):\n",
        "    # time to maturity\n",
        "    ttm = T - t\n",
        "    return (tf.math.log(S/K) + (r + sigma**2/2)*ttm) / (sigma * tf.sqrt(ttm))\n",
        "\n",
        "def compute_d2(S, K, r, sigma, T, t):\n",
        "    ttm = T - t\n",
        "    return compute_d1(S, K, r, sigma, T, t) - sigma * tf.sqrt(ttm)\n",
        "\n",
        "def compute_bs_price(S, K, r, sigma, T, t):\n",
        "    normal = tfd.Normal(loc=0., scale=1.)\n",
        "    ttm = T - t\n",
        "\n",
        "    d1 = compute_d1(S, K, r, sigma, T, t)\n",
        "    d2 = d1 - sigma * tf.sqrt(ttm)\n",
        "\n",
        "    price = S*normal.cdf(d1) - tf.exp(-r*ttm)*K*normal.cdf(d2)\n",
        "\n",
        "    return price\n",
        "\n",
        "def compute_delta(S, K, r, sigma, T, t):\n",
        "    normal = tfd.Normal(loc=0., scale=1.)\n",
        "    return normal.cdf(compute_d1(S, K, r, sigma, T, t))\n",
        "\n",
        "def compute_gamma(S, K, r, sigma, T, t):\n",
        "    normal = tfd.Normal(loc=0., scale=1.)\n",
        "    ttm = T - t\n",
        "    d1 = compute_d1(S, K, r, sigma, T, t)\n",
        "    return normal.prob(d1) / (S*sigma*tf.sqrt(ttm))\n",
        "\n",
        "def compute_rho(S, K, r, sigma, T, t):\n",
        "    normal = tfd.Normal(loc=0., scale=1.)\n",
        "    ttm = T - t\n",
        "    d2 = compute_d2(S, K, r, sigma, T, t)\n",
        "    return K*ttm*tf.exp(-r*ttm)*normal.cdf(d2)\n",
        "\n",
        "def compute_theta(S, K, r, sigma, T, t):\n",
        "    normal = tfd.Normal(loc=0., scale=1.)\n",
        "    ttm = T - t\n",
        "    d1 = compute_d1(S, K, r, sigma, T, t)\n",
        "    d2 = d1 - sigma * tf.sqrt(ttm)\n",
        "    theta = (\n",
        "        - S*normal.prob(d1)*sigma / (2*tf.sqrt(ttm))\n",
        "        - r*K*tf.exp(-r*ttm)*normal.cdf(d2)\n",
        "    )\n",
        "\n",
        "    return theta\n",
        "\n",
        "def compute_vega(S, K, r, sigma, T, t):\n",
        "    normal = tfd.Normal(loc=0., scale=1.)\n",
        "    ttm = T - t\n",
        "    d1 = compute_d1(S, K, r, sigma, T, t)\n",
        "    return S*normal.prob(d1)*tf.sqrt(ttm)"
      ],
      "execution_count": 3,
      "outputs": []
    },
    {
      "cell_type": "code",
      "metadata": {
        "colab": {
          "base_uri": "https://localhost:8080/"
        },
        "id": "KzFnLqa3cWPs",
        "outputId": "90081dfc-6ad1-4e90-dd6a-4adb67c86708"
      },
      "source": [
        "print(\"option price:\", compute_bs_price(100, 100, 0.01, 1., 10., 1.))\n",
        "print(\"delta:\", compute_delta(100, 100, 0.01, 1., 10., 1.))\n",
        "print(\"gamma:\", compute_gamma(100, 100, 0.01, 1., 10., 1.))\n",
        "print(\"rho:\", compute_rho(100, 100, 0.01, 1., 10., 1.))\n",
        "print(\"theta:\", compute_theta(100, 100, 0.01, 1., 10., 1.))\n",
        "print(\"vega:\", compute_vega(100, 100, 0.01, 1., 10., 1.))"
      ],
      "execution_count": 4,
      "outputs": [
        {
          "output_type": "stream",
          "text": [
            "option price: tf.Tensor(87.23028, shape=(), dtype=float32)\n",
            "delta: tf.Tensor(0.93699163, shape=(), dtype=float32)\n",
            "gamma: tf.Tensor(0.0004125426, shape=(), dtype=float32)\n",
            "rho: tf.Tensor(58.21999, shape=(), dtype=float32)\n",
            "theta: tf.Tensor(-2.1274018, shape=(), dtype=float32)\n",
            "vega: tf.Tensor(37.128834, shape=(), dtype=float32)\n"
          ],
          "name": "stdout"
        }
      ]
    },
    {
      "cell_type": "code",
      "metadata": {
        "id": "uTjbcQQup7Rc"
      },
      "source": [
        "@tf.function\n",
        "def sample_log_diff_geom_bm(n, length, S=1., mu=0., sigma=1., dt=0.1):\n",
        "    dX = (mu - 0.5*sigma**2)*dt \\\n",
        "      + sigma*tf.random.normal(shape=(n, length), mean=mu, stddev=tf.sqrt(dt))\n",
        "    \n",
        "    return dX\n",
        "\n",
        "@tf.function\n",
        "def sample_geom_bm(n, length, S=1., mu=0., sigma=1., dt=0.1):\n",
        "    log_diffs = sample_log_diff_geom_bm(n, length, S=1., mu=0., sigma=1., dt=0.1)\n",
        "    \n",
        "    diffs = tf.concat([tf.ones(shape=(n, 1)), tf.exp(log_diffs)], axis=1)\n",
        "    samples = S*tf.math.cumprod(diffs, axis=1)\n",
        "\n",
        "    return samples#tf.concat([S, samples], axis=0)\n",
        "\n",
        "tf.random.set_seed(5.)\n",
        "s = sample_geom_bm(100, 10)"
      ],
      "execution_count": 5,
      "outputs": []
    },
    {
      "cell_type": "code",
      "metadata": {
        "colab": {
          "base_uri": "https://localhost:8080/",
          "height": 314
        },
        "id": "2Q8Nh5orTloj",
        "outputId": "a7eb241a-ebca-4d27-dc78-c049ff66f06a"
      },
      "source": [
        "import matplotlib.pyplot as plt\n",
        "\n",
        "x = tf.transpose(sample_geom_bm(25, 10))\n",
        "plt.plot(100*x)\n",
        "#plt.legend(np.round(sigma, 2))\n",
        "plt.xlabel(\"$t$\")\n",
        "plt.ylabel(\"$x$\")\n",
        "plt.title(\n",
        "    \"Realizations of Geometric Brownian Motion with different variances\\n $\\mu=1$\"\n",
        ")\n",
        "plt.show()\n"
      ],
      "execution_count": 6,
      "outputs": [
        {
          "output_type": "display_data",
          "data": {
            "image/png": "[encoded data removed]",
            "text/plain": [
              "<Figure size 432x288 with 1 Axes>"
            ]
          },
          "metadata": {
            "tags": [],
            "needs_background": "light"
          }
        }
      ]
    },
    {
      "cell_type": "markdown",
      "metadata": {
        "id": "EyxlF4ZS7ipU"
      },
      "source": [
        "What is necessary for observation and action state:\n",
        "\n",
        "- Price of underlying\n",
        "- How many stocks are held\n",
        "- How many stocks do we want to buy \n",
        "- Config of the option "
      ]
    },
    {
      "cell_type": "code",
      "metadata": {
        "id": "Wb4pjC807MXq"
      },
      "source": [
        "import numpy as np\n",
        "import tf_agents\n",
        "import tf_agents.environments as tfae\n",
        "from tf_agents.specs import array_spec\n",
        "from tf_agents.trajectories import time_step as ts\n",
        "\n",
        "\n",
        "class HedgeCallEnv(tfae.py_environment.PyEnvironment):\n",
        "\n",
        "  def __init__(self, S, K, r, sigma, T, t, init_pos_size):\n",
        "    self._action_spec = array_spec.ArraySpec(\n",
        "        shape=(), dtype=np.float32, name=\"action\")\n",
        "\n",
        "    # S, K, r, sigma, T, t, current position of stocks\n",
        "    self._observation_spec = array_spec.ArraySpec(\n",
        "        shape=(7,), dtype=np.float32, name=\"observation\")\n",
        "    self._state = np.array(\n",
        "        [S, K, r, sigma, T, t, init_pos_size], \n",
        "        dtype=\"float32\")\n",
        "\n",
        "    self.S = S\n",
        "    self.K = K\n",
        "    self.r = r\n",
        "    self.sigma= sigma\n",
        "    self.T = T\n",
        "    self.t = t\n",
        "    self.init_pos_size = init_pos_size\n",
        "\n",
        "    self._episode_ended = False\n",
        "\n",
        "  def action_spec(self):\n",
        "    return self._action_spec\n",
        "\n",
        "  def observation_spec(self):\n",
        "    return self._observation_spec\n",
        "\n",
        "  def _reset(self):\n",
        "    self._state = np.array(\n",
        "        [self.S, self.K, self.r, self.sigma, self.T, self.t, self.init_pos_size], \n",
        "        dtype=np.float32)\n",
        "    self._episode_ended = False\n",
        "    return ts.restart(self._state)\n",
        "\n",
        "  def _step(self, action):\n",
        "\n",
        "    state_vec = self._state\n",
        "\n",
        "    if self._episode_ended:\n",
        "      # The last action ended the episode. Ignore the current action and start\n",
        "      # a new episode.\n",
        "      return self.reset()\n",
        "\n",
        "    # Update position in underlying\n",
        "    state_vec[-1] += action\n",
        "    \n",
        "    # Update price of underlying\n",
        "    state_vec[0] *= tf.exp(sample_log_diff_geom_bm(\n",
        "        n=1, \n",
        "        length=1, \n",
        "        S=state_vec[0], \n",
        "        mu=0., \n",
        "        sigma=state_vec[3], \n",
        "        dt=0.1)).numpy()\n",
        "    \n",
        "    # Update time\n",
        "    state_vec[5] += 0.1\n",
        "\n",
        "    if state_vec[4] <= state_vec[5]:\n",
        "      value_call = tf.maximum(0, state_vec[0] - state_vec[1])\n",
        "\n",
        "      # In order for the episode not going on forever.\n",
        "      self._episode_ended = True\n",
        "    else:\n",
        "      value_call = compute_bs_price(\n",
        "          S=state_vec[0],\n",
        "          K=state_vec[1],\n",
        "          r=state_vec[2],\n",
        "          sigma=state_vec[3],\n",
        "          T=state_vec[4],\n",
        "          t=state_vec[5])\n",
        "      \n",
        "    value_stock_position = state_vec[0]*state_vec[-1]\n",
        "\n",
        "    # reward = negative hedge error = Value position in share - value of option\n",
        "    reward = -tf.abs(value_stock_position - value_call).numpy()\n",
        "\n",
        "    self._state = state_vec\n",
        "\n",
        "    if self._episode_ended:\n",
        "      return ts.termination(self._state, reward=reward)\n",
        "    else:\n",
        "      return ts.transition(self._state, reward=reward)\n"
      ],
      "execution_count": 9,
      "outputs": []
    },
    {
      "cell_type": "markdown",
      "metadata": {
        "id": "c6nat08VEASX"
      },
      "source": [
        "Speed comparison between Python environment and wrapped environment"
      ]
    },
    {
      "cell_type": "code",
      "metadata": {
        "id": "fglKzo_xD_co"
      },
      "source": [
        "# Wrap the python environment\n",
        "env = HedgeCallEnv(\n",
        "    S=100., K=100., r=0.01, sigma=1., T=10., t=0.0, init_pos_size=0.0)\n",
        "tf_env = tfae.tf_py_environment.TFPyEnvironment(env)"
      ],
      "execution_count": null,
      "outputs": []
    },
    {
      "cell_type": "code",
      "metadata": {
        "colab": {
          "base_uri": "https://localhost:8080/"
        },
        "id": "jOpNQIIqD72e",
        "outputId": "d522bf6e-9093-4858-da21-1df58253baec"
      },
      "source": [
        "%%time\n",
        "env = HedgeCallEnv(\n",
        "    S=100., K=100., r=0.01, sigma=1., T=10., t=0.0, init_pos_size=0.0)\n",
        "tf_env = tfae.tf_py_environment.TFPyEnvironment(env)\n",
        "tf_env.reset()\n",
        "\n",
        "reward_lst = []\n",
        "\n",
        "# Random action\n",
        "for i in range(10000):\n",
        "  action = np.random.normal(scale=2., size=(1,))\n",
        "  transition = tf_env.step(action)\n",
        "  \n",
        "  reward_lst.append(transition.reward)\n",
        "\n",
        "  if i%1000 == 0:\n",
        "    print(\"round: \", i)\n",
        "#    print(\"reward: \", transition.reward)\n",
        "#    print(\"state: \", transition.observation)\n",
        "\n",
        "print(\"Mean reward random strategy:\", np.mean(reward_lst))"
      ],
      "execution_count": null,
      "outputs": [
        {
          "output_type": "stream",
          "text": [
            "round:  0\n",
            "round:  1000\n",
            "round:  2000\n",
            "round:  3000\n",
            "round:  4000\n",
            "round:  5000\n",
            "round:  6000\n",
            "round:  7000\n",
            "round:  8000\n",
            "round:  9000\n",
            "Mean reward random strategy: -383.54446\n",
            "CPU times: user 32.1 s, sys: 950 ms, total: 33.1 s\n",
            "Wall time: 32.8 s\n"
          ],
          "name": "stdout"
        }
      ]
    },
    {
      "cell_type": "code",
      "metadata": {
        "colab": {
          "base_uri": "https://localhost:8080/"
        },
        "id": "kG4MrVTaEKTI",
        "outputId": "a30f37d9-6071-4ae7-d720-4a6ca88910bd"
      },
      "source": [
        "%%time\n",
        "env = HedgeCallEnv(\n",
        "    S=100., K=100., r=0.01, sigma=1., T=10., t=0.0, init_pos_size=0.0)\n",
        "env.reset()\n",
        "\n",
        "reward_lst = []\n",
        "\n",
        "# Random action\n",
        "for i in range(10000):\n",
        "  action = np.random.normal(scale=2., size=(1,))\n",
        "  transition = env.step(action)\n",
        "  \n",
        "  reward_lst.append(transition.reward)\n",
        "\n",
        "  if i%1000 == 0:\n",
        "    print(\"round: \", i)\n",
        "#    print(\"reward: \", transition.reward)\n",
        "#    print(\"state: \", transition.observation)\n",
        "\n",
        "print(\"Mean reward random strategy:\", np.mean(reward_lst))"
      ],
      "execution_count": null,
      "outputs": [
        {
          "output_type": "stream",
          "text": [
            "round:  0\n",
            "round:  1000\n",
            "round:  2000\n",
            "round:  3000\n",
            "round:  4000\n",
            "round:  5000\n",
            "round:  6000\n",
            "round:  7000\n",
            "round:  8000\n",
            "round:  9000\n",
            "Mean reward random strategy: -1142.4358\n",
            "CPU times: user 28 s, sys: 923 ms, total: 29 s\n",
            "Wall time: 28.6 s\n"
          ],
          "name": "stdout"
        }
      ]
    },
    {
      "cell_type": "code",
      "metadata": {
        "id": "eGTYHgOGB7Wr"
      },
      "source": [
        "\n",
        "from tf_agents.bandits.policies import policy_utilities\n",
        "from tf_agents.bandits.specs import utils as bandit_spec_utils\n",
        "from tf_agents.distributions import masked\n",
        "from tf_agents.policies import tf_policy\n",
        "from tf_agents.specs import tensor_spec\n",
        "from tf_agents.trajectories import policy_step\n",
        "from tf_agents.trajectories import time_step as ts\n",
        "from tf_agents.typing import types\n",
        "from tf_agents.utils import nest_utils\n",
        "\n",
        "class DeltaHedgePolicy(tf_policy.TFPolicy):\n",
        "\n",
        "  def __init__(self, \n",
        "               time_step_spec: ts.TimeStep,\n",
        "               action_spec: types.NestedTensorSpec, \n",
        "               *args, \n",
        "               **kwargs):\n",
        "    observation_and_action_constraint_splitter = (\n",
        "        kwargs.get('observation_and_action_constraint_splitter', None))\n",
        "    self._accepts_per_arm_features = (\n",
        "        kwargs.pop('accepts_per_arm_features', False))\n",
        "\n",
        "    if observation_and_action_constraint_splitter is not None:\n",
        "      if not isinstance(action_spec, tensor_spec.BoundedTensorSpec):\n",
        "        raise NotImplementedError(\n",
        "            'DeltaHedgePolicy only supports action constraints for '\n",
        "            'BoundedTensorSpec action specs.')\n",
        "\n",
        "      action_spec = cast(tensor_spec.BoundedTensorSpec, action_spec)\n",
        "      scalar_shape = action_spec.shape.rank == 0\n",
        "      single_dim_shape = (\n",
        "          action_spec.shape.rank == 1 and action_spec.shape.dims == [1])\n",
        "\n",
        "      if not scalar_shape and not single_dim_shape:\n",
        "        raise NotImplementedError(\n",
        "            'DeltaHedgePolicy only supports action constraints for action specs '\n",
        "            'shaped as () or (1,) or their equivalent list forms.')\n",
        "\n",
        "    super(DeltaHedgePolicy, self).__init__(\n",
        "        time_step_spec, \n",
        "        action_spec, \n",
        "        *args,\n",
        "        **kwargs)\n",
        "\n",
        "  def _variables(self):\n",
        "    return []\n",
        "\n",
        "  def _action(self, time_step, policy_state, seed):\n",
        "    observation_and_action_constraint_splitter = (\n",
        "        self.observation_and_action_constraint_splitter)\n",
        "\n",
        "    outer_dims = nest_utils.get_outer_shape(time_step, self._time_step_spec)\n",
        "    if observation_and_action_constraint_splitter is not None:\n",
        "      observation, mask = observation_and_action_constraint_splitter(\n",
        "          time_step.observation)\n",
        "\n",
        "      action_spec = cast(tensor_spec.BoundedTensorSpec, self.action_spec)\n",
        "      zero_logits = tf.cast(tf.zeros_like(mask), tf.float32)\n",
        "      masked_categorical = masked.MaskedCategorical(zero_logits, mask)\n",
        "      action_ = tf.cast(masked_categorical.sample() + action_spec.minimum,\n",
        "                        action_spec.dtype)\n",
        "\n",
        "      # If the action spec says each action should be shaped (1,), add another\n",
        "      # dimension so the final shape is (B, 1) rather than (B,).\n",
        "      if action_spec.shape.rank == 1:\n",
        "        action_ = tf.expand_dims(action_, axis=-1)\n",
        "      policy_info = tensor_spec.sample_spec_nest(\n",
        "          self._info_spec, outer_dims=outer_dims)\n",
        "    else:\n",
        "      observation = time_step.observation\n",
        "      action_spec = cast(tensor_spec.BoundedTensorSpec, self.action_spec)\n",
        "\n",
        "      if self._accepts_per_arm_features:\n",
        "        max_num_arms = action_spec.maximum - action_spec.minimum + 1\n",
        "        batch_size = tf.shape(time_step.step_type)[0]\n",
        "        num_actions = observation.get(\n",
        "            bandit_spec_utils.NUM_ACTIONS_FEATURE_KEY,\n",
        "            tf.ones(shape=(batch_size,), dtype=tf.int32) * max_num_arms)\n",
        "        mask = tf.sequence_mask(num_actions, max_num_arms)\n",
        "        zero_logits = tf.cast(tf.zeros_like(mask), tf.float32)\n",
        "        masked_categorical = masked.MaskedCategorical(zero_logits, mask)\n",
        "        action_ = tf.nest.map_structure(\n",
        "            lambda t: tf.cast(masked_categorical.sample() + t.minimum, t.dtype),\n",
        "            action_spec)\n",
        "      else:\n",
        "        action_ = tensor_spec.sample_spec_nest(\n",
        "            self._action_spec, seed=seed, outer_dims=outer_dims)\n",
        "\n",
        "      policy_info = tensor_spec.sample_spec_nest(\n",
        "          self._info_spec, outer_dims=outer_dims)\n",
        "\n",
        "    # Update policy info with chosen arm features.\n",
        "    if self._accepts_per_arm_features:\n",
        "      def _gather_fn(t):\n",
        "        return tf.gather(params=t, indices=action_, batch_dims=1)\n",
        "      chosen_arm_features = tf.nest.map_structure(\n",
        "          _gather_fn, observation[bandit_spec_utils.PER_ARM_FEATURE_KEY])\n",
        "\n",
        "      if policy_utilities.has_chosen_arm_features(self._info_spec):\n",
        "        policy_info = policy_info._replace(\n",
        "            chosen_arm_features=chosen_arm_features)\n",
        "\n",
        "    # TODO(b/78181147): Investigate why this control dependency is required.\n",
        "    if time_step is not None:\n",
        "      with tf.control_dependencies(tf.nest.flatten(time_step)):\n",
        "        action_ = tf.nest.map_structure(tf.identity, action_)\n",
        "\n",
        "    if self.emit_log_probability:\n",
        "      if (self._accepts_per_arm_features\n",
        "          or observation_and_action_constraint_splitter is not None):\n",
        "        action_spec = cast(tensor_spec.BoundedTensorSpec, self.action_spec)\n",
        "        log_probability = masked_categorical.log_prob(\n",
        "            action_ - action_spec.minimum)\n",
        "      else:\n",
        "        log_probability = tf.nest.map_structure(\n",
        "            lambda s: _calculate_log_probability(outer_dims, s),\n",
        "            self._action_spec)\n",
        "      policy_info = policy_step.set_log_probability(policy_info,\n",
        "                                                    log_probability)\n",
        "\n",
        "    step = policy_step.PolicyStep(action_, policy_state, policy_info)\n",
        "    return step\n",
        "\n",
        "  def _distribution(self, time_step, policy_state):\n",
        "    raise NotImplementedError(\n",
        "        'RandomTFPolicy does not support distributions yet.')\n",
        "    \n",
        "class DeltaHedgePolicy(tf_policy.TFPolicy):\n",
        "    \n",
        "    def __init__(self, \n",
        "                time_step_spec: ts.TimeStep,\n",
        "                action_spec: types.NestedTensorSpec, \n",
        "                *args, \n",
        "                **kwargs):\n",
        "      super(DeltaHedgePolicy, self).__init__(\n",
        "        time_step_spec, \n",
        "        action_spec, \n",
        "        *args,\n",
        "        **kwargs)\n",
        "\n",
        "    def _variables(self):\n",
        "      return []\n",
        "\n",
        "    def _action(self, time_step, policy_state, seed):\n",
        "\n",
        "      needed_short_stock = -compute_delta(\n",
        "          S=time_step.observation[0],\n",
        "          K=time_step.observation[1],\n",
        "          r=time_step.observation[2],\n",
        "          sigma=time_step.observation[3],\n",
        "          T=time_step.observation[4],\n",
        "          t=time_step.observation[5])\n",
        "  \n",
        "      action = needed_short_stock - time_step.observation[6]\n",
        "\n",
        "      return action\n",
        "\n",
        "    def _distribution(self, time_step, policy_state):\n",
        "      raise NotImplementedError(\n",
        "          \"DeltaHedgePolicy does not support distributions yet.\")"
      ],
      "execution_count": 14,
      "outputs": []
    },
    {
      "cell_type": "code",
      "metadata": {
        "colab": {
          "base_uri": "https://localhost:8080/"
        },
        "id": "1H_W7de1Ib3j",
        "outputId": "82ed3a9a-2ee5-476a-d2ad-eb51bf456e23"
      },
      "source": [
        "\n",
        "environment = HedgeCallEnv(\n",
        "    S=100., K=100., r=0.01, sigma=1., T=10., t=0.0, init_pos_size=0.0)\n",
        "tfae.utils.validate_py_environment(environment, episodes=5)"
      ],
      "execution_count": null,
      "outputs": [
        {
          "output_type": "stream",
          "text": [
            "/usr/local/lib/python3.7/dist-packages/ipykernel_launcher.py:82: RuntimeWarning: overflow encountered in float_scalars\n",
            "/usr/local/lib/python3.7/dist-packages/ipykernel_launcher.py:54: RuntimeWarning: overflow encountered in float_scalars\n"
          ],
          "name": "stderr"
        }
      ]
    },
    {
      "cell_type": "code",
      "metadata": {
        "colab": {
          "base_uri": "https://localhost:8080/"
        },
        "id": "88M8XSjh_lu-",
        "outputId": "73dc17ef-53f5-4d64-f81f-6163cc81ab80"
      },
      "source": [
        "#def delta_action()\n",
        "#compute_delta(S, K, r, sigma, T, t)\n",
        "environment = HedgeCallEnv(\n",
        "    S=100., K=100., r=0.01, sigma=1., T=10., t=0.0, init_pos_size=0.0)\n",
        "environment.reset()\n",
        "\n",
        "reward_lst = []\n",
        "\n",
        "# Random action\n",
        "for i in range(10000):\n",
        "  action = np.random.normal(scale=2., size=(1,))\n",
        "  transition = environment.step(action)\n",
        "  \n",
        "  reward_lst.append(transition.reward)\n",
        "\n",
        "  if i%1000 == 0:\n",
        "    print(\"round: \", i)\n",
        "#    print(\"reward: \", transition.reward)\n",
        "#    print(\"state: \", transition.observation)\n",
        "\n",
        "print(\"Mean reward random strategy:\", np.mean(reward_lst))"
      ],
      "execution_count": null,
      "outputs": [
        {
          "output_type": "stream",
          "text": [
            "Mean reward random strategy: -549.7078\n"
          ],
          "name": "stdout"
        }
      ]
    },
    {
      "cell_type": "code",
      "metadata": {
        "colab": {
          "base_uri": "https://localhost:8080/"
        },
        "id": "Oq9znMPgwD3C",
        "outputId": "f07bce44-6bab-4793-f297-01d29f25fdd3"
      },
      "source": [
        "from tf_agents.policies.tf_policy import TFPolicy\n",
        "from tf_agents.policies.random_py_policy import RandomPyPolicy\n",
        "\n",
        "env =  HedgeCallEnv(\n",
        "    S=100., K=100., r=0.01, sigma=1., T=10., t=0.0, init_pos_size=0.0)\n",
        "policy = RandomPyPolicy(env.time_step_spec(), env.action_spec())\n",
        "# Or policy = agent.policy or agent.collect_policy\n",
        "\n",
        "policy_state = policy.get_initial_state(env.batch_size)\n",
        "time_step = env.reset()\n",
        "\n",
        "while not time_step.is_last():\n",
        "  policy_step = policy.action(time_step, policy_state)\n",
        "  time_step = env.step(policy_step.action)\n",
        "\n",
        "  policy_state = policy_step.state"
      ],
      "execution_count": null,
      "outputs": [
        {
          "output_type": "stream",
          "text": [
            "/usr/local/lib/python3.7/dist-packages/ipykernel_launcher.py:82: RuntimeWarning: overflow encountered in float_scalars\n",
            "/usr/local/lib/python3.7/dist-packages/ipykernel_launcher.py:54: RuntimeWarning: overflow encountered in float_scalars\n"
          ],
          "name": "stderr"
        }
      ]
    },
    {
      "cell_type": "code",
      "metadata": {
        "colab": {
          "base_uri": "https://localhost:8080/",
          "height": 350
        },
        "id": "kIP89OsMN46F",
        "outputId": "42bfb191-e959-4212-a599-866ae4b976b0"
      },
      "source": [
        "env =  HedgeCallEnv(\n",
        "    S=100., K=100., r=0.01, sigma=1., T=10., t=0.0, init_pos_size=0.0)\n",
        "policy = DeltaHedgePolicy(env.time_step_spec(), env.action_spec())\n",
        "# Or policy = agent.policy or agent.collect_policy\n",
        "\n",
        "policy_state = policy.get_initial_state(env.batch_size)\n",
        "time_step = env.reset()\n",
        "\n",
        "while not time_step.is_last():\n",
        "  policy_step = policy.action(time_step, policy_state)\n",
        "  time_step = env.step(policy_step.action)\n",
        "\n",
        "  policy_state = policy_step.state"
      ],
      "execution_count": 15,
      "outputs": [
        {
          "output_type": "error",
          "ename": "AttributeError",
          "evalue": "ignored",
          "traceback": [
            "\u001b[0;31m---------------------------------------------------------------------------\u001b[0m",
            "\u001b[0;31mAttributeError\u001b[0m                            Traceback (most recent call last)",
            "\u001b[0;32m<ipython-input-15-98898f93fc44>\u001b[0m in \u001b[0;36m<module>\u001b[0;34m()\u001b[0m\n\u001b[1;32m      8\u001b[0m \u001b[0;34m\u001b[0m\u001b[0m\n\u001b[1;32m      9\u001b[0m \u001b[0;32mwhile\u001b[0m \u001b[0;32mnot\u001b[0m \u001b[0mtime_step\u001b[0m\u001b[0;34m.\u001b[0m\u001b[0mis_last\u001b[0m\u001b[0;34m(\u001b[0m\u001b[0;34m)\u001b[0m\u001b[0;34m:\u001b[0m\u001b[0;34m\u001b[0m\u001b[0;34m\u001b[0m\u001b[0m\n\u001b[0;32m---> 10\u001b[0;31m   \u001b[0mpolicy_step\u001b[0m \u001b[0;34m=\u001b[0m \u001b[0mpolicy\u001b[0m\u001b[0;34m.\u001b[0m\u001b[0maction\u001b[0m\u001b[0;34m(\u001b[0m\u001b[0mtime_step\u001b[0m\u001b[0;34m,\u001b[0m \u001b[0mpolicy_state\u001b[0m\u001b[0;34m)\u001b[0m\u001b[0;34m\u001b[0m\u001b[0;34m\u001b[0m\u001b[0m\n\u001b[0m\u001b[1;32m     11\u001b[0m   \u001b[0mtime_step\u001b[0m \u001b[0;34m=\u001b[0m \u001b[0menv\u001b[0m\u001b[0;34m.\u001b[0m\u001b[0mstep\u001b[0m\u001b[0;34m(\u001b[0m\u001b[0mpolicy_step\u001b[0m\u001b[0;34m.\u001b[0m\u001b[0maction\u001b[0m\u001b[0;34m)\u001b[0m\u001b[0;34m\u001b[0m\u001b[0;34m\u001b[0m\u001b[0m\n\u001b[1;32m     12\u001b[0m \u001b[0;34m\u001b[0m\u001b[0m\n",
            "\u001b[0;32m/usr/local/lib/python3.7/dist-packages/tf_agents/policies/tf_policy.py\u001b[0m in \u001b[0;36maction\u001b[0;34m(self, time_step, policy_state, seed)\u001b[0m\n\u001b[1;32m    331\u001b[0m     \u001b[0;32mif\u001b[0m \u001b[0mself\u001b[0m\u001b[0;34m.\u001b[0m\u001b[0m_validate_args\u001b[0m\u001b[0;34m:\u001b[0m\u001b[0;34m\u001b[0m\u001b[0;34m\u001b[0m\u001b[0m\n\u001b[1;32m    332\u001b[0m       nest_utils.assert_same_structure(\n\u001b[0;32m--> 333\u001b[0;31m           \u001b[0mstep\u001b[0m\u001b[0;34m.\u001b[0m\u001b[0maction\u001b[0m\u001b[0;34m,\u001b[0m \u001b[0mself\u001b[0m\u001b[0;34m.\u001b[0m\u001b[0m_action_spec\u001b[0m\u001b[0;34m,\u001b[0m\u001b[0;34m\u001b[0m\u001b[0;34m\u001b[0m\u001b[0m\n\u001b[0m\u001b[1;32m    334\u001b[0m           message='action and action_spec structures do not match')\n\u001b[1;32m    335\u001b[0m \u001b[0;34m\u001b[0m\u001b[0m\n",
            "\u001b[0;31mAttributeError\u001b[0m: 'tensorflow.python.framework.ops.EagerTensor' object has no attribute 'action'"
          ]
        }
      ]
    },
    {
      "cell_type": "code",
      "metadata": {
        "colab": {
          "base_uri": "https://localhost:8080/",
          "height": 163
        },
        "id": "AqetPcGiPB9a",
        "outputId": "52606646-a045-4cc2-9cb4-f6a23fa99ee2"
      },
      "source": [
        "time_step.action"
      ],
      "execution_count": 16,
      "outputs": [
        {
          "output_type": "error",
          "ename": "AttributeError",
          "evalue": "ignored",
          "traceback": [
            "\u001b[0;31m---------------------------------------------------------------------------\u001b[0m",
            "\u001b[0;31mAttributeError\u001b[0m                            Traceback (most recent call last)",
            "\u001b[0;32m<ipython-input-16-e8a179f79a36>\u001b[0m in \u001b[0;36m<module>\u001b[0;34m()\u001b[0m\n\u001b[0;32m----> 1\u001b[0;31m \u001b[0mtime_step\u001b[0m\u001b[0;34m.\u001b[0m\u001b[0maction\u001b[0m\u001b[0;34m\u001b[0m\u001b[0;34m\u001b[0m\u001b[0m\n\u001b[0m",
            "\u001b[0;31mAttributeError\u001b[0m: 'TimeStep' object has no attribute 'action'"
          ]
        }
      ]
    },
    {
      "cell_type": "code",
      "metadata": {
        "colab": {
          "base_uri": "https://localhost:8080/",
          "height": 282
        },
        "id": "xfM750J-OPWQ",
        "outputId": "34d57a93-3f37-47a2-f3d0-b59eb577538e"
      },
      "source": [
        "policy.action(time_step, policy_state)"
      ],
      "execution_count": 13,
      "outputs": [
        {
          "output_type": "error",
          "ename": "AttributeError",
          "evalue": "ignored",
          "traceback": [
            "\u001b[0;31m---------------------------------------------------------------------------\u001b[0m",
            "\u001b[0;31mAttributeError\u001b[0m                            Traceback (most recent call last)",
            "\u001b[0;32m<ipython-input-13-d88b4fcad99d>\u001b[0m in \u001b[0;36m<module>\u001b[0;34m()\u001b[0m\n\u001b[0;32m----> 1\u001b[0;31m \u001b[0mpolicy\u001b[0m\u001b[0;34m.\u001b[0m\u001b[0maction\u001b[0m\u001b[0;34m(\u001b[0m\u001b[0mtime_step\u001b[0m\u001b[0;34m,\u001b[0m \u001b[0mpolicy_state\u001b[0m\u001b[0;34m)\u001b[0m\u001b[0;34m\u001b[0m\u001b[0;34m\u001b[0m\u001b[0m\n\u001b[0m",
            "\u001b[0;32m/usr/local/lib/python3.7/dist-packages/tf_agents/policies/tf_policy.py\u001b[0m in \u001b[0;36maction\u001b[0;34m(self, time_step, policy_state, seed)\u001b[0m\n\u001b[1;32m    331\u001b[0m     \u001b[0;32mif\u001b[0m \u001b[0mself\u001b[0m\u001b[0;34m.\u001b[0m\u001b[0m_validate_args\u001b[0m\u001b[0;34m:\u001b[0m\u001b[0;34m\u001b[0m\u001b[0;34m\u001b[0m\u001b[0m\n\u001b[1;32m    332\u001b[0m       nest_utils.assert_same_structure(\n\u001b[0;32m--> 333\u001b[0;31m           \u001b[0mstep\u001b[0m\u001b[0;34m.\u001b[0m\u001b[0maction\u001b[0m\u001b[0;34m,\u001b[0m \u001b[0mself\u001b[0m\u001b[0;34m.\u001b[0m\u001b[0m_action_spec\u001b[0m\u001b[0;34m,\u001b[0m\u001b[0;34m\u001b[0m\u001b[0;34m\u001b[0m\u001b[0m\n\u001b[0m\u001b[1;32m    334\u001b[0m           message='action and action_spec structures do not match')\n\u001b[1;32m    335\u001b[0m \u001b[0;34m\u001b[0m\u001b[0m\n",
            "\u001b[0;31mAttributeError\u001b[0m: 'tensorflow.python.framework.ops.EagerTensor' object has no attribute 'action'"
          ]
        }
      ]
    },
    {
      "cell_type": "code",
      "metadata": {
        "colab": {
          "base_uri": "https://localhost:8080/"
        },
        "id": "xxigR2n0l-6T",
        "outputId": "f6c9ff5f-9966-436c-db21-af3cff19d551"
      },
      "source": [
        "environment = HedgeCallEnv(\n",
        "    S=100., K=100., r=0.01, sigma=1., T=10., t=0.0, init_pos_size=0.0)\n",
        "environment.reset()\n",
        "\n",
        "bs_delta_reward_lst = []\n",
        "\n",
        "# delta hedging action\n",
        "for i in range(10000):\n",
        "  needed_short_stock = -compute_delta(\n",
        "          S=transition.observation[0],\n",
        "          K=transition.observation[1],\n",
        "          r=transition.observation[2],\n",
        "          sigma=transition.observation[3],\n",
        "          T=transition.observation[4],\n",
        "          t=transition.observation[5])\n",
        "  \n",
        "  action = needed_short_stock - transition.observation[6]\n",
        "\n",
        "  transition = environment.step(action)\n",
        "  \n",
        "  bs_delta_reward_lst.append(transition.reward)\n",
        "\n",
        "  if i%1000 == 0:\n",
        "    print(\"round: \", i)\n",
        "\n",
        "print(\"Mean reward bs-delta-hedging strategy:\", np.mean(bs_delta_reward_lst))"
      ],
      "execution_count": null,
      "outputs": [
        {
          "output_type": "stream",
          "text": [
            "round:  0\n",
            "round:  1000\n",
            "round:  2000\n",
            "round:  3000\n",
            "round:  4000\n",
            "round:  5000\n",
            "round:  6000\n",
            "round:  7000\n",
            "round:  8000\n",
            "round:  9000\n",
            "Mean reward bs-delta-hedging strategy: -103.80101\n"
          ],
          "name": "stdout"
        }
      ]
    }
  ]
}