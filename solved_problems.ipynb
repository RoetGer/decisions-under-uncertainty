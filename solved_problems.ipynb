{
  "nbformat": 4,
  "nbformat_minor": 0,
  "metadata": {
    "colab": {
      "name": "solved_problems.ipynb",
      "provenance": [],
      "collapsed_sections": [],
      "authorship_tag": "ABX9TyNQSHN28kKAS2wH3qnI3s+X",
      "include_colab_link": true
    },
    "kernelspec": {
      "name": "python3",
      "display_name": "Python 3"
    },
    "language_info": {
      "name": "python"
    }
  },
  "cells": [
    {
      "cell_type": "markdown",
      "metadata": {
        "id": "view-in-github",
        "colab_type": "text"
      },
      "source": [
        "<a href=\"https://colab.research.google.com/github/RoetGer/decisions-under-uncertainty/blob/main/solved_problems.ipynb\" target=\"_parent\"><img src=\"https://colab.research.google.com/assets/colab-badge.svg\" alt=\"Open In Colab\"/></a>"
      ]
    },
    {
      "cell_type": "markdown",
      "metadata": {
        "id": "xa0cvFBX0oj9"
      },
      "source": [
        "**Ex**: Assume 100 iid samples from a Poisson distribution with mean 1. What is the probabílity that the sum of samples is below 90?\n",
        "\n",
        "Solution approach:\n",
        "\n",
        "*   X_i ~ Pois(lambda)\n",
        "*   Assume Y = sum(X_i)\n",
        "*   Realize that Y = n*mean(X)\n",
        "*   P(Y <= 90) = P(n*mean(X) <= 90) = P(mean(X) <= 90/n) \n",
        "*   Use central limit theorem to approximate distribution of mean(X), that is mean(X) ~ N(lambda, lambda/n)\n",
        "*   P(sqrt(n)(mean(X) - lambda)/sqrt(lambda) <= sqrt(n)(90/n - lambda)/sqrt(lambda))\n",
        "\n"
      ]
    },
    {
      "cell_type": "code",
      "metadata": {
        "id": "RaSrylwGuHle"
      },
      "source": [
        "import matplotlib.pyplot as plt\n",
        "import numpy as np\n",
        "import pandas as pd\n",
        "\n",
        "from scipy.stats import norm\n",
        "\n",
        "plt.rc('figure', figsize=(12, 10))\n",
        "plt.rc('font', size=12)"
      ],
      "execution_count": 49,
      "outputs": []
    },
    {
      "cell_type": "code",
      "metadata": {
        "colab": {
          "base_uri": "https://localhost:8080/"
        },
        "id": "ejhF4OjQ5NIL",
        "outputId": "f87f2122-e2ff-48a0-b770-85950e440579"
      },
      "source": [
        "n = 100\n",
        "val_to_compare = 90\n",
        "pois_lambda = 1\n",
        "\n",
        "stand_X = np.sqrt(n)*(1 - pois_lambda)/np.sqrt(pois_lambda)\n",
        "stand_90 = np.sqrt(n)*(val_to_compare/n - pois_lambda)/np.sqrt(pois_lambda)\n",
        "\n",
        "norm.cdf(stand_90, loc=0, scale=1)"
      ],
      "execution_count": 10,
      "outputs": [
        {
          "output_type": "execute_result",
          "data": {
            "text/plain": [
              "0.15865525393145707"
            ]
          },
          "metadata": {
            "tags": []
          },
          "execution_count": 10
        }
      ]
    },
    {
      "cell_type": "code",
      "metadata": {
        "colab": {
          "base_uri": "https://localhost:8080/"
        },
        "id": "qu7hyU9h6fI2",
        "outputId": "6639871b-57b5-4dbe-fb62-f0a55b97b43f"
      },
      "source": [
        "norm.cdf(0.9, loc=1., scale=np.sqrt(pois_lambda/n))"
      ],
      "execution_count": 11,
      "outputs": [
        {
          "output_type": "execute_result",
          "data": {
            "text/plain": [
              "0.15865525393145707"
            ]
          },
          "metadata": {
            "tags": []
          },
          "execution_count": 11
        }
      ]
    },
    {
      "cell_type": "code",
      "metadata": {
        "colab": {
          "base_uri": "https://localhost:8080/"
        },
        "id": "kIC1IHT16x46",
        "outputId": "dd96e942-3fd6-478b-fd34-afcb9fba1509"
      },
      "source": [
        "norm.cdf(90, loc=n*pois_lambda, scale=np.sqrt(n*pois_lambda))"
      ],
      "execution_count": 13,
      "outputs": [
        {
          "output_type": "execute_result",
          "data": {
            "text/plain": [
              "0.15865525393145707"
            ]
          },
          "metadata": {
            "tags": []
          },
          "execution_count": 13
        }
      ]
    },
    {
      "cell_type": "markdown",
      "metadata": {
        "id": "JnroAoEr7Fee"
      },
      "source": [
        "Simulation study to test results ;)"
      ]
    },
    {
      "cell_type": "code",
      "metadata": {
        "colab": {
          "base_uri": "https://localhost:8080/"
        },
        "id": "8RdAgatS7OES",
        "outputId": "b0517d3d-0073-4c4e-af6b-abfdd4636c15"
      },
      "source": [
        "samples = np.random.poisson(lam=1., size=(100000, n))\n",
        "np.mean(samples.sum(axis=1) < 90)"
      ],
      "execution_count": 22,
      "outputs": [
        {
          "output_type": "execute_result",
          "data": {
            "text/plain": [
              "0.14677"
            ]
          },
          "metadata": {
            "tags": []
          },
          "execution_count": 22
        }
      ]
    },
    {
      "cell_type": "markdown",
      "metadata": {
        "id": "FdAJXAkw8EtH"
      },
      "source": [
        "Difference can be explained that for the actual random variable of sum over the different samples, having a sum of 90 has a positive probability. In contrast, the CLT approximation assigns a probability of 0 to the event of observing 90. As the question asks for below 90, this leads to the difference, as the CDF evaluates X <= 90 instead of X < 90."
      ]
    },
    {
      "cell_type": "code",
      "metadata": {
        "colab": {
          "base_uri": "https://localhost:8080/"
        },
        "id": "cYFtTpIW808B",
        "outputId": "b2524887-e01c-45eb-842f-e8174da99468"
      },
      "source": [
        "norm.cdf(89, loc=n*pois_lambda, scale=np.sqrt(n*pois_lambda))"
      ],
      "execution_count": 23,
      "outputs": [
        {
          "output_type": "execute_result",
          "data": {
            "text/plain": [
              "0.13566606094638267"
            ]
          },
          "metadata": {
            "tags": []
          },
          "execution_count": 23
        }
      ]
    },
    {
      "cell_type": "markdown",
      "metadata": {
        "id": "5y3FcCn59G1V"
      },
      "source": [
        "**Ex2**: Conduct a t-test in Python.\n",
        "\n",
        "Assumptions 2-sample t-test:\n",
        "* Data values must be independent. Measurements for one observation do not affect measurements for any other observation.\n",
        "* Data in each group must be obtained via a random sample from the population.\n",
        "* Data in each group are normally distributed.\n",
        "* Data values are continuous.\n",
        "* The variances for the two independent groups are equal."
      ]
    },
    {
      "cell_type": "code",
      "metadata": {
        "colab": {
          "base_uri": "https://localhost:8080/"
        },
        "id": "3r0LE4Xd9Q1c",
        "outputId": "6f5bff94-2eea-45ea-cd99-c795f58ace9c"
      },
      "source": [
        "import statsmodels.api as sm"
      ],
      "execution_count": 24,
      "outputs": [
        {
          "output_type": "stream",
          "text": [
            "/usr/local/lib/python3.7/dist-packages/statsmodels/tools/_testing.py:19: FutureWarning: pandas.util.testing is deprecated. Use the functions in the public API at pandas.testing instead.\n",
            "  import pandas.util.testing as tm\n"
          ],
          "name": "stderr"
        }
      ]
    },
    {
      "cell_type": "code",
      "metadata": {
        "colab": {
          "base_uri": "https://localhost:8080/",
          "height": 663
        },
        "id": "1WUFD-Qs9Vde",
        "outputId": "c34233e1-2175-495d-b295-5dda8d860dee"
      },
      "source": [
        "import seaborn as sns\n",
        "np.random.seed(5)\n",
        "samples_A = np.random.normal(size=n)\n",
        "samples_B = np.random.normal(size=n, loc=1.)\n",
        "\n",
        "df = pd.DataFrame({\n",
        "    'Observations': np.concatenate([samples_A, samples_B]),\n",
        "    'Group':  np.repeat(['A', 'B'], repeats=n)\n",
        "})\n",
        "\n",
        "sns.distplot(samples)"
      ],
      "execution_count": 50,
      "outputs": [
        {
          "output_type": "stream",
          "text": [
            "/usr/local/lib/python3.7/dist-packages/seaborn/distributions.py:2557: FutureWarning: `distplot` is a deprecated function and will be removed in a future version. Please adapt your code to use either `displot` (a figure-level function with similar flexibility) or `histplot` (an axes-level function for histograms).\n",
            "  warnings.warn(msg, FutureWarning)\n"
          ],
          "name": "stderr"
        },
        {
          "output_type": "execute_result",
          "data": {
            "text/plain": [
              "<matplotlib.axes._subplots.AxesSubplot at 0x7f52220e0210>"
            ]
          },
          "metadata": {
            "tags": []
          },
          "execution_count": 50
        },
        {
          "output_type": "display_data",
          "data": {
            "image/png": "[encoded data removed]",
            "text/plain": [
              "<Figure size 864x720 with 1 Axes>"
            ]
          },
          "metadata": {
            "tags": [],
            "needs_background": "light"
          }
        }
      ]
    },
    {
      "cell_type": "code",
      "metadata": {
        "colab": {
          "base_uri": "https://localhost:8080/",
          "height": 660
        },
        "id": "fBMEnifJHH0C",
        "outputId": "b50fd998-e6e4-4e5b-d183-a362f917c473"
      },
      "source": [
        "df.groupby('Group').Observations.plot.kde()"
      ],
      "execution_count": 51,
      "outputs": [
        {
          "output_type": "execute_result",
          "data": {
            "text/plain": [
              "Group\n",
              "A    AxesSubplot(0.125,0.125;0.775x0.755)\n",
              "B    AxesSubplot(0.125,0.125;0.775x0.755)\n",
              "Name: Observations, dtype: object"
            ]
          },
          "metadata": {
            "tags": []
          },
          "execution_count": 51
        },
        {
          "output_type": "display_data",
          "data": {
            "image/png": "[encoded data removed]",
            "text/plain": [
              "<Figure size 864x720 with 1 Axes>"
            ]
          },
          "metadata": {
            "tags": [],
            "needs_background": "light"
          }
        }
      ]
    },
    {
      "cell_type": "code",
      "metadata": {
        "colab": {
          "base_uri": "https://localhost:8080/"
        },
        "id": "9Hxi5FGRFB1H",
        "outputId": "7fa48af3-e487-4d5b-ce08-61da1b148675"
      },
      "source": [
        "tval, pval, df = sm.stats.ttest_ind(samples_A, samples_B)\n",
        "pval"
      ],
      "execution_count": 37,
      "outputs": [
        {
          "output_type": "execute_result",
          "data": {
            "text/plain": [
              "8.297351792523914e-07"
            ]
          },
          "metadata": {
            "tags": []
          },
          "execution_count": 37
        }
      ]
    },
    {
      "cell_type": "markdown",
      "metadata": {
        "id": "OvBcWddvCule"
      },
      "source": [
        "Ex: Conduct a 2 sample t-test with unequal variance (Welch t-test) in Python.\n",
        "\n",
        "\"\n",
        "In statistics, Welch's t-test, or unequal variances t-test, is a two-sample location test which is used to test the hypothesis that two populations have equal means. It is named for its creator, Bernard Lewis Welch, and is an adaptation of Student's t-test,[1] and is more reliable when the two samples have unequal variances and/or unequal sample sizes\""
      ]
    },
    {
      "cell_type": "markdown",
      "metadata": {
        "id": "tSsL4nU3Cuzi"
      },
      "source": [
        "Ex: Conduct a test for difference in ratios in Python."
      ]
    },
    {
      "cell_type": "markdown",
      "metadata": {
        "id": "UBuBnXERGEUJ"
      },
      "source": [
        "Ex: Conduct an equivalence test in Python"
      ]
    },
    {
      "cell_type": "code",
      "metadata": {
        "id": "Xkg-mXrtGKyT"
      },
      "source": [
        "??sm.stats.ttost_ind"
      ],
      "execution_count": null,
      "outputs": []
    },
    {
      "cell_type": "markdown",
      "metadata": {
        "id": "L14yUAMHCu9A"
      },
      "source": [
        "Ex: Check whether a coin is unbiased (frequentist)"
      ]
    },
    {
      "cell_type": "markdown",
      "metadata": {
        "id": "tPDZb69mCvEz"
      },
      "source": [
        "Ex: Check whether a coin is unbiased (Bayesian)"
      ]
    },
    {
      "cell_type": "markdown",
      "metadata": {
        "id": "IHyDhoMzEO55"
      },
      "source": [
        "Ex: Run Chi-square independence test in Python"
      ]
    },
    {
      "cell_type": "markdown",
      "metadata": {
        "id": "naFUJFGRDmJN"
      },
      "source": [
        "Ex: Run Wilcoxon test in Python"
      ]
    },
    {
      "cell_type": "markdown",
      "metadata": {
        "id": "IiRGmH1rCvMB"
      },
      "source": [
        "Ex: Run ANOVA in Python "
      ]
    },
    {
      "cell_type": "markdown",
      "metadata": {
        "id": "juKT87w1CvUj"
      },
      "source": [
        "Ex: Run Kruskal-Wallis n Python"
      ]
    },
    {
      "cell_type": "markdown",
      "metadata": {
        "id": "PBNCnBgQEBKV"
      },
      "source": [
        "Ex: Create bootstrap confidence intervals in Python"
      ]
    },
    {
      "cell_type": "markdown",
      "metadata": {
        "id": "71TxSfvQEBN2"
      },
      "source": [
        "Ex: Run permutation test in Python"
      ]
    },
    {
      "cell_type": "markdown",
      "metadata": {
        "id": "B7u7lq5PEBRI"
      },
      "source": [
        "Ex: Conduct a sample size computation for t-test"
      ]
    },
    {
      "cell_type": "markdown",
      "metadata": {
        "id": "a1NZiRA8EBT-"
      },
      "source": [
        ""
      ]
    }
  ]
}