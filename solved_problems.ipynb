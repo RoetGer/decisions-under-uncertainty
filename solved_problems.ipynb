{
  "nbformat": 4,
  "nbformat_minor": 0,
  "metadata": {
    "colab": {
      "name": "solved_problems.ipynb",
      "provenance": [],
      "collapsed_sections": [],
      "authorship_tag": "ABX9TyN8a08thYz2zooVwC9qrTOz",
      "include_colab_link": true
    },
    "kernelspec": {
      "name": "python3",
      "display_name": "Python 3"
    },
    "language_info": {
      "name": "python"
    }
  },
  "cells": [
    {
      "cell_type": "markdown",
      "metadata": {
        "id": "view-in-github",
        "colab_type": "text"
      },
      "source": [
        "<a href=\"https://colab.research.google.com/github/RoetGer/decisions-under-uncertainty/blob/main/solved_problems.ipynb\" target=\"_parent\"><img src=\"https://colab.research.google.com/assets/colab-badge.svg\" alt=\"Open In Colab\"/></a>"
      ]
    },
    {
      "cell_type": "markdown",
      "metadata": {
        "id": "xa0cvFBX0oj9"
      },
      "source": [
        "**Ex**: Assume 100 iid samples from a Poisson distribution with mean 1. What is the probabílity that the sum of samples is below 90?\n",
        "\n",
        "Solution approach:\n",
        "\n",
        "*   X_i ~ Pois(lambda)\n",
        "*   Assume Y = sum(X_i)\n",
        "*   Realize that Y = n*mean(X)\n",
        "*   P(Y <= 90) = P(n*mean(X) <= 90) = P(mean(X) <= 90/n) \n",
        "*   Use central limit theorem to approximate distribution of mean(X), that is mean(X) ~ N(lambda, lambda/n)\n",
        "*   P(sqrt(n)(mean(X) - lambda)/sqrt(lambda) <= sqrt(n)(90/n - lambda)/sqrt(lambda))\n",
        "\n"
      ]
    },
    {
      "cell_type": "code",
      "metadata": {
        "id": "RaSrylwGuHle"
      },
      "source": [
        "import matplotlib.pyplot as plt\n",
        "import numpy as np\n",
        "import pandas as pd\n",
        "\n",
        "from scipy.stats import norm\n",
        "\n",
        "plt.rc('figure', figsize=(12, 10))\n",
        "plt.rc('font', size=12)"
      ],
      "execution_count": 1,
      "outputs": []
    },
    {
      "cell_type": "code",
      "metadata": {
        "colab": {
          "base_uri": "https://localhost:8080/"
        },
        "id": "ejhF4OjQ5NIL",
        "outputId": "0de20933-230a-40c2-b4e8-02f441629c2b"
      },
      "source": [
        "n = 100\n",
        "val_to_compare = 90\n",
        "pois_lambda = 1\n",
        "\n",
        "stand_X = np.sqrt(n)*(1 - pois_lambda)/np.sqrt(pois_lambda)\n",
        "stand_90 = np.sqrt(n)*(val_to_compare/n - pois_lambda)/np.sqrt(pois_lambda)\n",
        "\n",
        "norm.cdf(stand_90, loc=0, scale=1)"
      ],
      "execution_count": 2,
      "outputs": [
        {
          "output_type": "execute_result",
          "data": {
            "text/plain": [
              "0.15865525393145707"
            ]
          },
          "metadata": {
            "tags": []
          },
          "execution_count": 2
        }
      ]
    },
    {
      "cell_type": "code",
      "metadata": {
        "colab": {
          "base_uri": "https://localhost:8080/"
        },
        "id": "qu7hyU9h6fI2",
        "outputId": "9234d08d-6a6c-4387-f0bb-90878e28893d"
      },
      "source": [
        "norm.cdf(0.9, loc=1., scale=np.sqrt(pois_lambda/n))"
      ],
      "execution_count": 4,
      "outputs": [
        {
          "output_type": "execute_result",
          "data": {
            "text/plain": [
              "0.15865525393145707"
            ]
          },
          "metadata": {
            "tags": []
          },
          "execution_count": 4
        }
      ]
    },
    {
      "cell_type": "code",
      "metadata": {
        "colab": {
          "base_uri": "https://localhost:8080/"
        },
        "id": "kIC1IHT16x46",
        "outputId": "80be891a-5bb2-4665-98ad-20fefba999e3"
      },
      "source": [
        "norm.cdf(90, loc=n*pois_lambda, scale=np.sqrt(n*pois_lambda))"
      ],
      "execution_count": 5,
      "outputs": [
        {
          "output_type": "execute_result",
          "data": {
            "text/plain": [
              "0.15865525393145707"
            ]
          },
          "metadata": {
            "tags": []
          },
          "execution_count": 5
        }
      ]
    },
    {
      "cell_type": "markdown",
      "metadata": {
        "id": "JnroAoEr7Fee"
      },
      "source": [
        "Simulation study to test results ;)"
      ]
    },
    {
      "cell_type": "code",
      "metadata": {
        "colab": {
          "base_uri": "https://localhost:8080/"
        },
        "id": "8RdAgatS7OES",
        "outputId": "f4215dc7-eaf9-44e2-aa76-a8390664cdee"
      },
      "source": [
        "samples = np.random.poisson(lam=1., size=(100000, n))\n",
        "np.mean(samples.sum(axis=1) < 90)"
      ],
      "execution_count": 6,
      "outputs": [
        {
          "output_type": "execute_result",
          "data": {
            "text/plain": [
              "0.14686"
            ]
          },
          "metadata": {
            "tags": []
          },
          "execution_count": 6
        }
      ]
    },
    {
      "cell_type": "markdown",
      "metadata": {
        "id": "FdAJXAkw8EtH"
      },
      "source": [
        "Difference can be explained that for the actual random variable of sum over the different samples, having a sum of 90 has a positive probability. In contrast, the CLT approximation assigns a probability of 0 to the event of observing 90. As the question asks for below 90, this leads to the difference, as the CDF evaluates X <= 90 instead of X < 90."
      ]
    },
    {
      "cell_type": "code",
      "metadata": {
        "colab": {
          "base_uri": "https://localhost:8080/"
        },
        "id": "cYFtTpIW808B",
        "outputId": "b552c73d-a58b-4025-d7d4-b49b385ac9ce"
      },
      "source": [
        "norm.cdf(89, loc=n*pois_lambda, scale=np.sqrt(n*pois_lambda))"
      ],
      "execution_count": 7,
      "outputs": [
        {
          "output_type": "execute_result",
          "data": {
            "text/plain": [
              "0.13566606094638267"
            ]
          },
          "metadata": {
            "tags": []
          },
          "execution_count": 7
        }
      ]
    },
    {
      "cell_type": "markdown",
      "metadata": {
        "id": "5y3FcCn59G1V"
      },
      "source": [
        "**Ex2**: Conduct a t-test in Python.\n",
        "\n",
        "Assumptions 2-sample t-test:\n",
        "* Data values must be independent. Measurements for one observation do not affect measurements for any other observation.\n",
        "* Data in each group must be obtained via a random sample from the population.\n",
        "* Data in each group are normally distributed.\n",
        "* Data values are continuous.\n",
        "* The variances for the two independent groups are equal."
      ]
    },
    {
      "cell_type": "code",
      "metadata": {
        "colab": {
          "base_uri": "https://localhost:8080/"
        },
        "id": "3r0LE4Xd9Q1c",
        "outputId": "19efc1b1-622d-4ba8-d9cb-369a55943e11"
      },
      "source": [
        "import statsmodels.api as sm"
      ],
      "execution_count": 8,
      "outputs": [
        {
          "output_type": "stream",
          "text": [
            "/usr/local/lib/python3.7/dist-packages/statsmodels/tools/_testing.py:19: FutureWarning: pandas.util.testing is deprecated. Use the functions in the public API at pandas.testing instead.\n",
            "  import pandas.util.testing as tm\n"
          ],
          "name": "stderr"
        }
      ]
    },
    {
      "cell_type": "code",
      "metadata": {
        "id": "1WUFD-Qs9Vde"
      },
      "source": [
        "import seaborn as sns\n",
        "np.random.seed(5)\n",
        "samples_A = np.random.normal(size=n)\n",
        "samples_B = np.random.normal(size=n, loc=1.)\n",
        "\n",
        "df = pd.DataFrame({\n",
        "    'Observations': np.concatenate([samples_A, samples_B]),\n",
        "    'Group':  np.repeat(['A', 'B'], repeats=n)\n",
        "})"
      ],
      "execution_count": 10,
      "outputs": []
    },
    {
      "cell_type": "code",
      "metadata": {
        "colab": {
          "base_uri": "https://localhost:8080/",
          "height": 660
        },
        "id": "fBMEnifJHH0C",
        "outputId": "056ea2cb-9e16-4edb-bf65-efd51d0ee816"
      },
      "source": [
        "df.groupby('Group').Observations.plot.kde()"
      ],
      "execution_count": 11,
      "outputs": [
        {
          "output_type": "execute_result",
          "data": {
            "text/plain": [
              "Group\n",
              "A    AxesSubplot(0.125,0.125;0.775x0.755)\n",
              "B    AxesSubplot(0.125,0.125;0.775x0.755)\n",
              "Name: Observations, dtype: object"
            ]
          },
          "metadata": {
            "tags": []
          },
          "execution_count": 11
        },
        {
          "output_type": "display_data",
          "data": {
            "image/png": "[encoded data removed]",
            "text/plain": [
              "<Figure size 864x720 with 1 Axes>"
            ]
          },
          "metadata": {
            "tags": [],
            "needs_background": "light"
          }
        }
      ]
    },
    {
      "cell_type": "code",
      "metadata": {
        "colab": {
          "base_uri": "https://localhost:8080/"
        },
        "id": "9Hxi5FGRFB1H",
        "outputId": "7fa48af3-e487-4d5b-ce08-61da1b148675"
      },
      "source": [
        "'''\n",
        "Options for alternative-parameter:\n",
        "'two-sided' (default): H1: difference in means not equal to value\n",
        "\n",
        "'larger' :   H1: difference in means larger than value\n",
        "\n",
        "'smaller' :  H1: difference in means smaller than value\n",
        "'''\n",
        "\n",
        "tval, pval, df = sm.stats.ttest_ind(samples_A, samples_B)\n",
        "pval"
      ],
      "execution_count": 37,
      "outputs": [
        {
          "output_type": "execute_result",
          "data": {
            "text/plain": [
              "8.297351792523914e-07"
            ]
          },
          "metadata": {
            "tags": []
          },
          "execution_count": 37
        }
      ]
    },
    {
      "cell_type": "markdown",
      "metadata": {
        "id": "OvBcWddvCule"
      },
      "source": [
        "Ex: Conduct a 2 sample t-test with unequal variance (Welch t-test) in Python.\n",
        "\n",
        "\"\n",
        "In statistics, Welch's t-test, or unequal variances t-test, is a two-sample location test which is used to test the hypothesis that two populations have equal means. It is named for its creator, Bernard Lewis Welch, and is an adaptation of Student's t-test, and is more reliable when the two samples have unequal variances and/or unequal sample sizes\""
      ]
    },
    {
      "cell_type": "code",
      "metadata": {
        "colab": {
          "base_uri": "https://localhost:8080/",
          "height": 595
        },
        "id": "3GMV4agzNF9C",
        "outputId": "055f711e-9435-4d7d-b8ee-e8f518abcce4"
      },
      "source": [
        "import seaborn as sns\n",
        "np.random.seed(5)\n",
        "samples_A = np.random.normal(size=n)\n",
        "samples_B = np.random.normal(size=n, loc=0.25, scale=1.5)\n",
        "\n",
        "df = pd.DataFrame({\n",
        "    'Observations': np.concatenate([samples_A, samples_B]),\n",
        "    'Group':  np.repeat(['A', 'B'], repeats=n)\n",
        "})\n",
        "\n",
        "df.groupby('Group').Observations.plot.kde();"
      ],
      "execution_count": 22,
      "outputs": [
        {
          "output_type": "display_data",
          "data": {
            "image/png": "[encoded data removed]",
            "text/plain": [
              "<Figure size 864x720 with 1 Axes>"
            ]
          },
          "metadata": {
            "tags": [],
            "needs_background": "light"
          }
        }
      ]
    },
    {
      "cell_type": "code",
      "metadata": {
        "colab": {
          "base_uri": "https://localhost:8080/"
        },
        "id": "UCYYff_nNAlw",
        "outputId": "d1e111e1-1fb9-4ebb-9b88-3f9d22eb6656"
      },
      "source": [
        "# Assumption same variance\n",
        "tval, pval, df = sm.stats.ttest_ind(samples_A, samples_B)\n",
        "print('Same variance:', pval)\n",
        "\n",
        "tval, pval, df = sm.stats.ttest_ind(samples_A, samples_B, usevar='unequal')\n",
        "print('Different variance:', pval)"
      ],
      "execution_count": 21,
      "outputs": [
        {
          "output_type": "stream",
          "text": [
            "Same variance: 0.2738083098651565\n",
            "Different variance: 0.27410098457197574\n"
          ],
          "name": "stdout"
        }
      ]
    },
    {
      "cell_type": "markdown",
      "metadata": {
        "id": "tSsL4nU3Cuzi"
      },
      "source": [
        "Ex: Conduct a test for difference in ratios in Python."
      ]
    },
    {
      "cell_type": "markdown",
      "metadata": {
        "id": "UBuBnXERGEUJ"
      },
      "source": [
        "Ex: Conduct an equivalence test in Python"
      ]
    },
    {
      "cell_type": "code",
      "metadata": {
        "id": "Xkg-mXrtGKyT"
      },
      "source": [
        "??sm.stats.ttost_ind"
      ],
      "execution_count": null,
      "outputs": []
    },
    {
      "cell_type": "markdown",
      "metadata": {
        "id": "L14yUAMHCu9A"
      },
      "source": [
        "Ex: Check whether a coin is unbiased (frequentist)"
      ]
    },
    {
      "cell_type": "markdown",
      "metadata": {
        "id": "tPDZb69mCvEz"
      },
      "source": [
        "Ex: Check whether a coin is unbiased (Bayesian)"
      ]
    },
    {
      "cell_type": "markdown",
      "metadata": {
        "id": "IHyDhoMzEO55"
      },
      "source": [
        "Ex: Run Chi-square independence test in Python"
      ]
    },
    {
      "cell_type": "markdown",
      "metadata": {
        "id": "SEKPk-rJQkzZ"
      },
      "source": [
        "Ex: Run a Mann-Whitney-U-test in Python\n",
        "\n",
        "**From statsmodels documentation**:\n",
        "\n",
        "Statistics and tests for the probability that x1 has larger values than x2.\n",
        "\n",
        "p is the probability that a random draw from the population of the first sample has a larger value than a random draw from the population of the second sample, specifically\n",
        "\n",
        "p = P(x1 > x2) + 0.5 * P(x1 = x2)\n",
        "\n",
        "This is a measure underlying Wilcoxon-Mann-Whitney’s U test, Fligner-Policello test and Brunner-Munzel test, and Inference is based on the asymptotic distribution of the Brunner-Munzel test. The half probability for ties corresponds to the use of midranks and make it valid for discrete variables.\n",
        "\n",
        "The Null hypothesis for stochastic equality is p = 0.5, which corresponds to the Brunner-Munzel test.\n",
        "\n",
        "Assumptions: \n",
        "* equal variance \n",
        "* or equal distribution under the Null hypothesis. \n",
        "\n",
        "Variants:\n",
        "* Fligner-Policello test allows for unequal variances but assumes continuous distribution, i.e. no ties. \n",
        "* Brunner-Munzel extend the test to allow for unequal variance and discrete or ordered categorical random variables.\n",
        "\n",
        "Brunner and Munzel recommended to estimate the p-value by t-distribution when the size of data is 50 or less. If the size is lower than 10, it would be better to use permuted Brunner Munzel test for the test of stochastic equality.\n",
        "\n",
        "\n",
        "Scipy test alternatives:\n",
        "The alternative hypothesis, H1, has to be one of the following:\n",
        "\n",
        "  * 'two-sided' (default): H1: difference in means not equal to value\n",
        "  * 'larger' :   H1: difference in means larger than value\n",
        "  * 'smaller' :  H1: difference in means smaller than value"
      ]
    },
    {
      "cell_type": "code",
      "metadata": {
        "colab": {
          "base_uri": "https://localhost:8080/",
          "height": 611
        },
        "id": "d_wEJa_uQpik",
        "outputId": "6a9eac22-a82d-4fcb-8249-860b01d177cb"
      },
      "source": [
        "import scipy.stats as sps\n",
        "import seaborn as sns\n",
        "\n",
        "np.random.seed(5)\n",
        "n = 100\n",
        "samples_A = np.random.normal(size=n)\n",
        "samples_B = np.random.normal(size=n, loc=2, scale=0.5)\n",
        "\n",
        "df = pd.DataFrame({\n",
        "    'Observations': np.concatenate([samples_A, samples_B]),\n",
        "    'Group':  np.repeat(['A', 'B'], repeats=n)\n",
        "})\n",
        "\n",
        "df.groupby('Group').Observations.plot.kde(legend=True)\n",
        "\n",
        "sps.mannwhitneyu(samples_A, samples_B, alternative='less') #ttest_ind(samples_A, samples_B)"
      ],
      "execution_count": 12,
      "outputs": [
        {
          "output_type": "execute_result",
          "data": {
            "text/plain": [
              "MannwhitneyuResult(statistic=405.0, pvalue=1.517061687331143e-29)"
            ]
          },
          "metadata": {
            "tags": []
          },
          "execution_count": 12
        },
        {
          "output_type": "display_data",
          "data": {
            "image/png": "[encoded data removed]",
            "text/plain": [
              "<Figure size 864x720 with 1 Axes>"
            ]
          },
          "metadata": {
            "tags": [],
            "needs_background": "light"
          }
        }
      ]
    },
    {
      "cell_type": "code",
      "metadata": {
        "colab": {
          "base_uri": "https://localhost:8080/",
          "height": 175
        },
        "id": "pA1mkkwtRSN4",
        "outputId": "0c122ffd-3bf3-4eeb-d40e-a287ca7bc222"
      },
      "source": [
        "import statsmodels.stats.api.n\n",
        "statsmodels.stats.nonparametric"
      ],
      "execution_count": 1,
      "outputs": [
        {
          "output_type": "error",
          "ename": "AttributeError",
          "evalue": "ignored",
          "traceback": [
            "\u001b[0;31m---------------------------------------------------------------------------\u001b[0m",
            "\u001b[0;31mAttributeError\u001b[0m                            Traceback (most recent call last)",
            "\u001b[0;32m<ipython-input-1-eef512becb98>\u001b[0m in \u001b[0;36m<module>\u001b[0;34m()\u001b[0m\n\u001b[1;32m      1\u001b[0m \u001b[0;32mimport\u001b[0m \u001b[0mstatsmodels\u001b[0m\u001b[0;34m\u001b[0m\u001b[0;34m\u001b[0m\u001b[0m\n\u001b[0;32m----> 2\u001b[0;31m \u001b[0mstatsmodels\u001b[0m\u001b[0;34m.\u001b[0m\u001b[0mstats\u001b[0m\u001b[0;34m.\u001b[0m\u001b[0mnonparametric\u001b[0m\u001b[0;34m\u001b[0m\u001b[0;34m\u001b[0m\u001b[0m\n\u001b[0m",
            "\u001b[0;31mAttributeError\u001b[0m: module 'statsmodels' has no attribute 'stats'"
          ]
        }
      ]
    },
    {
      "cell_type": "code",
      "metadata": {
        "colab": {
          "base_uri": "https://localhost:8080/",
          "height": 363
        },
        "id": "z1EElJ_gRxVo",
        "outputId": "fbc93947-ae7a-4a32-b0f8-05d85844cdab"
      },
      "source": [
        "!pip install --upgrade statsmodels"
      ],
      "execution_count": 27,
      "outputs": [
        {
          "output_type": "stream",
          "text": [
            "Collecting statsmodels\n",
            "\u001b[?25l  Downloading https://files.pythonhosted.org/packages/da/69/8eef30a6237c54f3c0b524140e2975f4b1eea3489b45eb3339574fc8acee/statsmodels-0.12.2-cp37-cp37m-manylinux1_x86_64.whl (9.5MB)\n",
            "\u001b[K     |████████████████████████████████| 9.5MB 3.1MB/s \n",
            "\u001b[?25hRequirement already satisfied, skipping upgrade: scipy>=1.1 in /usr/local/lib/python3.7/dist-packages (from statsmodels) (1.4.1)\n",
            "Requirement already satisfied, skipping upgrade: numpy>=1.15 in /usr/local/lib/python3.7/dist-packages (from statsmodels) (1.19.5)\n",
            "Requirement already satisfied, skipping upgrade: pandas>=0.21 in /usr/local/lib/python3.7/dist-packages (from statsmodels) (1.1.5)\n",
            "Requirement already satisfied, skipping upgrade: patsy>=0.5 in /usr/local/lib/python3.7/dist-packages (from statsmodels) (0.5.1)\n",
            "Requirement already satisfied, skipping upgrade: pytz>=2017.2 in /usr/local/lib/python3.7/dist-packages (from pandas>=0.21->statsmodels) (2018.9)\n",
            "Requirement already satisfied, skipping upgrade: python-dateutil>=2.7.3 in /usr/local/lib/python3.7/dist-packages (from pandas>=0.21->statsmodels) (2.8.1)\n",
            "Requirement already satisfied, skipping upgrade: six in /usr/local/lib/python3.7/dist-packages (from patsy>=0.5->statsmodels) (1.15.0)\n",
            "Installing collected packages: statsmodels\n",
            "  Found existing installation: statsmodels 0.10.2\n",
            "    Uninstalling statsmodels-0.10.2:\n",
            "      Successfully uninstalled statsmodels-0.10.2\n",
            "Successfully installed statsmodels-0.12.2\n"
          ],
          "name": "stdout"
        },
        {
          "output_type": "display_data",
          "data": {
            "application/vnd.colab-display-data+json": {
              "pip_warning": {
                "packages": [
                  "statsmodels"
                ]
              }
            }
          },
          "metadata": {
            "tags": []
          }
        }
      ]
    },
    {
      "cell_type": "markdown",
      "metadata": {
        "id": "naFUJFGRDmJN"
      },
      "source": [
        "Ex: Run Wilcoxon test in Python"
      ]
    },
    {
      "cell_type": "markdown",
      "metadata": {
        "id": "IiRGmH1rCvMB"
      },
      "source": [
        "Ex: Run ANOVA in Python\n",
        "\n",
        "Assumptions:\n",
        "\n",
        "* **Normality** – That each sample is taken from a normally distributed population\n",
        "* **Sample independence** – that each sample has been drawn independently of the other samples\n",
        "* **Variance Equality** – That the variance of data in the different groups should be the same\n",
        "* Your **dependent variable** should be **continuous** – e.g., measured on a scale which can be subdivided using increments (i.e. grams, milligrams)"
      ]
    },
    {
      "cell_type": "code",
      "metadata": {
        "colab": {
          "base_uri": "https://localhost:8080/"
        },
        "id": "Qkb3l-amU1-V",
        "outputId": "2fcd4e8d-8b25-425b-805b-202ac5321142"
      },
      "source": [
        "import scipy.stats as sps\n",
        "\n",
        "# From scipy's f_oneway documentation\n",
        "tillamook = [0.0571, 0.0813, 0.0831, 0.0976, 0.0817, 0.0859, 0.0735,\n",
        "             0.0659, 0.0923, 0.0836]\n",
        "newport = [0.0873, 0.0662, 0.0672, 0.0819, 0.0749, 0.0649, 0.0835,\n",
        "           0.0725]\n",
        "petersburg = [0.0974, 0.1352, 0.0817, 0.1016, 0.0968, 0.1064, 0.105]\n",
        "magadan = [0.1033, 0.0915, 0.0781, 0.0685, 0.0677, 0.0697, 0.0764,\n",
        "           0.0689]\n",
        "tvarminne = [0.0703, 0.1026, 0.0956, 0.0973, 0.1039, 0.1045]\n",
        "\n",
        "sps.f_oneway(tillamook, newport, petersburg, magadan, tvarminne)"
      ],
      "execution_count": 4,
      "outputs": [
        {
          "output_type": "execute_result",
          "data": {
            "text/plain": [
              "F_onewayResult(statistic=7.121019471642447, pvalue=0.0002812242314534544)"
            ]
          },
          "metadata": {
            "tags": []
          },
          "execution_count": 4
        }
      ]
    },
    {
      "cell_type": "markdown",
      "metadata": {
        "id": "juKT87w1CvUj"
      },
      "source": [
        "Ex: Run Kruskal-Wallis in Python\n",
        "\n",
        "Alternative to ANOVA, when its assumptions are violated.\n",
        "\n",
        "Source: https://www.statisticshowto.com/kruskal-wallis/\n",
        "\n",
        "* H0: Population median of all of the groups are equal\n",
        "* H1: At least one median is different\n",
        "\n",
        "Assumptions:\n",
        "* One **independent variable** with **two or more levels** (independent groups). The test is more commonly used when you have three or more levels. For two levels, consider using the Mann Whitney U Test instead.\n",
        "* **Ordinal scale, Ratio Scale or Interval scale** dependent variables.\n",
        "* Your observations should be **independent**.\n",
        "* All groups should have the **same shape distributions**.\n",
        "\n"
      ]
    },
    {
      "cell_type": "code",
      "metadata": {
        "colab": {
          "base_uri": "https://localhost:8080/"
        },
        "id": "pO_ngNH7Ygg2",
        "outputId": "c8de577d-d41f-4131-d6b1-50954f5f30e7"
      },
      "source": [
        "sps.kruskal(tillamook, newport, petersburg, magadan, tvarminne)"
      ],
      "execution_count": 5,
      "outputs": [
        {
          "output_type": "execute_result",
          "data": {
            "text/plain": [
              "KruskalResult(statistic=16.404810589080256, pvalue=0.0025214014537637097)"
            ]
          },
          "metadata": {
            "tags": []
          },
          "execution_count": 5
        }
      ]
    },
    {
      "cell_type": "markdown",
      "metadata": {
        "id": "PBNCnBgQEBKV"
      },
      "source": [
        "Ex: Create bootstrap confidence intervals in Python"
      ]
    },
    {
      "cell_type": "markdown",
      "metadata": {
        "id": "71TxSfvQEBN2"
      },
      "source": [
        "Ex: Run permutation test in Python"
      ]
    },
    {
      "cell_type": "markdown",
      "metadata": {
        "id": "B7u7lq5PEBRI"
      },
      "source": [
        "Ex: Conduct a sample size computation for t-test"
      ]
    },
    {
      "cell_type": "markdown",
      "metadata": {
        "id": "a1NZiRA8EBT-"
      },
      "source": [
        ""
      ]
    }
  ]
}